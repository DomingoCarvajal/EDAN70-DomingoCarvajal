{
 "cells": [
  {
   "cell_type": "markdown",
   "metadata": {
    "id": "kj-UaZXZ4oFq"
   },
   "source": [
    "# Anomaly Detection in a time series.\n",
    "\n",
    "### **Implementation in webserver request time in LTH's moodle server**"
   ]
  },
  {
   "cell_type": "markdown",
   "metadata": {
    "id": "itiejEUrd7yw"
   },
   "source": [
    "1. Dependencies"
   ]
  },
  {
   "cell_type": "code",
   "execution_count": 2,
   "metadata": {},
   "outputs": [
    {
     "name": "stdout",
     "output_type": "stream",
     "text": [
      "Collecting tensorflow\n",
      "  Downloading tensorflow-2.13.0rc0-cp310-cp310-macosx_12_0_arm64.whl (2.0 kB)\n",
      "Collecting tensorflow-macos==2.13.0-rc0 (from tensorflow)\n",
      "  Downloading tensorflow_macos-2.13.0rc0-cp310-cp310-macosx_12_0_arm64.whl (189.3 MB)\n",
      "\u001b[2K     \u001b[90m━━━━━━━━━━━━━━━━━━━━━━━━━━━━━━━━━━━━━━━\u001b[0m \u001b[32m189.3/189.3 MB\u001b[0m \u001b[31m5.7 MB/s\u001b[0m eta \u001b[36m0:00:00\u001b[0m00:01\u001b[0m00:01\u001b[0m\n",
      "\u001b[?25hCollecting absl-py>=1.0.0 (from tensorflow-macos==2.13.0-rc0->tensorflow)\n",
      "  Downloading absl_py-1.4.0-py3-none-any.whl (126 kB)\n",
      "\u001b[2K     \u001b[90m━━━━━━━━━━━━━━━━━━━━━━━━━━━━━━━━━━━━━━━\u001b[0m \u001b[32m126.5/126.5 kB\u001b[0m \u001b[31m4.0 MB/s\u001b[0m eta \u001b[36m0:00:00\u001b[0m\n",
      "\u001b[?25hCollecting astunparse>=1.6.0 (from tensorflow-macos==2.13.0-rc0->tensorflow)\n",
      "  Downloading astunparse-1.6.3-py2.py3-none-any.whl (12 kB)\n",
      "Collecting flatbuffers>=23.1.21 (from tensorflow-macos==2.13.0-rc0->tensorflow)\n",
      "  Downloading flatbuffers-23.5.9-py2.py3-none-any.whl (26 kB)\n",
      "Collecting gast<=0.4.0,>=0.2.1 (from tensorflow-macos==2.13.0-rc0->tensorflow)\n",
      "  Downloading gast-0.4.0-py3-none-any.whl (9.8 kB)\n",
      "Collecting google-pasta>=0.1.1 (from tensorflow-macos==2.13.0-rc0->tensorflow)\n",
      "  Downloading google_pasta-0.2.0-py3-none-any.whl (57 kB)\n",
      "\u001b[2K     \u001b[90m━━━━━━━━━━━━━━━━━━━━━━━━━━━━━━━━━━━━━━━━\u001b[0m \u001b[32m57.5/57.5 kB\u001b[0m \u001b[31m1.9 MB/s\u001b[0m eta \u001b[36m0:00:00\u001b[0m\n",
      "\u001b[?25hCollecting h5py>=2.9.0 (from tensorflow-macos==2.13.0-rc0->tensorflow)\n",
      "  Downloading h5py-3.8.0-cp310-cp310-macosx_11_0_arm64.whl (2.6 MB)\n",
      "\u001b[2K     \u001b[90m━━━━━━━━━━━━━━━━━━━━━━━━━━━━━━━━━━━━━━━━\u001b[0m \u001b[32m2.6/2.6 MB\u001b[0m \u001b[31m6.6 MB/s\u001b[0m eta \u001b[36m0:00:00\u001b[0ma \u001b[36m0:00:01\u001b[0m\n",
      "\u001b[?25hCollecting libclang>=13.0.0 (from tensorflow-macos==2.13.0-rc0->tensorflow)\n",
      "  Downloading libclang-16.0.0-py2.py3-none-macosx_11_0_arm64.whl (24.3 MB)\n",
      "\u001b[2K     \u001b[90m━━━━━━━━━━━━━━━━━━━━━━━━━━━━━━━━━━━━━━━━\u001b[0m \u001b[32m24.3/24.3 MB\u001b[0m \u001b[31m7.6 MB/s\u001b[0m eta \u001b[36m0:00:00\u001b[0m00:01\u001b[0m00:01\u001b[0m\n",
      "\u001b[?25hRequirement already satisfied: numpy>=1.22 in /Users/domingocarvajal/.pyenv/versions/3.10.4/lib/python3.10/site-packages (from tensorflow-macos==2.13.0-rc0->tensorflow) (1.24.3)\n",
      "Collecting opt-einsum>=2.3.2 (from tensorflow-macos==2.13.0-rc0->tensorflow)\n",
      "  Downloading opt_einsum-3.3.0-py3-none-any.whl (65 kB)\n",
      "\u001b[2K     \u001b[90m━━━━━━━━━━━━━━━━━━━━━━━━━━━━━━━━━━━━━━━━\u001b[0m \u001b[32m65.5/65.5 kB\u001b[0m \u001b[31m1.7 MB/s\u001b[0m eta \u001b[36m0:00:00\u001b[0m\n",
      "\u001b[?25hRequirement already satisfied: packaging in /Users/domingocarvajal/.pyenv/versions/3.10.4/lib/python3.10/site-packages (from tensorflow-macos==2.13.0-rc0->tensorflow) (23.1)\n",
      "Collecting protobuf!=4.21.0,!=4.21.1,!=4.21.2,!=4.21.3,!=4.21.4,!=4.21.5,<5.0.0dev,>=3.20.3 (from tensorflow-macos==2.13.0-rc0->tensorflow)\n",
      "  Downloading protobuf-4.23.1-cp37-abi3-macosx_10_9_universal2.whl (400 kB)\n",
      "\u001b[2K     \u001b[90m━━━━━━━━━━━━━━━━━━━━━━━━━━━━━━━━━━━━━━━\u001b[0m \u001b[32m400.3/400.3 kB\u001b[0m \u001b[31m5.5 MB/s\u001b[0m eta \u001b[36m0:00:00\u001b[0m00:01\u001b[0m00:01\u001b[0m\n",
      "\u001b[?25hRequirement already satisfied: setuptools in /Users/domingocarvajal/.pyenv/versions/3.10.4/lib/python3.10/site-packages (from tensorflow-macos==2.13.0-rc0->tensorflow) (58.1.0)\n",
      "Requirement already satisfied: six>=1.12.0 in /Users/domingocarvajal/.pyenv/versions/3.10.4/lib/python3.10/site-packages (from tensorflow-macos==2.13.0-rc0->tensorflow) (1.16.0)\n",
      "Collecting termcolor>=1.1.0 (from tensorflow-macos==2.13.0-rc0->tensorflow)\n",
      "  Downloading termcolor-2.3.0-py3-none-any.whl (6.9 kB)\n",
      "Collecting typing-extensions>=3.6.6 (from tensorflow-macos==2.13.0-rc0->tensorflow)\n",
      "  Downloading typing_extensions-4.6.0-py3-none-any.whl (30 kB)\n",
      "Collecting wrapt<1.15,>=1.11.0 (from tensorflow-macos==2.13.0-rc0->tensorflow)\n",
      "  Downloading wrapt-1.14.1-cp310-cp310-macosx_11_0_arm64.whl (35 kB)\n",
      "Collecting grpcio<2.0,>=1.24.3 (from tensorflow-macos==2.13.0-rc0->tensorflow)\n",
      "  Downloading grpcio-1.55.0-cp310-cp310-macosx_12_0_universal2.whl (8.7 MB)\n",
      "\u001b[2K     \u001b[90m━━━━━━━━━━━━━━━━━━━━━━━━━━━━━━━━━━━━━━━━\u001b[0m \u001b[32m8.7/8.7 MB\u001b[0m \u001b[31m6.2 MB/s\u001b[0m eta \u001b[36m0:00:00\u001b[0m00:01\u001b[0m00:01\u001b[0m\n",
      "\u001b[?25hCollecting tensorboard<2.14,>=2.13 (from tensorflow-macos==2.13.0-rc0->tensorflow)\n",
      "  Downloading tensorboard-2.13.0-py3-none-any.whl (5.6 MB)\n",
      "\u001b[2K     \u001b[90m━━━━━━━━━━━━━━━━━━━━━━━━━━━━━━━━━━━━━━━━\u001b[0m \u001b[32m5.6/5.6 MB\u001b[0m \u001b[31m7.4 MB/s\u001b[0m eta \u001b[36m0:00:00\u001b[0m00:01\u001b[0m00:01\u001b[0m\n",
      "\u001b[?25hCollecting tensorflow-estimator<2.14,>=2.13.0rc0 (from tensorflow-macos==2.13.0-rc0->tensorflow)\n",
      "  Downloading tensorflow_estimator-2.13.0rc0-py2.py3-none-any.whl (440 kB)\n",
      "\u001b[2K     \u001b[90m━━━━━━━━━━━━━━━━━━━━━━━━━━━━━━━━━━━━━━━\u001b[0m \u001b[32m440.8/440.8 kB\u001b[0m \u001b[31m6.0 MB/s\u001b[0m eta \u001b[36m0:00:00\u001b[0ma \u001b[36m0:00:01\u001b[0m\n",
      "\u001b[?25hCollecting keras<2.14,>=2.13.1rc0 (from tensorflow-macos==2.13.0-rc0->tensorflow)\n",
      "  Downloading keras-2.13.1rc0-py3-none-any.whl (1.7 MB)\n",
      "\u001b[2K     \u001b[90m━━━━━━━━━━━━━━━━━━━━━━━━━━━━━━━━━━━━━━━━\u001b[0m \u001b[32m1.7/1.7 MB\u001b[0m \u001b[31m7.4 MB/s\u001b[0m eta \u001b[36m0:00:00\u001b[0m00:01\u001b[0m00:01\u001b[0mm\n",
      "\u001b[?25hCollecting wheel<1.0,>=0.23.0 (from astunparse>=1.6.0->tensorflow-macos==2.13.0-rc0->tensorflow)\n",
      "  Using cached wheel-0.40.0-py3-none-any.whl (64 kB)\n",
      "Collecting google-auth<3,>=1.6.3 (from tensorboard<2.14,>=2.13->tensorflow-macos==2.13.0-rc0->tensorflow)\n",
      "  Downloading google_auth-2.18.1-py2.py3-none-any.whl (178 kB)\n",
      "\u001b[2K     \u001b[90m━━━━━━━━━━━━━━━━━━━━━━━━━━━━━━━━━━━━━━━\u001b[0m \u001b[32m178.9/178.9 kB\u001b[0m \u001b[31m5.2 MB/s\u001b[0m eta \u001b[36m0:00:00\u001b[0m\n",
      "\u001b[?25hCollecting google-auth-oauthlib<1.1,>=0.5 (from tensorboard<2.14,>=2.13->tensorflow-macos==2.13.0-rc0->tensorflow)\n",
      "  Downloading google_auth_oauthlib-1.0.0-py2.py3-none-any.whl (18 kB)\n",
      "Collecting markdown>=2.6.8 (from tensorboard<2.14,>=2.13->tensorflow-macos==2.13.0-rc0->tensorflow)\n",
      "  Downloading Markdown-3.4.3-py3-none-any.whl (93 kB)\n",
      "\u001b[2K     \u001b[90m━━━━━━━━━━━━━━━━━━━━━━━━━━━━━━━━━━━━━━━━\u001b[0m \u001b[32m93.9/93.9 kB\u001b[0m \u001b[31m2.4 MB/s\u001b[0m eta \u001b[36m0:00:00\u001b[0m\n",
      "\u001b[?25hCollecting requests<3,>=2.21.0 (from tensorboard<2.14,>=2.13->tensorflow-macos==2.13.0-rc0->tensorflow)\n",
      "  Downloading requests-2.31.0-py3-none-any.whl (62 kB)\n",
      "\u001b[2K     \u001b[90m━━━━━━━━━━━━━━━━━━━━━━━━━━━━━━━━━━━━━━━━\u001b[0m \u001b[32m62.6/62.6 kB\u001b[0m \u001b[31m1.6 MB/s\u001b[0m eta \u001b[36m0:00:00\u001b[0m\n",
      "\u001b[?25hCollecting tensorboard-data-server<0.8.0,>=0.7.0 (from tensorboard<2.14,>=2.13->tensorflow-macos==2.13.0-rc0->tensorflow)\n",
      "  Downloading tensorboard_data_server-0.7.0-py3-none-any.whl (2.4 kB)\n",
      "Collecting werkzeug>=1.0.1 (from tensorboard<2.14,>=2.13->tensorflow-macos==2.13.0-rc0->tensorflow)\n",
      "  Downloading Werkzeug-2.3.4-py3-none-any.whl (242 kB)\n",
      "\u001b[2K     \u001b[90m━━━━━━━━━━━━━━━━━━━━━━━━━━━━━━━━━━━━━━━\u001b[0m \u001b[32m242.5/242.5 kB\u001b[0m \u001b[31m3.9 MB/s\u001b[0m eta \u001b[36m0:00:00\u001b[0ma \u001b[36m0:00:01\u001b[0m\n",
      "\u001b[?25hCollecting cachetools<6.0,>=2.0.0 (from google-auth<3,>=1.6.3->tensorboard<2.14,>=2.13->tensorflow-macos==2.13.0-rc0->tensorflow)\n",
      "  Downloading cachetools-5.3.0-py3-none-any.whl (9.3 kB)\n",
      "Collecting pyasn1-modules>=0.2.1 (from google-auth<3,>=1.6.3->tensorboard<2.14,>=2.13->tensorflow-macos==2.13.0-rc0->tensorflow)\n",
      "  Downloading pyasn1_modules-0.3.0-py2.py3-none-any.whl (181 kB)\n",
      "\u001b[2K     \u001b[90m━━━━━━━━━━━━━━━━━━━━━━━━━━━━━━━━━━━━━━━\u001b[0m \u001b[32m181.3/181.3 kB\u001b[0m \u001b[31m4.6 MB/s\u001b[0m eta \u001b[36m0:00:00\u001b[0m\n",
      "\u001b[?25hCollecting urllib3<2.0 (from google-auth<3,>=1.6.3->tensorboard<2.14,>=2.13->tensorflow-macos==2.13.0-rc0->tensorflow)\n",
      "  Downloading urllib3-1.26.16-py2.py3-none-any.whl (143 kB)\n",
      "\u001b[2K     \u001b[90m━━━━━━━━━━━━━━━━━━━━━━━━━━━━━━━━━━━━━━━\u001b[0m \u001b[32m143.1/143.1 kB\u001b[0m \u001b[31m3.2 MB/s\u001b[0m eta \u001b[36m0:00:00\u001b[0ma \u001b[36m0:00:01\u001b[0m\n",
      "\u001b[?25hCollecting rsa<5,>=3.1.4 (from google-auth<3,>=1.6.3->tensorboard<2.14,>=2.13->tensorflow-macos==2.13.0-rc0->tensorflow)\n",
      "  Downloading rsa-4.9-py3-none-any.whl (34 kB)\n",
      "Collecting requests-oauthlib>=0.7.0 (from google-auth-oauthlib<1.1,>=0.5->tensorboard<2.14,>=2.13->tensorflow-macos==2.13.0-rc0->tensorflow)\n",
      "  Downloading requests_oauthlib-1.3.1-py2.py3-none-any.whl (23 kB)\n",
      "Collecting charset-normalizer<4,>=2 (from requests<3,>=2.21.0->tensorboard<2.14,>=2.13->tensorflow-macos==2.13.0-rc0->tensorflow)\n",
      "  Downloading charset_normalizer-3.1.0-cp310-cp310-macosx_11_0_arm64.whl (123 kB)\n",
      "\u001b[2K     \u001b[90m━━━━━━━━━━━━━━━━━━━━━━━━━━━━━━━━━━━━━━━\u001b[0m \u001b[32m123.0/123.0 kB\u001b[0m \u001b[31m3.5 MB/s\u001b[0m eta \u001b[36m0:00:00\u001b[0m\n",
      "\u001b[?25hRequirement already satisfied: idna<4,>=2.5 in /Users/domingocarvajal/.pyenv/versions/3.10.4/lib/python3.10/site-packages (from requests<3,>=2.21.0->tensorboard<2.14,>=2.13->tensorflow-macos==2.13.0-rc0->tensorflow) (3.4)\n"
     ]
    },
    {
     "name": "stdout",
     "output_type": "stream",
     "text": [
      "Collecting certifi>=2017.4.17 (from requests<3,>=2.21.0->tensorboard<2.14,>=2.13->tensorflow-macos==2.13.0-rc0->tensorflow)\n",
      "  Downloading certifi-2023.5.7-py3-none-any.whl (156 kB)\n",
      "\u001b[2K     \u001b[90m━━━━━━━━━━━━━━━━━━━━━━━━━━━━━━━━━━━━━━━\u001b[0m \u001b[32m157.0/157.0 kB\u001b[0m \u001b[31m1.5 MB/s\u001b[0m eta \u001b[36m0:00:00\u001b[0ma \u001b[36m0:00:01\u001b[0m\n",
      "\u001b[?25hRequirement already satisfied: MarkupSafe>=2.1.1 in /Users/domingocarvajal/.pyenv/versions/3.10.4/lib/python3.10/site-packages (from werkzeug>=1.0.1->tensorboard<2.14,>=2.13->tensorflow-macos==2.13.0-rc0->tensorflow) (2.1.2)\n",
      "Collecting pyasn1<0.6.0,>=0.4.6 (from pyasn1-modules>=0.2.1->google-auth<3,>=1.6.3->tensorboard<2.14,>=2.13->tensorflow-macos==2.13.0-rc0->tensorflow)\n",
      "  Downloading pyasn1-0.5.0-py2.py3-none-any.whl (83 kB)\n",
      "\u001b[2K     \u001b[90m━━━━━━━━━━━━━━━━━━━━━━━━━━━━━━━━━━━━━━━━\u001b[0m \u001b[32m83.9/83.9 kB\u001b[0m \u001b[31m2.3 MB/s\u001b[0m eta \u001b[36m0:00:00\u001b[0m\n",
      "\u001b[?25hCollecting oauthlib>=3.0.0 (from requests-oauthlib>=0.7.0->google-auth-oauthlib<1.1,>=0.5->tensorboard<2.14,>=2.13->tensorflow-macos==2.13.0-rc0->tensorflow)\n",
      "  Downloading oauthlib-3.2.2-py3-none-any.whl (151 kB)\n",
      "\u001b[2K     \u001b[90m━━━━━━━━━━━━━━━━━━━━━━━━━━━━━━━━━━━━━━━\u001b[0m \u001b[32m151.7/151.7 kB\u001b[0m \u001b[31m4.0 MB/s\u001b[0m eta \u001b[36m0:00:00\u001b[0m\n",
      "\u001b[?25hInstalling collected packages: libclang, flatbuffers, wrapt, wheel, werkzeug, urllib3, typing-extensions, termcolor, tensorflow-estimator, tensorboard-data-server, pyasn1, protobuf, opt-einsum, oauthlib, markdown, keras, h5py, grpcio, google-pasta, gast, charset-normalizer, certifi, cachetools, absl-py, rsa, requests, pyasn1-modules, astunparse, requests-oauthlib, google-auth, google-auth-oauthlib, tensorboard, tensorflow-macos, tensorflow\n",
      "Successfully installed absl-py-1.4.0 astunparse-1.6.3 cachetools-5.3.0 certifi-2023.5.7 charset-normalizer-3.1.0 flatbuffers-23.5.9 gast-0.4.0 google-auth-2.18.1 google-auth-oauthlib-1.0.0 google-pasta-0.2.0 grpcio-1.55.0 h5py-3.8.0 keras-2.13.1rc0 libclang-16.0.0 markdown-3.4.3 oauthlib-3.2.2 opt-einsum-3.3.0 protobuf-4.23.1 pyasn1-0.5.0 pyasn1-modules-0.3.0 requests-2.31.0 requests-oauthlib-1.3.1 rsa-4.9 tensorboard-2.13.0 tensorboard-data-server-0.7.0 tensorflow-2.13.0rc0 tensorflow-estimator-2.13.0rc0 tensorflow-macos-2.13.0rc0 termcolor-2.3.0 typing-extensions-4.6.0 urllib3-1.26.16 werkzeug-2.3.4 wheel-0.40.0 wrapt-1.14.1\n"
     ]
    }
   ],
   "source": [
    "!pip install tensorflow"
   ]
  },
  {
   "cell_type": "code",
   "execution_count": 6,
   "metadata": {
    "id": "tE5I02RQ46U3"
   },
   "outputs": [],
   "source": [
    "import pandas as pd\n",
    "import os\n",
    "import numpy as np\n",
    "import tensorflow as tf\n",
    "import matplotlib.pyplot as plt\n",
    "import seaborn as sns\n",
    "from sklearn.model_selection import train_test_split\n",
    "from sklearn.preprocessing import StandardScaler\n",
    "from sklearn.metrics import confusion_matrix, recall_score, accuracy_score, precision_score\n",
    "RANDOM_SEED = 2021 \n",
    "TEST_PCT = 0.3"
   ]
  },
  {
   "cell_type": "markdown",
   "metadata": {
    "id": "2hdgzH-jd_Kf"
   },
   "source": [
    "2. Reading the data"
   ]
  },
  {
   "cell_type": "code",
   "execution_count": 19,
   "metadata": {
    "colab": {
     "base_uri": "https://localhost:8080/",
     "height": 424
    },
    "id": "7RQoiy2seC2g",
    "outputId": "218bc3e3-db07-4255-d94d-a51a8cede2a8"
   },
   "outputs": [
    {
     "data": {
      "text/html": [
       "<div>\n",
       "<style scoped>\n",
       "    .dataframe tbody tr th:only-of-type {\n",
       "        vertical-align: middle;\n",
       "    }\n",
       "\n",
       "    .dataframe tbody tr th {\n",
       "        vertical-align: top;\n",
       "    }\n",
       "\n",
       "    .dataframe thead th {\n",
       "        text-align: right;\n",
       "    }\n",
       "</style>\n",
       "<table border=\"1\" class=\"dataframe\">\n",
       "  <thead>\n",
       "    <tr style=\"text-align: right;\">\n",
       "      <th></th>\n",
       "      <th>timestamp</th>\n",
       "      <th>unix-epoch</th>\n",
       "      <th>value</th>\n",
       "    </tr>\n",
       "  </thead>\n",
       "  <tbody>\n",
       "    <tr>\n",
       "      <th>0</th>\n",
       "      <td>2022-06-01 18:47:03.625346+00</td>\n",
       "      <td>1.654109e+09</td>\n",
       "      <td>78.480000</td>\n",
       "    </tr>\n",
       "    <tr>\n",
       "      <th>1</th>\n",
       "      <td>2022-06-01 18:49:03.826399+00</td>\n",
       "      <td>1.654109e+09</td>\n",
       "      <td>135.917031</td>\n",
       "    </tr>\n",
       "    <tr>\n",
       "      <th>2</th>\n",
       "      <td>2022-06-01 18:48:04.301765+00</td>\n",
       "      <td>1.654109e+09</td>\n",
       "      <td>74.639130</td>\n",
       "    </tr>\n",
       "    <tr>\n",
       "      <th>3</th>\n",
       "      <td>2022-06-01 18:46:04.039116+00</td>\n",
       "      <td>1.654109e+09</td>\n",
       "      <td>157.000000</td>\n",
       "    </tr>\n",
       "    <tr>\n",
       "      <th>4</th>\n",
       "      <td>2022-06-01 18:50:04.552654+00</td>\n",
       "      <td>1.654109e+09</td>\n",
       "      <td>118.517699</td>\n",
       "    </tr>\n",
       "    <tr>\n",
       "      <th>...</th>\n",
       "      <td>...</td>\n",
       "      <td>...</td>\n",
       "      <td>...</td>\n",
       "    </tr>\n",
       "    <tr>\n",
       "      <th>434877</th>\n",
       "      <td>2023-03-31 14:13:04.101678+00</td>\n",
       "      <td>1.680272e+09</td>\n",
       "      <td>104.783784</td>\n",
       "    </tr>\n",
       "    <tr>\n",
       "      <th>434878</th>\n",
       "      <td>2023-03-31 14:24:03.918018+00</td>\n",
       "      <td>1.680273e+09</td>\n",
       "      <td>44.647059</td>\n",
       "    </tr>\n",
       "    <tr>\n",
       "      <th>434879</th>\n",
       "      <td>2023-03-31 14:21:03.492804+00</td>\n",
       "      <td>1.680272e+09</td>\n",
       "      <td>107.304878</td>\n",
       "    </tr>\n",
       "    <tr>\n",
       "      <th>434880</th>\n",
       "      <td>2023-03-31 14:19:03.269547+00</td>\n",
       "      <td>1.680272e+09</td>\n",
       "      <td>67.820513</td>\n",
       "    </tr>\n",
       "    <tr>\n",
       "      <th>434881</th>\n",
       "      <td>2023-03-31 14:22:03.652436+00</td>\n",
       "      <td>1.680273e+09</td>\n",
       "      <td>71.783133</td>\n",
       "    </tr>\n",
       "  </tbody>\n",
       "</table>\n",
       "<p>434882 rows × 3 columns</p>\n",
       "</div>"
      ],
      "text/plain": [
       "                            timestamp    unix-epoch       value\n",
       "0       2022-06-01 18:47:03.625346+00  1.654109e+09   78.480000\n",
       "1       2022-06-01 18:49:03.826399+00  1.654109e+09  135.917031\n",
       "2       2022-06-01 18:48:04.301765+00  1.654109e+09   74.639130\n",
       "3       2022-06-01 18:46:04.039116+00  1.654109e+09  157.000000\n",
       "4       2022-06-01 18:50:04.552654+00  1.654109e+09  118.517699\n",
       "...                               ...           ...         ...\n",
       "434877  2023-03-31 14:13:04.101678+00  1.680272e+09  104.783784\n",
       "434878  2023-03-31 14:24:03.918018+00  1.680273e+09   44.647059\n",
       "434879  2023-03-31 14:21:03.492804+00  1.680272e+09  107.304878\n",
       "434880  2023-03-31 14:19:03.269547+00  1.680272e+09   67.820513\n",
       "434881  2023-03-31 14:22:03.652436+00  1.680273e+09   71.783133\n",
       "\n",
       "[434882 rows x 3 columns]"
      ]
     },
     "execution_count": 19,
     "metadata": {},
     "output_type": "execute_result"
    }
   ],
   "source": [
    "dataset = pd.read_csv(\"876.csv\")\n",
    "dataset"
   ]
  },
  {
   "cell_type": "markdown",
   "metadata": {
    "id": "atcNDKwtgt88"
   },
   "source": [
    "### 3. Preprocessing the data"
   ]
  },
  {
   "cell_type": "markdown",
   "metadata": {
    "id": "IlkK3gnngZbK"
   },
   "source": [
    "### 3.1 Checking for nulls"
   ]
  },
  {
   "cell_type": "code",
   "execution_count": 8,
   "metadata": {
    "colab": {
     "base_uri": "https://localhost:8080/"
    },
    "id": "9UQBk4hfgb6E",
    "outputId": "21cd77a7-c04e-4882-ed0e-9a56f1fff17d"
   },
   "outputs": [
    {
     "name": "stdout",
     "output_type": "stream",
     "text": [
      "Any nulls in the dataset  False\n",
      "-------\n"
     ]
    }
   ],
   "source": [
    "#check for any  nullvalues \n",
    "print(\"Any nulls in the dataset \",dataset.isnull().values.any() )\n",
    "print('-------')"
   ]
  },
  {
   "cell_type": "markdown",
   "metadata": {
    "id": "ECwlW1wQgok4"
   },
   "source": [
    "### 3.2 Reshaping the data"
   ]
  },
  {
   "cell_type": "markdown",
   "metadata": {
    "id": "kpUrOJopoKtM"
   },
   "source": [
    "First we sort them chronologically"
   ]
  },
  {
   "cell_type": "code",
   "execution_count": 59,
   "metadata": {
    "id": "gp2wrftygmX4"
   },
   "outputs": [
    {
     "name": "stdout",
     "output_type": "stream",
     "text": [
      "                            timestamp    unix-epoch       value\n",
      "6       2022-06-01 16:21:03.721533+00  1.654100e+09   73.074380\n",
      "11      2022-06-01 16:22:04.254788+00  1.654101e+09   68.822115\n",
      "14      2022-06-01 16:23:03.887237+00  1.654101e+09   70.881279\n",
      "10      2022-06-01 16:24:04.474149+00  1.654101e+09   88.367742\n",
      "12      2022-06-01 16:25:04.012942+00  1.654101e+09   69.131068\n",
      "...                               ...           ...         ...\n",
      "434875  2023-03-31 14:20:03.954358+00  1.680272e+09  107.853403\n",
      "434879  2023-03-31 14:21:03.492804+00  1.680272e+09  107.304878\n",
      "434881  2023-03-31 14:22:03.652436+00  1.680273e+09   71.783133\n",
      "434872  2023-03-31 14:23:04.355078+00  1.680273e+09   76.673267\n",
      "434878  2023-03-31 14:24:03.918018+00  1.680273e+09   44.647059\n",
      "\n",
      "[434882 rows x 3 columns]\n"
     ]
    }
   ],
   "source": [
    "# Sorting by time\n",
    "df = dataset.sort_values('unix-epoch')\n",
    "print(df)"
   ]
  },
  {
   "cell_type": "markdown",
   "metadata": {
    "id": "9tqE6g7AoQ8_"
   },
   "source": [
    "Then we group them by minute precision taking the mean if there are more than one tuple of said minute."
   ]
  },
  {
   "cell_type": "code",
   "execution_count": 60,
   "metadata": {},
   "outputs": [
    {
     "name": "stdout",
     "output_type": "stream",
     "text": [
      "                  datetime       value\n",
      "0      2022-06-01 16:21:00   73.074380\n",
      "1      2022-06-01 16:22:00   68.822115\n",
      "2      2022-06-01 16:23:00   70.881279\n",
      "3      2022-06-01 16:24:00   88.367742\n",
      "4      2022-06-01 16:25:00   69.131068\n",
      "...                    ...         ...\n",
      "436199 2023-03-31 14:20:00  107.853403\n",
      "436200 2023-03-31 14:21:00  107.304878\n",
      "436201 2023-03-31 14:22:00   71.783133\n",
      "436202 2023-03-31 14:23:00   76.673267\n",
      "436203 2023-03-31 14:24:00   44.647059\n",
      "\n",
      "[436204 rows x 2 columns]\n"
     ]
    }
   ],
   "source": [
    "# Convert 'unix-epoch' column to datetime\n",
    "df['datetime'] = pd.to_datetime(df['unix-epoch'], unit='s')\n",
    "\n",
    "df = df[[\"datetime\", \"value\"]]\n",
    "\n",
    "df = df.resample(\"1Min\", on=\"datetime\").mean()\n",
    "\n",
    "df = df.reset_index()\n",
    "print(df)"
   ]
  },
  {
   "cell_type": "code",
   "execution_count": 61,
   "metadata": {
    "colab": {
     "base_uri": "https://localhost:8080/",
     "height": 479
    },
    "id": "qHxsvvd6Hjeg",
    "outputId": "1f027430-1ee2-44d7-d300-d79f98ea729d"
   },
   "outputs": [
    {
     "data": {
      "text/html": [
       "<div>\n",
       "<style scoped>\n",
       "    .dataframe tbody tr th:only-of-type {\n",
       "        vertical-align: middle;\n",
       "    }\n",
       "\n",
       "    .dataframe tbody tr th {\n",
       "        vertical-align: top;\n",
       "    }\n",
       "\n",
       "    .dataframe thead th {\n",
       "        text-align: right;\n",
       "    }\n",
       "</style>\n",
       "<table border=\"1\" class=\"dataframe\">\n",
       "  <thead>\n",
       "    <tr style=\"text-align: right;\">\n",
       "      <th></th>\n",
       "      <th>datetime</th>\n",
       "      <th>value</th>\n",
       "      <th>hour</th>\n",
       "    </tr>\n",
       "  </thead>\n",
       "  <tbody>\n",
       "    <tr>\n",
       "      <th>0</th>\n",
       "      <td>2022-06-01 16:21:00</td>\n",
       "      <td>73.074380</td>\n",
       "      <td>2022-06-01 16:00:00</td>\n",
       "    </tr>\n",
       "    <tr>\n",
       "      <th>1</th>\n",
       "      <td>2022-06-01 16:22:00</td>\n",
       "      <td>68.822115</td>\n",
       "      <td>2022-06-01 16:00:00</td>\n",
       "    </tr>\n",
       "    <tr>\n",
       "      <th>2</th>\n",
       "      <td>2022-06-01 16:23:00</td>\n",
       "      <td>70.881279</td>\n",
       "      <td>2022-06-01 16:00:00</td>\n",
       "    </tr>\n",
       "    <tr>\n",
       "      <th>3</th>\n",
       "      <td>2022-06-01 16:24:00</td>\n",
       "      <td>88.367742</td>\n",
       "      <td>2022-06-01 16:00:00</td>\n",
       "    </tr>\n",
       "    <tr>\n",
       "      <th>4</th>\n",
       "      <td>2022-06-01 16:25:00</td>\n",
       "      <td>69.131068</td>\n",
       "      <td>2022-06-01 16:00:00</td>\n",
       "    </tr>\n",
       "    <tr>\n",
       "      <th>...</th>\n",
       "      <td>...</td>\n",
       "      <td>...</td>\n",
       "      <td>...</td>\n",
       "    </tr>\n",
       "    <tr>\n",
       "      <th>436199</th>\n",
       "      <td>2023-03-31 14:20:00</td>\n",
       "      <td>107.853403</td>\n",
       "      <td>2023-03-31 14:00:00</td>\n",
       "    </tr>\n",
       "    <tr>\n",
       "      <th>436200</th>\n",
       "      <td>2023-03-31 14:21:00</td>\n",
       "      <td>107.304878</td>\n",
       "      <td>2023-03-31 14:00:00</td>\n",
       "    </tr>\n",
       "    <tr>\n",
       "      <th>436201</th>\n",
       "      <td>2023-03-31 14:22:00</td>\n",
       "      <td>71.783133</td>\n",
       "      <td>2023-03-31 14:00:00</td>\n",
       "    </tr>\n",
       "    <tr>\n",
       "      <th>436202</th>\n",
       "      <td>2023-03-31 14:23:00</td>\n",
       "      <td>76.673267</td>\n",
       "      <td>2023-03-31 14:00:00</td>\n",
       "    </tr>\n",
       "    <tr>\n",
       "      <th>436203</th>\n",
       "      <td>2023-03-31 14:24:00</td>\n",
       "      <td>44.647059</td>\n",
       "      <td>2023-03-31 14:00:00</td>\n",
       "    </tr>\n",
       "  </tbody>\n",
       "</table>\n",
       "<p>436204 rows × 3 columns</p>\n",
       "</div>"
      ],
      "text/plain": [
       "                  datetime       value                hour\n",
       "0      2022-06-01 16:21:00   73.074380 2022-06-01 16:00:00\n",
       "1      2022-06-01 16:22:00   68.822115 2022-06-01 16:00:00\n",
       "2      2022-06-01 16:23:00   70.881279 2022-06-01 16:00:00\n",
       "3      2022-06-01 16:24:00   88.367742 2022-06-01 16:00:00\n",
       "4      2022-06-01 16:25:00   69.131068 2022-06-01 16:00:00\n",
       "...                    ...         ...                 ...\n",
       "436199 2023-03-31 14:20:00  107.853403 2023-03-31 14:00:00\n",
       "436200 2023-03-31 14:21:00  107.304878 2023-03-31 14:00:00\n",
       "436201 2023-03-31 14:22:00   71.783133 2023-03-31 14:00:00\n",
       "436202 2023-03-31 14:23:00   76.673267 2023-03-31 14:00:00\n",
       "436203 2023-03-31 14:24:00   44.647059 2023-03-31 14:00:00\n",
       "\n",
       "[436204 rows x 3 columns]"
      ]
     },
     "execution_count": 61,
     "metadata": {},
     "output_type": "execute_result"
    }
   ],
   "source": [
    "\n",
    "df['hour'] = df['datetime'].dt.floor('H')\n",
    "\n",
    "df"
   ]
  },
  {
   "cell_type": "markdown",
   "metadata": {
    "id": "jEC3a1YMqXNA"
   },
   "source": [
    "Then we check which hours have enough tuples to consider them on the model."
   ]
  },
  {
   "cell_type": "code",
   "execution_count": 62,
   "metadata": {
    "colab": {
     "base_uri": "https://localhost:8080/",
     "height": 424
    },
    "id": "xOXun5ELCPOt",
    "outputId": "3889c373-a690-4b53-e525-8b08ef9adc34"
   },
   "outputs": [
    {
     "data": {
      "text/html": [
       "<div>\n",
       "<style scoped>\n",
       "    .dataframe tbody tr th:only-of-type {\n",
       "        vertical-align: middle;\n",
       "    }\n",
       "\n",
       "    .dataframe tbody tr th {\n",
       "        vertical-align: top;\n",
       "    }\n",
       "\n",
       "    .dataframe thead th {\n",
       "        text-align: right;\n",
       "    }\n",
       "</style>\n",
       "<table border=\"1\" class=\"dataframe\">\n",
       "  <thead>\n",
       "    <tr style=\"text-align: right;\">\n",
       "      <th></th>\n",
       "      <th>datetime</th>\n",
       "      <th>value</th>\n",
       "      <th>hour</th>\n",
       "    </tr>\n",
       "  </thead>\n",
       "  <tbody>\n",
       "    <tr>\n",
       "      <th>0</th>\n",
       "      <td>2022-06-01 16:21:00</td>\n",
       "      <td>73.074380</td>\n",
       "      <td>2022-06-01 16:00:00</td>\n",
       "    </tr>\n",
       "    <tr>\n",
       "      <th>1</th>\n",
       "      <td>2022-06-01 16:22:00</td>\n",
       "      <td>68.822115</td>\n",
       "      <td>2022-06-01 16:00:00</td>\n",
       "    </tr>\n",
       "    <tr>\n",
       "      <th>2</th>\n",
       "      <td>2022-06-01 16:23:00</td>\n",
       "      <td>70.881279</td>\n",
       "      <td>2022-06-01 16:00:00</td>\n",
       "    </tr>\n",
       "    <tr>\n",
       "      <th>3</th>\n",
       "      <td>2022-06-01 16:24:00</td>\n",
       "      <td>88.367742</td>\n",
       "      <td>2022-06-01 16:00:00</td>\n",
       "    </tr>\n",
       "    <tr>\n",
       "      <th>4</th>\n",
       "      <td>2022-06-01 16:25:00</td>\n",
       "      <td>69.131068</td>\n",
       "      <td>2022-06-01 16:00:00</td>\n",
       "    </tr>\n",
       "    <tr>\n",
       "      <th>...</th>\n",
       "      <td>...</td>\n",
       "      <td>...</td>\n",
       "      <td>...</td>\n",
       "    </tr>\n",
       "    <tr>\n",
       "      <th>436174</th>\n",
       "      <td>2023-03-31 13:55:00</td>\n",
       "      <td>48.444444</td>\n",
       "      <td>2023-03-31 13:00:00</td>\n",
       "    </tr>\n",
       "    <tr>\n",
       "      <th>436175</th>\n",
       "      <td>2023-03-31 13:56:00</td>\n",
       "      <td>58.716535</td>\n",
       "      <td>2023-03-31 13:00:00</td>\n",
       "    </tr>\n",
       "    <tr>\n",
       "      <th>436176</th>\n",
       "      <td>2023-03-31 13:57:00</td>\n",
       "      <td>84.803571</td>\n",
       "      <td>2023-03-31 13:00:00</td>\n",
       "    </tr>\n",
       "    <tr>\n",
       "      <th>436177</th>\n",
       "      <td>2023-03-31 13:58:00</td>\n",
       "      <td>40.194805</td>\n",
       "      <td>2023-03-31 13:00:00</td>\n",
       "    </tr>\n",
       "    <tr>\n",
       "      <th>436178</th>\n",
       "      <td>2023-03-31 13:59:00</td>\n",
       "      <td>46.680851</td>\n",
       "      <td>2023-03-31 13:00:00</td>\n",
       "    </tr>\n",
       "  </tbody>\n",
       "</table>\n",
       "<p>434859 rows × 3 columns</p>\n",
       "</div>"
      ],
      "text/plain": [
       "                  datetime      value                hour\n",
       "0      2022-06-01 16:21:00  73.074380 2022-06-01 16:00:00\n",
       "1      2022-06-01 16:22:00  68.822115 2022-06-01 16:00:00\n",
       "2      2022-06-01 16:23:00  70.881279 2022-06-01 16:00:00\n",
       "3      2022-06-01 16:24:00  88.367742 2022-06-01 16:00:00\n",
       "4      2022-06-01 16:25:00  69.131068 2022-06-01 16:00:00\n",
       "...                    ...        ...                 ...\n",
       "436174 2023-03-31 13:55:00  48.444444 2023-03-31 13:00:00\n",
       "436175 2023-03-31 13:56:00  58.716535 2023-03-31 13:00:00\n",
       "436176 2023-03-31 13:57:00  84.803571 2023-03-31 13:00:00\n",
       "436177 2023-03-31 13:58:00  40.194805 2023-03-31 13:00:00\n",
       "436178 2023-03-31 13:59:00  46.680851 2023-03-31 13:00:00\n",
       "\n",
       "[434859 rows x 3 columns]"
      ]
     },
     "execution_count": 62,
     "metadata": {},
     "output_type": "execute_result"
    }
   ],
   "source": [
    "# Create boolean mask to filter out groups with less than 30 tuples\n",
    "mask = df.groupby('hour')['value'].transform('count') >= 30\n",
    "\n",
    "# Filter DataFrame using the mask\n",
    "df = df[mask]\n",
    "\n",
    "df"
   ]
  },
  {
   "cell_type": "markdown",
   "metadata": {
    "id": "3oJxY-gQquv4"
   },
   "source": [
    "We now interpolate"
   ]
  },
  {
   "cell_type": "code",
   "execution_count": 63,
   "metadata": {
    "colab": {
     "base_uri": "https://localhost:8080/",
     "height": 658
    },
    "id": "lnh0mnU89GPc",
    "outputId": "bd0d32be-7ccc-4d08-d50c-776cb8d0e4b1"
   },
   "outputs": [
    {
     "data": {
      "text/html": [
       "<div>\n",
       "<style scoped>\n",
       "    .dataframe tbody tr th:only-of-type {\n",
       "        vertical-align: middle;\n",
       "    }\n",
       "\n",
       "    .dataframe tbody tr th {\n",
       "        vertical-align: top;\n",
       "    }\n",
       "\n",
       "    .dataframe thead th {\n",
       "        text-align: right;\n",
       "    }\n",
       "</style>\n",
       "<table border=\"1\" class=\"dataframe\">\n",
       "  <thead>\n",
       "    <tr style=\"text-align: right;\">\n",
       "      <th></th>\n",
       "      <th>datetime</th>\n",
       "      <th>value</th>\n",
       "      <th>hour</th>\n",
       "      <th>day</th>\n",
       "    </tr>\n",
       "  </thead>\n",
       "  <tbody>\n",
       "    <tr>\n",
       "      <th>0</th>\n",
       "      <td>2022-06-01 16:21:00</td>\n",
       "      <td>73.074380</td>\n",
       "      <td>2022-06-01 16:00:00</td>\n",
       "      <td>2022-06-01</td>\n",
       "    </tr>\n",
       "    <tr>\n",
       "      <th>1</th>\n",
       "      <td>2022-06-01 16:22:00</td>\n",
       "      <td>68.822115</td>\n",
       "      <td>2022-06-01 16:00:00</td>\n",
       "      <td>2022-06-01</td>\n",
       "    </tr>\n",
       "    <tr>\n",
       "      <th>2</th>\n",
       "      <td>2022-06-01 16:23:00</td>\n",
       "      <td>70.881279</td>\n",
       "      <td>2022-06-01 16:00:00</td>\n",
       "      <td>2022-06-01</td>\n",
       "    </tr>\n",
       "    <tr>\n",
       "      <th>3</th>\n",
       "      <td>2022-06-01 16:24:00</td>\n",
       "      <td>88.367742</td>\n",
       "      <td>2022-06-01 16:00:00</td>\n",
       "      <td>2022-06-01</td>\n",
       "    </tr>\n",
       "    <tr>\n",
       "      <th>4</th>\n",
       "      <td>2022-06-01 16:25:00</td>\n",
       "      <td>69.131068</td>\n",
       "      <td>2022-06-01 16:00:00</td>\n",
       "      <td>2022-06-01</td>\n",
       "    </tr>\n",
       "    <tr>\n",
       "      <th>...</th>\n",
       "      <td>...</td>\n",
       "      <td>...</td>\n",
       "      <td>...</td>\n",
       "      <td>...</td>\n",
       "    </tr>\n",
       "    <tr>\n",
       "      <th>434854</th>\n",
       "      <td>2023-03-31 13:55:00</td>\n",
       "      <td>48.444444</td>\n",
       "      <td>2023-03-31 13:00:00</td>\n",
       "      <td>2023-03-31</td>\n",
       "    </tr>\n",
       "    <tr>\n",
       "      <th>434855</th>\n",
       "      <td>2023-03-31 13:56:00</td>\n",
       "      <td>58.716535</td>\n",
       "      <td>2023-03-31 13:00:00</td>\n",
       "      <td>2023-03-31</td>\n",
       "    </tr>\n",
       "    <tr>\n",
       "      <th>434856</th>\n",
       "      <td>2023-03-31 13:57:00</td>\n",
       "      <td>84.803571</td>\n",
       "      <td>2023-03-31 13:00:00</td>\n",
       "      <td>2023-03-31</td>\n",
       "    </tr>\n",
       "    <tr>\n",
       "      <th>434857</th>\n",
       "      <td>2023-03-31 13:58:00</td>\n",
       "      <td>40.194805</td>\n",
       "      <td>2023-03-31 13:00:00</td>\n",
       "      <td>2023-03-31</td>\n",
       "    </tr>\n",
       "    <tr>\n",
       "      <th>434858</th>\n",
       "      <td>2023-03-31 13:59:00</td>\n",
       "      <td>46.680851</td>\n",
       "      <td>2023-03-31 13:00:00</td>\n",
       "      <td>2023-03-31</td>\n",
       "    </tr>\n",
       "  </tbody>\n",
       "</table>\n",
       "<p>434859 rows × 4 columns</p>\n",
       "</div>"
      ],
      "text/plain": [
       "                  datetime      value                hour        day\n",
       "0      2022-06-01 16:21:00  73.074380 2022-06-01 16:00:00 2022-06-01\n",
       "1      2022-06-01 16:22:00  68.822115 2022-06-01 16:00:00 2022-06-01\n",
       "2      2022-06-01 16:23:00  70.881279 2022-06-01 16:00:00 2022-06-01\n",
       "3      2022-06-01 16:24:00  88.367742 2022-06-01 16:00:00 2022-06-01\n",
       "4      2022-06-01 16:25:00  69.131068 2022-06-01 16:00:00 2022-06-01\n",
       "...                    ...        ...                 ...        ...\n",
       "434854 2023-03-31 13:55:00  48.444444 2023-03-31 13:00:00 2023-03-31\n",
       "434855 2023-03-31 13:56:00  58.716535 2023-03-31 13:00:00 2023-03-31\n",
       "434856 2023-03-31 13:57:00  84.803571 2023-03-31 13:00:00 2023-03-31\n",
       "434857 2023-03-31 13:58:00  40.194805 2023-03-31 13:00:00 2023-03-31\n",
       "434858 2023-03-31 13:59:00  46.680851 2023-03-31 13:00:00 2023-03-31\n",
       "\n",
       "[434859 rows x 4 columns]"
      ]
     },
     "execution_count": 63,
     "metadata": {},
     "output_type": "execute_result"
    }
   ],
   "source": [
    "df = df.set_index(\"datetime\")\n",
    "\n",
    "# Perform interpolation to fill missing values\n",
    "df['value'] = df['value'].interpolate()\n",
    "\n",
    "df = df.reset_index()\n",
    "\n",
    "df['day'] = df['datetime'].dt.floor('D')\n",
    "\n",
    "df"
   ]
  },
  {
   "cell_type": "markdown",
   "metadata": {
    "id": "ecchI1BmrUaY"
   },
   "source": [
    "We check to see how many days have hours missing"
   ]
  },
  {
   "cell_type": "code",
   "execution_count": 64,
   "metadata": {
    "colab": {
     "base_uri": "https://localhost:8080/",
     "height": 424
    },
    "id": "jFbOSBh1Biai",
    "outputId": "989d4af5-5bd6-47d0-8a77-e02e38733ab1"
   },
   "outputs": [
    {
     "data": {
      "text/html": [
       "<div>\n",
       "<style scoped>\n",
       "    .dataframe tbody tr th:only-of-type {\n",
       "        vertical-align: middle;\n",
       "    }\n",
       "\n",
       "    .dataframe tbody tr th {\n",
       "        vertical-align: top;\n",
       "    }\n",
       "\n",
       "    .dataframe thead th {\n",
       "        text-align: right;\n",
       "    }\n",
       "</style>\n",
       "<table border=\"1\" class=\"dataframe\">\n",
       "  <thead>\n",
       "    <tr style=\"text-align: right;\">\n",
       "      <th></th>\n",
       "      <th>day</th>\n",
       "      <th>hour</th>\n",
       "      <th>datetime</th>\n",
       "      <th>value</th>\n",
       "    </tr>\n",
       "  </thead>\n",
       "  <tbody>\n",
       "    <tr>\n",
       "      <th>0</th>\n",
       "      <td>2022-06-01</td>\n",
       "      <td>8</td>\n",
       "      <td>8</td>\n",
       "      <td>8</td>\n",
       "    </tr>\n",
       "    <tr>\n",
       "      <th>303</th>\n",
       "      <td>2023-03-31</td>\n",
       "      <td>12</td>\n",
       "      <td>12</td>\n",
       "      <td>12</td>\n",
       "    </tr>\n",
       "    <tr>\n",
       "      <th>280</th>\n",
       "      <td>2023-03-08</td>\n",
       "      <td>17</td>\n",
       "      <td>17</td>\n",
       "      <td>17</td>\n",
       "    </tr>\n",
       "    <tr>\n",
       "      <th>281</th>\n",
       "      <td>2023-03-09</td>\n",
       "      <td>18</td>\n",
       "      <td>18</td>\n",
       "      <td>18</td>\n",
       "    </tr>\n",
       "    <tr>\n",
       "      <th>282</th>\n",
       "      <td>2023-03-10</td>\n",
       "      <td>18</td>\n",
       "      <td>18</td>\n",
       "      <td>18</td>\n",
       "    </tr>\n",
       "    <tr>\n",
       "      <th>...</th>\n",
       "      <td>...</td>\n",
       "      <td>...</td>\n",
       "      <td>...</td>\n",
       "      <td>...</td>\n",
       "    </tr>\n",
       "    <tr>\n",
       "      <th>100</th>\n",
       "      <td>2022-09-09</td>\n",
       "      <td>24</td>\n",
       "      <td>24</td>\n",
       "      <td>24</td>\n",
       "    </tr>\n",
       "    <tr>\n",
       "      <th>99</th>\n",
       "      <td>2022-09-08</td>\n",
       "      <td>24</td>\n",
       "      <td>24</td>\n",
       "      <td>24</td>\n",
       "    </tr>\n",
       "    <tr>\n",
       "      <th>98</th>\n",
       "      <td>2022-09-07</td>\n",
       "      <td>24</td>\n",
       "      <td>24</td>\n",
       "      <td>24</td>\n",
       "    </tr>\n",
       "    <tr>\n",
       "      <th>96</th>\n",
       "      <td>2022-09-05</td>\n",
       "      <td>24</td>\n",
       "      <td>24</td>\n",
       "      <td>24</td>\n",
       "    </tr>\n",
       "    <tr>\n",
       "      <th>151</th>\n",
       "      <td>2022-10-30</td>\n",
       "      <td>24</td>\n",
       "      <td>24</td>\n",
       "      <td>24</td>\n",
       "    </tr>\n",
       "  </tbody>\n",
       "</table>\n",
       "<p>304 rows × 4 columns</p>\n",
       "</div>"
      ],
      "text/plain": [
       "           day  hour  datetime  value\n",
       "0   2022-06-01     8         8      8\n",
       "303 2023-03-31    12        12     12\n",
       "280 2023-03-08    17        17     17\n",
       "281 2023-03-09    18        18     18\n",
       "282 2023-03-10    18        18     18\n",
       "..         ...   ...       ...    ...\n",
       "100 2022-09-09    24        24     24\n",
       "99  2022-09-08    24        24     24\n",
       "98  2022-09-07    24        24     24\n",
       "96  2022-09-05    24        24     24\n",
       "151 2022-10-30    24        24     24\n",
       "\n",
       "[304 rows x 4 columns]"
      ]
     },
     "execution_count": 64,
     "metadata": {},
     "output_type": "execute_result"
    }
   ],
   "source": [
    "hour_df = df.groupby(\"hour\").count()\n",
    "hour_df = hour_df.reset_index()\n",
    "hour_df = hour_df.sort_values('hour')\n",
    "\n",
    "\n",
    "\n",
    "hour_df['day'] = hour_df['hour'].dt.floor('D')\n",
    "day_df = hour_df.groupby('day').count()\n",
    "day_df = day_df.reset_index()\n",
    "day_df = day_df.sort_values('value')\n",
    "day_df"
   ]
  },
  {
   "cell_type": "code",
   "execution_count": 65,
   "metadata": {
    "colab": {
     "base_uri": "https://localhost:8080/",
     "height": 520
    },
    "id": "EC79ME8OVpHZ",
    "outputId": "d0b5441d-2604-42a6-f4b2-b1854d2c0602"
   },
   "outputs": [
    {
     "data": {
      "text/html": [
       "<div>\n",
       "<style scoped>\n",
       "    .dataframe tbody tr th:only-of-type {\n",
       "        vertical-align: middle;\n",
       "    }\n",
       "\n",
       "    .dataframe tbody tr th {\n",
       "        vertical-align: top;\n",
       "    }\n",
       "\n",
       "    .dataframe thead th {\n",
       "        text-align: right;\n",
       "    }\n",
       "</style>\n",
       "<table border=\"1\" class=\"dataframe\">\n",
       "  <thead>\n",
       "    <tr style=\"text-align: right;\">\n",
       "      <th></th>\n",
       "      <th>day</th>\n",
       "      <th>hour</th>\n",
       "      <th>datetime</th>\n",
       "      <th>value</th>\n",
       "    </tr>\n",
       "  </thead>\n",
       "  <tbody>\n",
       "    <tr>\n",
       "      <th>0</th>\n",
       "      <td>2022-06-01</td>\n",
       "      <td>8</td>\n",
       "      <td>8</td>\n",
       "      <td>8</td>\n",
       "    </tr>\n",
       "    <tr>\n",
       "      <th>303</th>\n",
       "      <td>2023-03-31</td>\n",
       "      <td>12</td>\n",
       "      <td>12</td>\n",
       "      <td>12</td>\n",
       "    </tr>\n",
       "    <tr>\n",
       "      <th>280</th>\n",
       "      <td>2023-03-08</td>\n",
       "      <td>17</td>\n",
       "      <td>17</td>\n",
       "      <td>17</td>\n",
       "    </tr>\n",
       "    <tr>\n",
       "      <th>281</th>\n",
       "      <td>2023-03-09</td>\n",
       "      <td>18</td>\n",
       "      <td>18</td>\n",
       "      <td>18</td>\n",
       "    </tr>\n",
       "    <tr>\n",
       "      <th>282</th>\n",
       "      <td>2023-03-10</td>\n",
       "      <td>18</td>\n",
       "      <td>18</td>\n",
       "      <td>18</td>\n",
       "    </tr>\n",
       "    <tr>\n",
       "      <th>284</th>\n",
       "      <td>2023-03-12</td>\n",
       "      <td>23</td>\n",
       "      <td>23</td>\n",
       "      <td>23</td>\n",
       "    </tr>\n",
       "    <tr>\n",
       "      <th>205</th>\n",
       "      <td>2022-12-23</td>\n",
       "      <td>24</td>\n",
       "      <td>24</td>\n",
       "      <td>24</td>\n",
       "    </tr>\n",
       "    <tr>\n",
       "      <th>204</th>\n",
       "      <td>2022-12-22</td>\n",
       "      <td>24</td>\n",
       "      <td>24</td>\n",
       "      <td>24</td>\n",
       "    </tr>\n",
       "    <tr>\n",
       "      <th>203</th>\n",
       "      <td>2022-12-21</td>\n",
       "      <td>24</td>\n",
       "      <td>24</td>\n",
       "      <td>24</td>\n",
       "    </tr>\n",
       "    <tr>\n",
       "      <th>202</th>\n",
       "      <td>2022-12-20</td>\n",
       "      <td>24</td>\n",
       "      <td>24</td>\n",
       "      <td>24</td>\n",
       "    </tr>\n",
       "    <tr>\n",
       "      <th>201</th>\n",
       "      <td>2022-12-19</td>\n",
       "      <td>24</td>\n",
       "      <td>24</td>\n",
       "      <td>24</td>\n",
       "    </tr>\n",
       "    <tr>\n",
       "      <th>2</th>\n",
       "      <td>2022-06-03</td>\n",
       "      <td>24</td>\n",
       "      <td>24</td>\n",
       "      <td>24</td>\n",
       "    </tr>\n",
       "    <tr>\n",
       "      <th>198</th>\n",
       "      <td>2022-12-16</td>\n",
       "      <td>24</td>\n",
       "      <td>24</td>\n",
       "      <td>24</td>\n",
       "    </tr>\n",
       "    <tr>\n",
       "      <th>197</th>\n",
       "      <td>2022-12-15</td>\n",
       "      <td>24</td>\n",
       "      <td>24</td>\n",
       "      <td>24</td>\n",
       "    </tr>\n",
       "    <tr>\n",
       "      <th>196</th>\n",
       "      <td>2022-12-14</td>\n",
       "      <td>24</td>\n",
       "      <td>24</td>\n",
       "      <td>24</td>\n",
       "    </tr>\n",
       "  </tbody>\n",
       "</table>\n",
       "</div>"
      ],
      "text/plain": [
       "           day  hour  datetime  value\n",
       "0   2022-06-01     8         8      8\n",
       "303 2023-03-31    12        12     12\n",
       "280 2023-03-08    17        17     17\n",
       "281 2023-03-09    18        18     18\n",
       "282 2023-03-10    18        18     18\n",
       "284 2023-03-12    23        23     23\n",
       "205 2022-12-23    24        24     24\n",
       "204 2022-12-22    24        24     24\n",
       "203 2022-12-21    24        24     24\n",
       "202 2022-12-20    24        24     24\n",
       "201 2022-12-19    24        24     24\n",
       "2   2022-06-03    24        24     24\n",
       "198 2022-12-16    24        24     24\n",
       "197 2022-12-15    24        24     24\n",
       "196 2022-12-14    24        24     24"
      ]
     },
     "execution_count": 65,
     "metadata": {},
     "output_type": "execute_result"
    }
   ],
   "source": [
    "day_df[:15]"
   ]
  },
  {
   "cell_type": "markdown",
   "metadata": {
    "id": "I2VYTE3JDykB"
   },
   "source": [
    "### Making a moving window dataset."
   ]
  },
  {
   "cell_type": "code",
   "execution_count": 66,
   "metadata": {
    "colab": {
     "base_uri": "https://localhost:8080/"
    },
    "id": "B6qt-I41DyQ6",
    "outputId": "6395644e-bde5-476f-fa66-fae8bb424319"
   },
   "outputs": [
    {
     "data": {
      "text/plain": [
       "(434830, 30)"
      ]
     },
     "execution_count": 66,
     "metadata": {},
     "output_type": "execute_result"
    }
   ],
   "source": [
    "from numpy.lib.stride_tricks import sliding_window_view\n",
    "\n",
    "data = df['value']\n",
    "\n",
    "window_size = 30\n",
    "\n",
    "windows = sliding_window_view(data, window_size)\n",
    "\n",
    "windows.shape"
   ]
  },
  {
   "cell_type": "code",
   "execution_count": 67,
   "metadata": {
    "colab": {
     "base_uri": "https://localhost:8080/"
    },
    "id": "y4kGEfDDfw5J",
    "outputId": "30caf0a0-2ef1-4dd6-895f-34e816b0f8fe"
   },
   "outputs": [
    {
     "name": "stdout",
     "output_type": "stream",
     "text": [
      "[[73.07438  68.822115 70.881279 ... 87.605128 76.446237 76.673469]\n",
      " [68.822115 70.881279 88.367742 ... 76.446237 76.673469 79.4625  ]\n",
      " [70.881279 88.367742 69.131068 ... 76.673469 79.4625   83.30315 ]\n",
      " ...\n",
      " [52.5      32.78     53.355556 ... 72.9      48.444444 58.716535]\n",
      " [32.78     53.355556 69.148148 ... 48.444444 58.716535 84.803571]\n",
      " [53.355556 69.148148 55.361111 ... 58.716535 84.803571 40.194805]]\n"
     ]
    }
   ],
   "source": [
    "import datetime\n",
    "\n",
    "# Create an empty list to store the arrays\n",
    "arrays = []\n",
    "initial_dates = []\n",
    "\n",
    "# Iterate through the DataFrame\n",
    "for i in range(len(df) - 30):\n",
    "    # Check if the indices are 30 numbers away\n",
    "    if df.index[i+30] - df.index[i] == 30:\n",
    "        # Extract the values for the consecutive tuples\n",
    "        values = df['value'].iloc[i:i+30].values\n",
    "        # Append the values to the list\n",
    "        arrays.append(values)\n",
    "        initial_dates.append(df['datetime'].values[i])\n",
    "\n",
    "# Convert the list of arrays to a NumPy array\n",
    "arrays = np.array(arrays)\n",
    "\n",
    "print(arrays)\n",
    "\n",
    "\n",
    "  # if df_filtered[i]['datetime'] - df_filtered[i + 30]['datetime'] == datetime.timedelta(minutes=window_size):\n",
    "  #   correct_windows.append(df_filtered[i:i+30]['value'])"
   ]
  },
  {
   "cell_type": "code",
   "execution_count": 68,
   "metadata": {
    "colab": {
     "base_uri": "https://localhost:8080/"
    },
    "id": "wPcg8OdUmzcn",
    "outputId": "611273d3-2974-4420-bef4-511dbb27539f"
   },
   "outputs": [
    {
     "name": "stdout",
     "output_type": "stream",
     "text": [
      "(434829, 30)\n"
     ]
    }
   ],
   "source": [
    "print(arrays.shape)"
   ]
  },
  {
   "cell_type": "markdown",
   "metadata": {
    "id": "VTklrlJut6WJ"
   },
   "source": [
    "## 4. Training the model"
   ]
  },
  {
   "cell_type": "markdown",
   "metadata": {
    "id": "A-8MxO4LvalA"
   },
   "source": [
    "4.1 We split the data with a 20% rate."
   ]
  },
  {
   "cell_type": "code",
   "execution_count": 69,
   "metadata": {
    "id": "7YtoreJKt8_b"
   },
   "outputs": [],
   "source": [
    "data = arrays\n",
    "\n",
    "train_data, test_data, train_indices, test_indices = train_test_split(\n",
    "    data, np.arange(len(data)), test_size=0.2, random_state=2021\n",
    ")"
   ]
  },
  {
   "cell_type": "code",
   "execution_count": 70,
   "metadata": {
    "colab": {
     "base_uri": "https://localhost:8080/"
    },
    "id": "jAJxPE3D92sp",
    "outputId": "58e8f18d-65e9-406e-d509-5a3b1d043ce9"
   },
   "outputs": [
    {
     "data": {
      "text/plain": [
       "array([401425,  66493,  38415, ..., 223445, 302265, 147132])"
      ]
     },
     "execution_count": 70,
     "metadata": {},
     "output_type": "execute_result"
    }
   ],
   "source": [
    "test_indices"
   ]
  },
  {
   "cell_type": "code",
   "execution_count": 71,
   "metadata": {
    "colab": {
     "base_uri": "https://localhost:8080/"
    },
    "id": "aZy_hQdP6F59",
    "outputId": "4b85cc83-ec87-402e-d3f2-3dd4d6e8ed90"
   },
   "outputs": [
    {
     "data": {
      "text/plain": [
       "(347863, 30)"
      ]
     },
     "execution_count": 71,
     "metadata": {},
     "output_type": "execute_result"
    }
   ],
   "source": [
    "train_data.shape"
   ]
  },
  {
   "cell_type": "markdown",
   "metadata": {
    "id": "9vuZP2Edvusf"
   },
   "source": [
    "We take them to values from 0 to 1"
   ]
  },
  {
   "cell_type": "code",
   "execution_count": 72,
   "metadata": {
    "id": "dLEePYARt_gg"
   },
   "outputs": [],
   "source": [
    "min_val = tf.reduce_min(train_data)\n",
    "max_val = tf.reduce_max(train_data)\n",
    "train_data = (train_data - min_val) / (max_val - min_val)\n",
    "test_data = (test_data - min_val) / (max_val - min_val)\n",
    "train_data = tf.cast(train_data, tf.float32)\n",
    "test_data = tf.cast(test_data, tf.float32)"
   ]
  },
  {
   "cell_type": "code",
   "execution_count": 73,
   "metadata": {
    "colab": {
     "base_uri": "https://localhost:8080/"
    },
    "id": "bsc3-bT6v3KA",
    "outputId": "6f0c7707-d92e-4678-ca07-2e46d6a440d1"
   },
   "outputs": [
    {
     "data": {
      "text/plain": [
       "<tf.Tensor: shape=(347863, 30), dtype=float32, numpy=\n",
       "array([[5.6739448e-04, 7.4680476e-04, 6.8372570e-04, ..., 6.4866088e-04,\n",
       "        1.3691870e-03, 7.0697186e-04],\n",
       "       [5.9238257e-04, 5.2817061e-04, 1.1806958e-03, ..., 1.8020916e-04,\n",
       "        1.7362087e-03, 2.0927515e-04],\n",
       "       [5.4256521e-05, 0.0000000e+00, 1.2207717e-04, ..., 1.3564130e-04,\n",
       "        0.0000000e+00, 0.0000000e+00],\n",
       "       ...,\n",
       "       [5.8325758e-04, 1.8356788e-04, 9.4948911e-05, ..., 1.8496542e-04,\n",
       "        0.0000000e+00, 1.1529511e-04],\n",
       "       [1.4260422e-03, 8.7585527e-04, 1.2447698e-03, ..., 5.5566162e-04,\n",
       "        1.2849752e-03, 9.9018146e-04],\n",
       "       [0.0000000e+00, 0.0000000e+00, 3.3910325e-04, ..., 1.8582859e-03,\n",
       "        0.0000000e+00, 0.0000000e+00]], dtype=float32)>"
      ]
     },
     "execution_count": 73,
     "metadata": {},
     "output_type": "execute_result"
    }
   ],
   "source": [
    "train_data"
   ]
  },
  {
   "cell_type": "code",
   "execution_count": null,
   "metadata": {
    "id": "ty6gA3USC7SF"
   },
   "outputs": [],
   "source": []
  },
  {
   "cell_type": "code",
   "execution_count": 74,
   "metadata": {
    "id": "VHneE4dFxvKs"
   },
   "outputs": [],
   "source": [
    "nb_epoch = 50\n",
    "batch_size = 64\n",
    "input_dim = train_data.shape[1] #num of columns, 30\n",
    "encoding_dim = 14\n",
    "hidden_dim_1 = 7\n",
    "hidden_dim_3 = 4  \n",
    "learning_rate = 1e-7"
   ]
  },
  {
   "cell_type": "code",
   "execution_count": 75,
   "metadata": {
    "colab": {
     "base_uri": "https://localhost:8080/"
    },
    "id": "3wOA6dlNxyf5",
    "outputId": "ba2c56e6-c849-427d-d7d6-4b783b672b18"
   },
   "outputs": [
    {
     "name": "stdout",
     "output_type": "stream",
     "text": [
      "Model: \"model\"\n",
      "_________________________________________________________________\n",
      " Layer (type)                Output Shape              Param #   \n",
      "=================================================================\n",
      " input_1 (InputLayer)        [(None, 30)]              0         \n",
      "                                                                 \n",
      " dense (Dense)               (None, 14)                434       \n",
      "                                                                 \n",
      " dropout (Dropout)           (None, 14)                0         \n",
      "                                                                 \n",
      " dense_1 (Dense)             (None, 7)                 105       \n",
      "                                                                 \n",
      " dense_2 (Dense)             (None, 4)                 32        \n",
      "                                                                 \n",
      " dense_3 (Dense)             (None, 7)                 35        \n",
      "                                                                 \n",
      " dropout_1 (Dropout)         (None, 7)                 0         \n",
      "                                                                 \n",
      " dense_4 (Dense)             (None, 14)                112       \n",
      "                                                                 \n",
      " dense_5 (Dense)             (None, 30)                450       \n",
      "                                                                 \n",
      "=================================================================\n",
      "Total params: 1168 (4.56 KB)\n",
      "Trainable params: 1168 (4.56 KB)\n",
      "Non-trainable params: 0 (0.00 Byte)\n",
      "_________________________________________________________________\n"
     ]
    }
   ],
   "source": [
    "input_layer = tf.keras.layers.Input(shape=(input_dim, ))\n",
    "#Encoder\n",
    "encoder = tf.keras.layers.Dense(encoding_dim, activation=\"relu\", activity_regularizer=tf.keras.regularizers.l2(learning_rate))(input_layer)\n",
    "encoder=tf.keras.layers.Dropout(0.2)(encoder)\n",
    "encoder = tf.keras.layers.Dense(hidden_dim_1, activation='relu')(encoder)\n",
    "#encoder = tf.keras.layers.Dense(hidden_dim_2, activation='relu')(encoder)\n",
    "encoder = tf.keras.layers.Dense(hidden_dim_3, activation=tf.nn.leaky_relu)(encoder)\n",
    "# Decoder\n",
    "#decoder = tf.keras.layers.Dense(hidden_dim_2, activation='relu')(encoder)\n",
    "decoder = tf.keras.layers.Dense(hidden_dim_1, activation='relu')(encoder)\n",
    "decoder=tf.keras.layers.Dropout(0.2)(decoder)\n",
    "decoder = tf.keras.layers.Dense(encoding_dim, activation='relu')(decoder)\n",
    "decoder = tf.keras.layers.Dense(input_dim, activation='relu')(decoder)\n",
    "#Autoencoder\n",
    "autoencoder = tf.keras.Model(inputs=input_layer, outputs=decoder)\n",
    "autoencoder.summary()"
   ]
  },
  {
   "cell_type": "code",
   "execution_count": null,
   "metadata": {},
   "outputs": [],
   "source": [
    "def get_model():\n",
    "    model= keras.Sequential()\n",
    "\n",
    "    model.add(keras.layers.LSTM(units=128,input_shape=(x_train.shape[1],x_train.shape[2])))\n",
    "    model.add(keras.layers.Dropout(rate=0.2))\n",
    "\n",
    "    model.add(keras.layers.RepeatVector(n=x_train.shape[1]))\n",
    "    model.add(keras.layers.LSTM(units=128,return_sequences=True))\n",
    "\n",
    "    model.add(keras.layers.Dropout(rate=0.2))\n",
    "    model.add(keras.layers.TimeDistributed(keras.layers.Dense(units=x_train.shape[2])))\n",
    "\n",
    "    model.compile(loss='mae',optimizer ='adam')\n",
    "    return model"
   ]
  },
  {
   "cell_type": "code",
   "execution_count": 76,
   "metadata": {
    "id": "xkM__hSSz7gM"
   },
   "outputs": [],
   "source": [
    "cp = tf.keras.callbacks.ModelCheckpoint(filepath=\"autoencoder_fraud.h5\",\n",
    "                               mode='min', monitor='val_loss', verbose=2, save_best_only=True)\n",
    "# define our early stopping\n",
    "early_stop = tf.keras.callbacks.EarlyStopping(\n",
    "    monitor='val_loss',\n",
    "    min_delta=0.000001,\n",
    "    patience=10,\n",
    "    verbose=1, \n",
    "    mode='min',\n",
    "    restore_best_weights=True)"
   ]
  },
  {
   "cell_type": "code",
   "execution_count": 77,
   "metadata": {
    "id": "P1bY4Q3Q0Anz"
   },
   "outputs": [],
   "source": [
    "autoencoder.compile(metrics=['accuracy'],\n",
    "                    loss='mean_squared_error',\n",
    "                    optimizer='adam')"
   ]
  },
  {
   "cell_type": "code",
   "execution_count": 78,
   "metadata": {
    "id": "WndkwUW40DFj"
   },
   "outputs": [
    {
     "name": "stdout",
     "output_type": "stream",
     "text": [
      "Epoch 1/50\n",
      "5347/5436 [============================>.] - ETA: 0s - loss: 1.4371e-05 - accuracy: 0.0350\n",
      "Epoch 1: val_loss improved from inf to 0.00002, saving model to autoencoder_fraud.h5\n",
      "5436/5436 [==============================] - 4s 652us/step - loss: 1.4624e-05 - accuracy: 0.0351 - val_loss: 1.5510e-05 - val_accuracy: 0.0353\n",
      "Epoch 2/50\n",
      " 260/5436 [>.............................] - ETA: 3s - loss: 1.3553e-05 - accuracy: 0.0344"
     ]
    },
    {
     "name": "stderr",
     "output_type": "stream",
     "text": [
      "/Users/domingocarvajal/.pyenv/versions/3.10.4/lib/python3.10/site-packages/keras/src/engine/training.py:3000: UserWarning: You are saving your model as an HDF5 file via `model.save()`. This file format is considered legacy. We recommend using instead the native Keras format, e.g. `model.save('my_model.keras')`.\n",
      "  saving_api.save_model(\n"
     ]
    },
    {
     "name": "stdout",
     "output_type": "stream",
     "text": [
      "5399/5436 [============================>.] - ETA: 0s - loss: 1.4366e-05 - accuracy: 0.0358\n",
      "Epoch 2: val_loss did not improve from 0.00002\n",
      "5436/5436 [==============================] - 3s 638us/step - loss: 1.4416e-05 - accuracy: 0.0358 - val_loss: 1.5522e-05 - val_accuracy: 0.0352\n",
      "Epoch 3/50\n",
      "5435/5436 [============================>.] - ETA: 0s - loss: 1.4404e-05 - accuracy: 0.0359\n",
      "Epoch 3: val_loss did not improve from 0.00002\n",
      "5436/5436 [==============================] - 3s 623us/step - loss: 1.4403e-05 - accuracy: 0.0359 - val_loss: 1.5617e-05 - val_accuracy: 0.0352\n",
      "Epoch 4/50\n",
      "5361/5436 [============================>.] - ETA: 0s - loss: 1.4394e-05 - accuracy: 0.0358\n",
      "Epoch 4: val_loss did not improve from 0.00002\n",
      "5436/5436 [==============================] - 3s 621us/step - loss: 1.4304e-05 - accuracy: 0.0359 - val_loss: 1.5560e-05 - val_accuracy: 0.0353\n",
      "Epoch 5/50\n",
      "5349/5436 [============================>.] - ETA: 0s - loss: 1.4339e-05 - accuracy: 0.0359\n",
      "Epoch 5: val_loss improved from 0.00002 to 0.00002, saving model to autoencoder_fraud.h5\n",
      "5436/5436 [==============================] - 3s 634us/step - loss: 1.4289e-05 - accuracy: 0.0360 - val_loss: 1.5459e-05 - val_accuracy: 0.0354\n",
      "Epoch 6/50\n",
      "5368/5436 [============================>.] - ETA: 0s - loss: 1.4276e-05 - accuracy: 0.0357\n",
      "Epoch 6: val_loss did not improve from 0.00002\n",
      "5436/5436 [==============================] - 3s 621us/step - loss: 1.4226e-05 - accuracy: 0.0357 - val_loss: 1.5548e-05 - val_accuracy: 0.0354\n",
      "Epoch 7/50\n",
      "5372/5436 [============================>.] - ETA: 0s - loss: 1.4196e-05 - accuracy: 0.0359\n",
      "Epoch 7: val_loss improved from 0.00002 to 0.00002, saving model to autoencoder_fraud.h5\n",
      "5436/5436 [==============================] - 3s 621us/step - loss: 1.4181e-05 - accuracy: 0.0360 - val_loss: 1.5395e-05 - val_accuracy: 0.0356\n",
      "Epoch 8/50\n",
      "5363/5436 [============================>.] - ETA: 0s - loss: 1.4104e-05 - accuracy: 0.0360\n",
      "Epoch 8: val_loss improved from 0.00002 to 0.00002, saving model to autoencoder_fraud.h5\n",
      "5436/5436 [==============================] - 3s 623us/step - loss: 1.4067e-05 - accuracy: 0.0361 - val_loss: 1.5280e-05 - val_accuracy: 0.0355\n",
      "Epoch 9/50\n",
      "5353/5436 [============================>.] - ETA: 0s - loss: 1.4103e-05 - accuracy: 0.0363\n",
      "Epoch 9: val_loss improved from 0.00002 to 0.00002, saving model to autoencoder_fraud.h5\n",
      "5436/5436 [==============================] - 3s 633us/step - loss: 1.4040e-05 - accuracy: 0.0363 - val_loss: 1.5047e-05 - val_accuracy: 0.0354\n",
      "Epoch 10/50\n",
      "5429/5436 [============================>.] - ETA: 0s - loss: 1.3860e-05 - accuracy: 0.0362\n",
      "Epoch 10: val_loss improved from 0.00002 to 0.00001, saving model to autoencoder_fraud.h5\n",
      "5436/5436 [==============================] - 3s 625us/step - loss: 1.3846e-05 - accuracy: 0.0362 - val_loss: 1.4609e-05 - val_accuracy: 0.0355\n",
      "Epoch 11/50\n",
      "5420/5436 [============================>.] - ETA: 0s - loss: 1.3634e-05 - accuracy: 0.0362\n",
      "Epoch 11: val_loss did not improve from 0.00001\n",
      "Restoring model weights from the end of the best epoch: 1.\n",
      "5436/5436 [==============================] - 3s 625us/step - loss: 1.3628e-05 - accuracy: 0.0362 - val_loss: 1.4629e-05 - val_accuracy: 0.0356\n",
      "Epoch 11: early stopping\n"
     ]
    }
   ],
   "source": [
    "from keras.models import load_model\n",
    "\n",
    "if os.path.exists('/content/autoencoder_fraud.h5'):\n",
    "  \n",
    "  auto_encoder = load_model('/content/autoencoder_fraud.h5')\n",
    "else:\n",
    "\n",
    "  history = autoencoder.fit(train_data, train_data,\n",
    "                      epochs=nb_epoch,\n",
    "                      batch_size=batch_size,\n",
    "                      shuffle=True,\n",
    "                      validation_data=(test_data, test_data),\n",
    "                      verbose=1,\n",
    "                      callbacks=[cp, early_stop]\n",
    "                      ).history"
   ]
  },
  {
   "cell_type": "code",
   "execution_count": 79,
   "metadata": {
    "colab": {
     "base_uri": "https://localhost:8080/"
    },
    "id": "XI15nLNUypIW",
    "outputId": "6b029668-00f3-472c-911d-03717a28a5b5"
   },
   "outputs": [
    {
     "data": {
      "image/png": "[encoded data removed]",
      "text/plain": [
       "<Figure size 640x480 with 1 Axes>"
      ]
     },
     "metadata": {},
     "output_type": "display_data"
    }
   ],
   "source": [
    "try:\n",
    "  plt.plot(history['loss'], linewidth=2, label='Train')\n",
    "  plt.plot(history['val_loss'], linewidth=2, label='Test')\n",
    "  plt.legend(loc='upper right')\n",
    "  plt.title('Model loss')\n",
    "  plt.ylabel('Loss')\n",
    "  plt.xlabel('Epoch')\n",
    "  # plt.ylim(ymin=0.70,ymax=1)\n",
    "  plt.show()\n",
    "except NameError as e:\n",
    "  print(\"MOdel is trained\")"
   ]
  },
  {
   "cell_type": "code",
   "execution_count": 80,
   "metadata": {
    "id": "5WhrXfcR_tPR"
   },
   "outputs": [],
   "source": [
    "# from keras.models import load_model\n",
    "# auto_encoder = load_model('/content/autoencoder_fraud.h5')"
   ]
  },
  {
   "cell_type": "code",
   "execution_count": 81,
   "metadata": {
    "colab": {
     "base_uri": "https://localhost:8080/",
     "height": 709
    },
    "id": "qAiMp6HozRhV",
    "outputId": "ac75cdf4-d163-48b6-8e30-73947703b1f0"
   },
   "outputs": [
    {
     "name": "stdout",
     "output_type": "stream",
     "text": [
      "2718/2718 [==============================] - 1s 236us/step\n",
      "[[0. 0. 0. ... 0. 0. 0.]\n",
      " [0. 0. 0. ... 0. 0. 0.]\n",
      " [0. 0. 0. ... 0. 0. 0.]\n",
      " ...\n",
      " [0. 0. 0. ... 0. 0. 0.]\n",
      " [0. 0. 0. ... 0. 0. 0.]\n",
      " [0. 0. 0. ... 0. 0. 0.]]\n",
      "Mean Squared Error: [5.2968778e-07 2.2567434e-07 1.5715926e-07 ... 1.1392491e-06 4.3974057e-07\n",
      " 1.1747014e-06]\n"
     ]
    },
    {
     "data": {
      "text/html": [
       "<div>\n",
       "<style scoped>\n",
       "    .dataframe tbody tr th:only-of-type {\n",
       "        vertical-align: middle;\n",
       "    }\n",
       "\n",
       "    .dataframe tbody tr th {\n",
       "        vertical-align: top;\n",
       "    }\n",
       "\n",
       "    .dataframe thead th {\n",
       "        text-align: right;\n",
       "    }\n",
       "</style>\n",
       "<table border=\"1\" class=\"dataframe\">\n",
       "  <thead>\n",
       "    <tr style=\"text-align: right;\">\n",
       "      <th></th>\n",
       "      <th>Reconstruction_error</th>\n",
       "      <th>True_class</th>\n",
       "    </tr>\n",
       "  </thead>\n",
       "  <tbody>\n",
       "    <tr>\n",
       "      <th>0</th>\n",
       "      <td>5.296878e-07</td>\n",
       "      <td>False</td>\n",
       "    </tr>\n",
       "    <tr>\n",
       "      <th>1</th>\n",
       "      <td>2.256743e-07</td>\n",
       "      <td>False</td>\n",
       "    </tr>\n",
       "    <tr>\n",
       "      <th>2</th>\n",
       "      <td>1.571593e-07</td>\n",
       "      <td>False</td>\n",
       "    </tr>\n",
       "    <tr>\n",
       "      <th>3</th>\n",
       "      <td>3.920967e-07</td>\n",
       "      <td>False</td>\n",
       "    </tr>\n",
       "    <tr>\n",
       "      <th>4</th>\n",
       "      <td>7.730551e-07</td>\n",
       "      <td>False</td>\n",
       "    </tr>\n",
       "    <tr>\n",
       "      <th>...</th>\n",
       "      <td>...</td>\n",
       "      <td>...</td>\n",
       "    </tr>\n",
       "    <tr>\n",
       "      <th>86961</th>\n",
       "      <td>1.378114e-06</td>\n",
       "      <td>False</td>\n",
       "    </tr>\n",
       "    <tr>\n",
       "      <th>86962</th>\n",
       "      <td>7.833600e-07</td>\n",
       "      <td>False</td>\n",
       "    </tr>\n",
       "    <tr>\n",
       "      <th>86963</th>\n",
       "      <td>1.139249e-06</td>\n",
       "      <td>False</td>\n",
       "    </tr>\n",
       "    <tr>\n",
       "      <th>86964</th>\n",
       "      <td>4.397406e-07</td>\n",
       "      <td>False</td>\n",
       "    </tr>\n",
       "    <tr>\n",
       "      <th>86965</th>\n",
       "      <td>1.174701e-06</td>\n",
       "      <td>False</td>\n",
       "    </tr>\n",
       "  </tbody>\n",
       "</table>\n",
       "<p>86966 rows × 2 columns</p>\n",
       "</div>"
      ],
      "text/plain": [
       "       Reconstruction_error  True_class\n",
       "0              5.296878e-07       False\n",
       "1              2.256743e-07       False\n",
       "2              1.571593e-07       False\n",
       "3              3.920967e-07       False\n",
       "4              7.730551e-07       False\n",
       "...                     ...         ...\n",
       "86961          1.378114e-06       False\n",
       "86962          7.833600e-07       False\n",
       "86963          1.139249e-06       False\n",
       "86964          4.397406e-07       False\n",
       "86965          1.174701e-06       False\n",
       "\n",
       "[86966 rows x 2 columns]"
      ]
     },
     "execution_count": 81,
     "metadata": {},
     "output_type": "execute_result"
    }
   ],
   "source": [
    "test_x_predictions = autoencoder.predict(test_data)\n",
    "print(test_x_predictions)\n",
    "mse = np.mean(np.power(test_data - test_x_predictions, 2), axis=1)\n",
    "test_labels = np.full((mse.shape), False)\n",
    "error_df = pd.DataFrame({'Reconstruction_error': mse,\n",
    "                        'True_class': test_labels})\n",
    "print(f\"Mean Squared Error: {mse}\")\n",
    "error_df"
   ]
  },
  {
   "cell_type": "code",
   "execution_count": 82,
   "metadata": {
    "colab": {
     "base_uri": "https://localhost:8080/"
    },
    "id": "LkcnRzmTzSsX",
    "outputId": "8ca1d881-be97-41b9-81a3-3158e514f33e"
   },
   "outputs": [
    {
     "name": "stdout",
     "output_type": "stream",
     "text": [
      "[0. 0. 0. 0. 0. 0. 0. 0. 0. 0. 0. 0. 0. 0. 0. 0. 0. 0. 0. 0. 0. 0. 0. 0.\n",
      " 0. 0. 0. 0. 0. 0.]\n",
      "tf.Tensor(\n",
      "[5.2447972e-04 6.3600700e-04 5.4708659e-04 5.4062746e-04 3.4136395e-04\n",
      " 5.4557947e-04 9.9470286e-05 5.4979941e-04 5.2125013e-04 2.4641503e-04\n",
      " 6.4938271e-04 5.6799798e-04 1.1529511e-04 6.1038585e-04 4.5439837e-04\n",
      " 4.5665907e-04 4.8152663e-04 4.4180310e-04 4.1802184e-04 3.2045259e-04\n",
      " 5.3442671e-04 3.7592018e-04 9.4948911e-05 5.5386865e-04 4.8584249e-04\n",
      " 7.2342029e-04 3.4045966e-04 2.9841086e-04 5.1623484e-04 4.6587570e-04], shape=(30,), dtype=float32)\n"
     ]
    }
   ],
   "source": [
    "print(test_x_predictions[1])\n",
    "print(test_data[1])"
   ]
  },
  {
   "cell_type": "code",
   "execution_count": 83,
   "metadata": {
    "colab": {
     "base_uri": "https://localhost:8080/",
     "height": 472
    },
    "id": "J9gFsgYgzoDW",
    "outputId": "f9602db2-0e77-46d5-9d48-a9ebc407673e"
   },
   "outputs": [
    {
     "data": {
      "image/png": "[encoded data removed]",
      "text/plain": [
       "<Figure size 640x480 with 1 Axes>"
      ]
     },
     "metadata": {},
     "output_type": "display_data"
    }
   ],
   "source": [
    "groups = error_df.groupby('True_class')\n",
    "threshold = error_df['Reconstruction_error'].quantile(0.999)\n",
    "fig, ax = plt.subplots()\n",
    "for name, group in groups:\n",
    "    ax.plot(group.index, group.Reconstruction_error, marker='o', ms=3.5, linestyle='',\n",
    "            label= \"Fraud\" if name == 1 else \"Normal\")\n",
    "ax.hlines(threshold, ax.get_xlim()[0], ax.get_xlim()[1], colors=\"r\", zorder=100, label='Threshold')\n",
    "ax.legend()\n",
    "plt.title(\"Reconstruction error for normal and fraud data\")\n",
    "plt.ylabel(\"Reconstruction error\")\n",
    "plt.xlabel(\"Data point index\")\n",
    "plt.show();"
   ]
  },
  {
   "cell_type": "code",
   "execution_count": 84,
   "metadata": {
    "colab": {
     "base_uri": "https://localhost:8080/"
    },
    "id": "Q72FFEhX3lce",
    "outputId": "da575c4a-e75f-4bad-cfa4-1dba5f7ca802"
   },
   "outputs": [
    {
     "data": {
      "text/plain": [
       "0.0019602235266939793"
      ]
     },
     "execution_count": 84,
     "metadata": {},
     "output_type": "execute_result"
    }
   ],
   "source": [
    "error_df['Reconstruction_error'].quantile(0.999)"
   ]
  },
  {
   "cell_type": "code",
   "execution_count": 85,
   "metadata": {
    "id": "V55lXGcDy-Id"
   },
   "outputs": [],
   "source": [
    "pred_y = [1 if e > threshold else 0 for e in error_df.Reconstruction_error.values]\n",
    "error_df['pred'] =pred_y"
   ]
  },
  {
   "cell_type": "code",
   "execution_count": 86,
   "metadata": {
    "colab": {
     "base_uri": "https://localhost:8080/",
     "height": 424
    },
    "id": "i-NOOWJu4_6s",
    "outputId": "5078ddd8-98f5-49c6-a4e1-ab983f81ba08"
   },
   "outputs": [
    {
     "data": {
      "text/html": [
       "<div>\n",
       "<style scoped>\n",
       "    .dataframe tbody tr th:only-of-type {\n",
       "        vertical-align: middle;\n",
       "    }\n",
       "\n",
       "    .dataframe tbody tr th {\n",
       "        vertical-align: top;\n",
       "    }\n",
       "\n",
       "    .dataframe thead th {\n",
       "        text-align: right;\n",
       "    }\n",
       "</style>\n",
       "<table border=\"1\" class=\"dataframe\">\n",
       "  <thead>\n",
       "    <tr style=\"text-align: right;\">\n",
       "      <th></th>\n",
       "      <th>Reconstruction_error</th>\n",
       "      <th>True_class</th>\n",
       "      <th>pred</th>\n",
       "    </tr>\n",
       "  </thead>\n",
       "  <tbody>\n",
       "    <tr>\n",
       "      <th>10</th>\n",
       "      <td>0.014592</td>\n",
       "      <td>False</td>\n",
       "      <td>1</td>\n",
       "    </tr>\n",
       "    <tr>\n",
       "      <th>109</th>\n",
       "      <td>0.003852</td>\n",
       "      <td>False</td>\n",
       "      <td>1</td>\n",
       "    </tr>\n",
       "    <tr>\n",
       "      <th>1985</th>\n",
       "      <td>0.019183</td>\n",
       "      <td>False</td>\n",
       "      <td>1</td>\n",
       "    </tr>\n",
       "    <tr>\n",
       "      <th>2612</th>\n",
       "      <td>0.033334</td>\n",
       "      <td>False</td>\n",
       "      <td>1</td>\n",
       "    </tr>\n",
       "    <tr>\n",
       "      <th>3173</th>\n",
       "      <td>0.040419</td>\n",
       "      <td>False</td>\n",
       "      <td>1</td>\n",
       "    </tr>\n",
       "    <tr>\n",
       "      <th>...</th>\n",
       "      <td>...</td>\n",
       "      <td>...</td>\n",
       "      <td>...</td>\n",
       "    </tr>\n",
       "    <tr>\n",
       "      <th>84126</th>\n",
       "      <td>0.002426</td>\n",
       "      <td>False</td>\n",
       "      <td>1</td>\n",
       "    </tr>\n",
       "    <tr>\n",
       "      <th>84509</th>\n",
       "      <td>0.002677</td>\n",
       "      <td>False</td>\n",
       "      <td>1</td>\n",
       "    </tr>\n",
       "    <tr>\n",
       "      <th>85406</th>\n",
       "      <td>0.040404</td>\n",
       "      <td>False</td>\n",
       "      <td>1</td>\n",
       "    </tr>\n",
       "    <tr>\n",
       "      <th>85519</th>\n",
       "      <td>0.002677</td>\n",
       "      <td>False</td>\n",
       "      <td>1</td>\n",
       "    </tr>\n",
       "    <tr>\n",
       "      <th>85899</th>\n",
       "      <td>0.009317</td>\n",
       "      <td>False</td>\n",
       "      <td>1</td>\n",
       "    </tr>\n",
       "  </tbody>\n",
       "</table>\n",
       "<p>87 rows × 3 columns</p>\n",
       "</div>"
      ],
      "text/plain": [
       "       Reconstruction_error  True_class  pred\n",
       "10                 0.014592       False     1\n",
       "109                0.003852       False     1\n",
       "1985               0.019183       False     1\n",
       "2612               0.033334       False     1\n",
       "3173               0.040419       False     1\n",
       "...                     ...         ...   ...\n",
       "84126              0.002426       False     1\n",
       "84509              0.002677       False     1\n",
       "85406              0.040404       False     1\n",
       "85519              0.002677       False     1\n",
       "85899              0.009317       False     1\n",
       "\n",
       "[87 rows x 3 columns]"
      ]
     },
     "execution_count": 86,
     "metadata": {},
     "output_type": "execute_result"
    }
   ],
   "source": [
    "anomalies_df = error_df[error_df['pred'] == 1]\n",
    "anomalies_df"
   ]
  },
  {
   "cell_type": "code",
   "execution_count": 103,
   "metadata": {},
   "outputs": [
    {
     "data": {
      "text/plain": [
       "array([0.01459152, 0.0038522 , 0.01918348, 0.03333351, 0.04041911,\n",
       "       0.003851  , 0.0021677 , 0.04012303, 0.01148436, 0.00216768,\n",
       "       0.00250945, 0.00422983, 0.00211618, 0.01223006, 0.00418411,\n",
       "       0.00198834, 0.01717803, 0.02296232, 0.00216838, 0.00242612,\n",
       "       0.00218003, 0.01717799, 0.02378068, 0.01717805, 0.03333351,\n",
       "       0.01335331, 0.02100144, 0.00242613, 0.03335403, 0.03349919,\n",
       "       0.01350039, 0.03339555, 0.00198756, 0.00385102, 0.00235846,\n",
       "       0.00344858, 0.023785  , 0.00290941, 0.01717805, 0.00925603,\n",
       "       0.0041841 , 0.00330524, 0.00242613, 0.0023667 , 0.00237082,\n",
       "       0.02166096, 0.00232251, 0.00821027, 0.00330338, 0.01723366,\n",
       "       0.02916056, 0.00216767, 0.00216747, 0.0403941 , 0.00216749,\n",
       "       0.00330524, 0.00882684, 0.00932042, 0.00418412, 0.00267906,\n",
       "       0.04039337, 0.0237839 , 0.00354594, 0.00330524, 0.0042245 ,\n",
       "       0.02749527, 0.0030109 , 0.00216868, 0.00312133, 0.00242613,\n",
       "       0.00931549, 0.02381281, 0.00242613, 0.003851  , 0.00267995,\n",
       "       0.04038634, 0.0041841 , 0.0026772 , 0.0243248 , 0.00355398,\n",
       "       0.01305597, 0.01717804, 0.00242622, 0.0026773 , 0.04040431,\n",
       "       0.00267714, 0.00931711], dtype=float32)"
      ]
     },
     "execution_count": 103,
     "metadata": {},
     "output_type": "execute_result"
    }
   ],
   "source": [
    "anomalies_df[\"Reconstruction_error\"].values"
   ]
  },
  {
   "cell_type": "code",
   "execution_count": 87,
   "metadata": {
    "colab": {
     "base_uri": "https://localhost:8080/"
    },
    "id": "I-6a-IFsA3XV",
    "outputId": "e5050611-cf4d-4fe4-8257-f1aa7a604371"
   },
   "outputs": [
    {
     "name": "stdout",
     "output_type": "stream",
     "text": [
      "(87,)\n",
      "['2022-12-29T22:46:00.000000000' '2023-03-03T19:44:00.000000000'\n",
      " '2022-09-09T04:04:00.000000000' '2022-09-03T09:25:00.000000000'\n",
      " '2022-06-03T18:35:00.000000000' '2023-03-03T19:57:00.000000000'\n",
      " '2023-01-15T18:20:00.000000000' '2022-06-03T18:43:00.000000000'\n",
      " '2022-07-08T05:46:00.000000000' '2023-01-15T18:18:00.000000000'\n",
      " '2022-12-17T19:54:00.000000000' '2022-09-07T19:17:00.000000000'\n",
      " '2022-12-16T21:50:00.000000000' '2022-07-08T05:42:00.000000000'\n",
      " '2023-03-18T20:49:00.000000000' '2022-12-16T21:29:00.000000000'\n",
      " '2022-12-29T23:00:00.000000000' '2022-09-09T03:51:00.000000000'\n",
      " '2023-02-08T22:42:00.000000000' '2022-12-15T17:55:00.000000000'\n",
      " '2022-12-16T21:30:00.000000000' '2022-12-29T23:03:00.000000000'\n",
      " '2022-09-09T04:09:00.000000000' '2022-12-29T22:43:00.000000000'\n",
      " '2022-09-03T09:21:00.000000000' '2022-07-08T05:48:00.000000000'\n",
      " '2022-09-09T03:56:00.000000000' '2022-12-15T17:54:00.000000000'\n",
      " '2022-09-03T09:22:00.000000000' '2022-09-03T09:08:00.000000000'\n",
      " '2022-07-08T05:51:00.000000000' '2022-09-03T09:06:00.000000000'\n",
      " '2022-12-15T17:36:00.000000000' '2023-03-03T19:55:00.000000000'\n",
      " '2022-12-17T19:51:00.000000000' '2022-12-17T20:08:00.000000000'\n",
      " '2022-09-09T04:07:00.000000000' '2022-12-16T20:53:00.000000000'\n",
      " '2022-12-29T22:54:00.000000000' '2023-01-19T03:39:00.000000000'\n",
      " '2023-03-18T20:40:00.000000000' '2022-06-08T08:26:00.000000000'\n",
      " '2022-12-15T18:00:00.000000000' '2022-12-17T20:02:00.000000000'\n",
      " '2022-12-16T21:43:00.000000000' '2022-09-09T03:54:00.000000000'\n",
      " '2022-12-15T17:38:00.000000000' '2023-01-19T03:32:00.000000000'\n",
      " '2022-06-08T08:15:00.000000000' '2022-12-29T22:45:00.000000000'\n",
      " '2022-09-03T09:09:00.000000000' '2023-01-15T18:16:00.000000000'\n",
      " '2023-01-15T18:41:00.000000000' '2022-06-03T18:34:00.000000000'\n",
      " '2023-01-15T18:40:00.000000000' '2022-06-08T08:25:00.000000000'\n",
      " '2023-01-19T03:34:00.000000000' '2023-01-19T03:47:00.000000000'\n",
      " '2023-03-18T20:33:00.000000000' '2022-08-01T10:36:00.000000000'\n",
      " '2022-06-03T18:40:00.000000000' '2022-09-09T04:19:00.000000000'\n",
      " '2022-12-16T21:00:00.000000000' '2022-06-08T08:27:00.000000000'\n",
      " '2022-09-07T19:19:00.000000000' '2022-06-03T18:28:00.000000000'\n",
      " '2022-09-07T19:09:00.000000000' '2023-02-08T22:41:00.000000000'\n",
      " '2022-12-17T20:04:00.000000000' '2022-12-15T17:49:00.000000000'\n",
      " '2023-01-19T03:55:00.000000000' '2022-09-09T03:52:00.000000000'\n",
      " '2022-12-15T17:58:00.000000000' '2023-03-03T19:59:00.000000000'\n",
      " '2022-08-01T10:43:00.000000000' '2022-06-03T18:41:00.000000000'\n",
      " '2023-03-18T20:45:00.000000000' '2022-08-01T10:44:00.000000000'\n",
      " '2022-09-09T04:01:00.000000000' '2023-03-18T20:35:00.000000000'\n",
      " '2022-07-08T06:06:00.000000000' '2022-12-29T22:59:00.000000000'\n",
      " '2022-12-15T17:35:00.000000000' '2022-08-01T10:38:00.000000000'\n",
      " '2022-06-03T18:33:00.000000000' '2022-08-01T10:55:00.000000000'\n",
      " '2023-01-19T03:36:00.000000000']\n"
     ]
    }
   ],
   "source": [
    "# Get the indices from anomalies_df\n",
    "anomaly_indices = anomalies_df.index.values\n",
    "\n",
    "# Find the intersection between test_indices and anomaly_indices\n",
    "matching_indices = []\n",
    "for index in anomaly_indices:\n",
    "  matching_indices.append(test_indices[index])\n",
    "matching_indices = np.array(matching_indices)\n",
    "print(matching_indices.shape)\n",
    "\n",
    "# Get the values from df_filtered corresponding to matching_indices\n",
    "matching_values = df_filtered.loc[matching_indices, 'datetime'].values\n",
    "\n",
    "# Print the matching datetime values\n",
    "print(matching_values)\n"
   ]
  },
  {
   "cell_type": "code",
   "execution_count": 116,
   "metadata": {},
   "outputs": [
    {
     "data": {
      "text/html": [
       "<div>\n",
       "<style scoped>\n",
       "    .dataframe tbody tr th:only-of-type {\n",
       "        vertical-align: middle;\n",
       "    }\n",
       "\n",
       "    .dataframe tbody tr th {\n",
       "        vertical-align: top;\n",
       "    }\n",
       "\n",
       "    .dataframe thead th {\n",
       "        text-align: right;\n",
       "    }\n",
       "</style>\n",
       "<table border=\"1\" class=\"dataframe\">\n",
       "  <thead>\n",
       "    <tr style=\"text-align: right;\">\n",
       "      <th></th>\n",
       "      <th>original_index</th>\n",
       "      <th>datetime</th>\n",
       "      <th>error_value</th>\n",
       "    </tr>\n",
       "  </thead>\n",
       "  <tbody>\n",
       "    <tr>\n",
       "      <th>4</th>\n",
       "      <td>3014</td>\n",
       "      <td>2022-06-03 18:35:00</td>\n",
       "      <td>0.040419</td>\n",
       "    </tr>\n",
       "    <tr>\n",
       "      <th>84</th>\n",
       "      <td>3012</td>\n",
       "      <td>2022-06-03 18:33:00</td>\n",
       "      <td>0.040404</td>\n",
       "    </tr>\n",
       "    <tr>\n",
       "      <th>53</th>\n",
       "      <td>3013</td>\n",
       "      <td>2022-06-03 18:34:00</td>\n",
       "      <td>0.040394</td>\n",
       "    </tr>\n",
       "    <tr>\n",
       "      <th>60</th>\n",
       "      <td>3019</td>\n",
       "      <td>2022-06-03 18:40:00</td>\n",
       "      <td>0.040393</td>\n",
       "    </tr>\n",
       "    <tr>\n",
       "      <th>75</th>\n",
       "      <td>3020</td>\n",
       "      <td>2022-06-03 18:41:00</td>\n",
       "      <td>0.040386</td>\n",
       "    </tr>\n",
       "    <tr>\n",
       "      <th>...</th>\n",
       "      <td>...</td>\n",
       "      <td>...</td>\n",
       "      <td>...</td>\n",
       "    </tr>\n",
       "    <tr>\n",
       "      <th>54</th>\n",
       "      <td>328459</td>\n",
       "      <td>2023-01-15 18:40:00</td>\n",
       "      <td>0.002167</td>\n",
       "    </tr>\n",
       "    <tr>\n",
       "      <th>52</th>\n",
       "      <td>328460</td>\n",
       "      <td>2023-01-15 18:41:00</td>\n",
       "      <td>0.002167</td>\n",
       "    </tr>\n",
       "    <tr>\n",
       "      <th>12</th>\n",
       "      <td>285449</td>\n",
       "      <td>2022-12-16 21:50:00</td>\n",
       "      <td>0.002116</td>\n",
       "    </tr>\n",
       "    <tr>\n",
       "      <th>15</th>\n",
       "      <td>285428</td>\n",
       "      <td>2022-12-16 21:29:00</td>\n",
       "      <td>0.001988</td>\n",
       "    </tr>\n",
       "    <tr>\n",
       "      <th>32</th>\n",
       "      <td>283755</td>\n",
       "      <td>2022-12-15 17:36:00</td>\n",
       "      <td>0.001988</td>\n",
       "    </tr>\n",
       "  </tbody>\n",
       "</table>\n",
       "<p>87 rows × 3 columns</p>\n",
       "</div>"
      ],
      "text/plain": [
       "    original_index            datetime  error_value\n",
       "4             3014 2022-06-03 18:35:00     0.040419\n",
       "84            3012 2022-06-03 18:33:00     0.040404\n",
       "53            3013 2022-06-03 18:34:00     0.040394\n",
       "60            3019 2022-06-03 18:40:00     0.040393\n",
       "75            3020 2022-06-03 18:41:00     0.040386\n",
       "..             ...                 ...          ...\n",
       "54          328459 2023-01-15 18:40:00     0.002167\n",
       "52          328460 2023-01-15 18:41:00     0.002167\n",
       "12          285449 2022-12-16 21:50:00     0.002116\n",
       "15          285428 2022-12-16 21:29:00     0.001988\n",
       "32          283755 2022-12-15 17:36:00     0.001988\n",
       "\n",
       "[87 rows x 3 columns]"
      ]
     },
     "execution_count": 116,
     "metadata": {},
     "output_type": "execute_result"
    }
   ],
   "source": [
    "anomalies_dates_df = pd.DataFrame({'original_index': matching_indices, 'datetime': matching_values, 'error_value': anomalies_df[\"Reconstruction_error\"].values})\n",
    "anomalies_dates_df = anomalies_dates_df.sort_values(\"error_value\", ascending=False)\n",
    "anomalies_dates_df"
   ]
  },
  {
   "cell_type": "markdown",
   "metadata": {
    "id": "7bve6UmlH7Cf"
   },
   "source": [
    "# 5. Ploting the anomalies"
   ]
  },
  {
   "cell_type": "code",
   "execution_count": 115,
   "metadata": {
    "colab": {
     "base_uri": "https://localhost:8080/",
     "height": 551
    },
    "id": "wlRgm2s2JuT9",
    "outputId": "6b706bd8-e7a5-4ffb-d7b0-51656e87f201"
   },
   "outputs": [
    {
     "data": {
      "text/html": [
       "<div>\n",
       "<style scoped>\n",
       "    .dataframe tbody tr th:only-of-type {\n",
       "        vertical-align: middle;\n",
       "    }\n",
       "\n",
       "    .dataframe tbody tr th {\n",
       "        vertical-align: top;\n",
       "    }\n",
       "\n",
       "    .dataframe thead th {\n",
       "        text-align: right;\n",
       "    }\n",
       "</style>\n",
       "<table border=\"1\" class=\"dataframe\">\n",
       "  <thead>\n",
       "    <tr style=\"text-align: right;\">\n",
       "      <th></th>\n",
       "      <th>datetime</th>\n",
       "      <th>value</th>\n",
       "      <th>hour</th>\n",
       "      <th>day</th>\n",
       "    </tr>\n",
       "  </thead>\n",
       "  <tbody>\n",
       "    <tr>\n",
       "      <th>0</th>\n",
       "      <td>2022-06-01 16:21:00</td>\n",
       "      <td>73.074380</td>\n",
       "      <td>2022-06-01 16:00:00</td>\n",
       "      <td>2022-06-01</td>\n",
       "    </tr>\n",
       "    <tr>\n",
       "      <th>1</th>\n",
       "      <td>2022-06-01 16:22:00</td>\n",
       "      <td>68.822115</td>\n",
       "      <td>2022-06-01 16:00:00</td>\n",
       "      <td>2022-06-01</td>\n",
       "    </tr>\n",
       "    <tr>\n",
       "      <th>2</th>\n",
       "      <td>2022-06-01 16:23:00</td>\n",
       "      <td>70.881279</td>\n",
       "      <td>2022-06-01 16:00:00</td>\n",
       "      <td>2022-06-01</td>\n",
       "    </tr>\n",
       "    <tr>\n",
       "      <th>3</th>\n",
       "      <td>2022-06-01 16:24:00</td>\n",
       "      <td>88.367742</td>\n",
       "      <td>2022-06-01 16:00:00</td>\n",
       "      <td>2022-06-01</td>\n",
       "    </tr>\n",
       "    <tr>\n",
       "      <th>4</th>\n",
       "      <td>2022-06-01 16:25:00</td>\n",
       "      <td>69.131068</td>\n",
       "      <td>2022-06-01 16:00:00</td>\n",
       "      <td>2022-06-01</td>\n",
       "    </tr>\n",
       "    <tr>\n",
       "      <th>...</th>\n",
       "      <td>...</td>\n",
       "      <td>...</td>\n",
       "      <td>...</td>\n",
       "      <td>...</td>\n",
       "    </tr>\n",
       "    <tr>\n",
       "      <th>434854</th>\n",
       "      <td>2023-03-31 13:55:00</td>\n",
       "      <td>48.444444</td>\n",
       "      <td>2023-03-31 13:00:00</td>\n",
       "      <td>2023-03-31</td>\n",
       "    </tr>\n",
       "    <tr>\n",
       "      <th>434855</th>\n",
       "      <td>2023-03-31 13:56:00</td>\n",
       "      <td>58.716535</td>\n",
       "      <td>2023-03-31 13:00:00</td>\n",
       "      <td>2023-03-31</td>\n",
       "    </tr>\n",
       "    <tr>\n",
       "      <th>434856</th>\n",
       "      <td>2023-03-31 13:57:00</td>\n",
       "      <td>84.803571</td>\n",
       "      <td>2023-03-31 13:00:00</td>\n",
       "      <td>2023-03-31</td>\n",
       "    </tr>\n",
       "    <tr>\n",
       "      <th>434857</th>\n",
       "      <td>2023-03-31 13:58:00</td>\n",
       "      <td>40.194805</td>\n",
       "      <td>2023-03-31 13:00:00</td>\n",
       "      <td>2023-03-31</td>\n",
       "    </tr>\n",
       "    <tr>\n",
       "      <th>434858</th>\n",
       "      <td>2023-03-31 13:59:00</td>\n",
       "      <td>46.680851</td>\n",
       "      <td>2023-03-31 13:00:00</td>\n",
       "      <td>2023-03-31</td>\n",
       "    </tr>\n",
       "  </tbody>\n",
       "</table>\n",
       "<p>434859 rows × 4 columns</p>\n",
       "</div>"
      ],
      "text/plain": [
       "                  datetime      value                hour        day\n",
       "0      2022-06-01 16:21:00  73.074380 2022-06-01 16:00:00 2022-06-01\n",
       "1      2022-06-01 16:22:00  68.822115 2022-06-01 16:00:00 2022-06-01\n",
       "2      2022-06-01 16:23:00  70.881279 2022-06-01 16:00:00 2022-06-01\n",
       "3      2022-06-01 16:24:00  88.367742 2022-06-01 16:00:00 2022-06-01\n",
       "4      2022-06-01 16:25:00  69.131068 2022-06-01 16:00:00 2022-06-01\n",
       "...                    ...        ...                 ...        ...\n",
       "434854 2023-03-31 13:55:00  48.444444 2023-03-31 13:00:00 2023-03-31\n",
       "434855 2023-03-31 13:56:00  58.716535 2023-03-31 13:00:00 2023-03-31\n",
       "434856 2023-03-31 13:57:00  84.803571 2023-03-31 13:00:00 2023-03-31\n",
       "434857 2023-03-31 13:58:00  40.194805 2023-03-31 13:00:00 2023-03-31\n",
       "434858 2023-03-31 13:59:00  46.680851 2023-03-31 13:00:00 2023-03-31\n",
       "\n",
       "[434859 rows x 4 columns]"
      ]
     },
     "execution_count": 115,
     "metadata": {},
     "output_type": "execute_result"
    }
   ],
   "source": [
    "df['day'] = df['datetime'].dt.floor('D')\n",
    "df"
   ]
  },
  {
   "cell_type": "code",
   "execution_count": 94,
   "metadata": {
    "id": "4LeP4fek5p6l"
   },
   "outputs": [],
   "source": [
    "\n",
    "\n",
    "if not os.path.exists(\"images\"):\n",
    "    os.mkdir(\"images\")\n"
   ]
  },
  {
   "cell_type": "code",
   "execution_count": 90,
   "metadata": {
    "colab": {
     "base_uri": "https://localhost:8080/"
    },
    "id": "wIiR4LjeCS7m",
    "outputId": "9b931930-4308-4b85-d7fa-82d3acc65f8f"
   },
   "outputs": [
    {
     "name": "stdout",
     "output_type": "stream",
     "text": [
      "Requirement already satisfied: kaleido in /Users/domingocarvajal/.pyenv/versions/3.10.4/lib/python3.10/site-packages (0.2.1)\r\n"
     ]
    }
   ],
   "source": [
    "!pip install -U kaleido"
   ]
  },
  {
   "cell_type": "code",
   "execution_count": 117,
   "metadata": {
    "colab": {
     "base_uri": "https://localhost:8080/",
     "height": 389
    },
    "id": "noOVFN4pd-gx",
    "outputId": "0691a834-c343-4f61-c80b-a39e0fbeaef0"
   },
   "outputs": [
    {
     "name": "stdout",
     "output_type": "stream",
     "text": [
      "2022-06-03T18:35:00.000000000\n",
      "2022-06-03T18:33:00.000000000\n",
      "2022-06-03T18:34:00.000000000\n",
      "2022-06-03T18:40:00.000000000\n",
      "2022-06-03T18:41:00.000000000\n",
      "2022-06-03T18:43:00.000000000\n",
      "2022-09-03T09:08:00.000000000\n",
      "2022-09-03T09:06:00.000000000\n",
      "2022-09-03T09:22:00.000000000\n",
      "2022-09-03T09:21:00.000000000\n",
      "2022-09-03T09:25:00.000000000\n",
      "2022-09-03T09:09:00.000000000\n",
      "2022-06-03T18:28:00.000000000\n",
      "2022-09-09T04:01:00.000000000\n",
      "2022-09-09T03:52:00.000000000\n",
      "2022-09-09T04:07:00.000000000\n",
      "2022-09-09T04:19:00.000000000\n",
      "2022-09-09T04:09:00.000000000\n",
      "2022-09-09T03:51:00.000000000\n",
      "2022-09-09T03:54:00.000000000\n",
      "2022-09-09T03:56:00.000000000\n",
      "2022-09-09T04:04:00.000000000\n",
      "2022-12-29T22:45:00.000000000\n",
      "2022-12-29T22:54:00.000000000\n",
      "2022-12-29T22:43:00.000000000\n",
      "2022-12-29T22:59:00.000000000\n",
      "2022-12-29T23:00:00.000000000\n",
      "2022-12-29T23:03:00.000000000\n",
      "2022-12-29T22:46:00.000000000\n",
      "2022-07-08T05:51:00.000000000\n",
      "2022-07-08T05:48:00.000000000\n",
      "2022-07-08T06:06:00.000000000\n",
      "2022-07-08T05:42:00.000000000\n",
      "2022-07-08T05:46:00.000000000\n",
      "2023-01-19T03:47:00.000000000\n",
      "2023-01-19T03:36:00.000000000\n",
      "2023-01-19T03:55:00.000000000\n",
      "2023-01-19T03:39:00.000000000\n",
      "2023-01-19T03:34:00.000000000\n",
      "2023-01-19T03:32:00.000000000\n",
      "2022-09-07T19:17:00.000000000\n",
      "2022-09-07T19:19:00.000000000\n",
      "2023-03-18T20:33:00.000000000\n",
      "2023-03-18T20:49:00.000000000\n",
      "2023-03-18T20:40:00.000000000\n",
      "2023-03-18T20:45:00.000000000\n",
      "2023-03-03T19:44:00.000000000\n",
      "2023-03-03T19:55:00.000000000\n",
      "2023-03-03T19:59:00.000000000\n",
      "2023-03-03T19:57:00.000000000\n",
      "2023-03-18T20:35:00.000000000\n",
      "2022-12-16T21:00:00.000000000\n",
      "2022-12-17T20:08:00.000000000\n",
      "2022-06-08T08:26:00.000000000\n",
      "2022-06-08T08:25:00.000000000\n",
      "2022-06-08T08:27:00.000000000\n",
      "2022-06-08T08:15:00.000000000\n",
      "2022-12-17T20:04:00.000000000\n",
      "2022-09-07T19:09:00.000000000\n",
      "2022-12-16T20:53:00.000000000\n",
      "2022-08-01T10:43:00.000000000\n",
      "2022-08-01T10:36:00.000000000\n",
      "2022-08-01T10:38:00.000000000\n",
      "2022-08-01T10:44:00.000000000\n",
      "2022-08-01T10:55:00.000000000\n",
      "2022-12-17T19:54:00.000000000\n",
      "2022-12-15T17:35:00.000000000\n",
      "2022-12-15T18:00:00.000000000\n",
      "2022-12-15T17:54:00.000000000\n",
      "2022-12-15T17:58:00.000000000\n",
      "2022-12-15T17:49:00.000000000\n",
      "2022-12-15T17:55:00.000000000\n",
      "2022-12-16T21:43:00.000000000\n",
      "2022-12-17T20:02:00.000000000\n",
      "2022-12-17T19:51:00.000000000\n",
      "2022-12-15T17:38:00.000000000\n",
      "2022-12-16T21:30:00.000000000\n",
      "2023-02-08T22:41:00.000000000\n",
      "2023-02-08T22:42:00.000000000\n",
      "2023-01-15T18:20:00.000000000\n",
      "2023-01-15T18:18:00.000000000\n",
      "2023-01-15T18:16:00.000000000\n",
      "2023-01-15T18:40:00.000000000\n",
      "2023-01-15T18:41:00.000000000\n",
      "2022-12-16T21:50:00.000000000\n",
      "2022-12-16T21:29:00.000000000\n",
      "2022-12-15T17:36:00.000000000\n"
     ]
    }
   ],
   "source": [
    "import plotly.express as px\n",
    "\n",
    "for i in range(len(matching_indices)):\n",
    "  ap = anomalies_dates_df['original_index'].values[i] #Anomaly Point\n",
    "  time = anomalies_dates_df['datetime'].values[i]\n",
    "  hour = df['hour'].values[ap]\n",
    "  fig = px.line(df[df['hour'].between(hour - pd.DateOffset(hours = 1), hour + pd.DateOffset(hours = 1))], x='datetime', y=\"value\")\n",
    "  fig.update_yaxes(ticklabelposition=\"inside top\", title='Webserver request time (s)')\n",
    "  x0 = time\n",
    "  x1 = time + pd.DateOffset(hours = 0.5)\n",
    "  fig.add_vrect(x0=str(x0), x1=str(x1), annotation_text=\"\", annotation_position=\"top left\",\n",
    "              fillcolor=\"red\", opacity=0.25, line_width=0)\n",
    "  fig.write_image(f\"images/fig{i + 1}.pdf\")\n",
    "  # fig.show()\n",
    "  print(time)\n"
   ]
  },
  {
   "cell_type": "code",
   "execution_count": null,
   "metadata": {},
   "outputs": [],
   "source": []
  }
 ],
 "metadata": {
  "colab": {
   "provenance": []
  },
  "kernelspec": {
   "display_name": "Python 3 (ipykernel)",
   "language": "python",
   "name": "python3"
  },
  "language_info": {
   "codemirror_mode": {
    "name": "ipython",
    "version": 3
   },
   "file_extension": ".py",
   "mimetype": "text/x-python",
   "name": "python",
   "nbconvert_exporter": "python",
   "pygments_lexer": "ipython3",
   "version": "3.10.4"
  }
 },
 "nbformat": 4,
 "nbformat_minor": 1
}
