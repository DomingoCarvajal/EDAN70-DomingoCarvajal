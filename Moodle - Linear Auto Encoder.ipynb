{
 "cells": [
  {
   "cell_type": "markdown",
   "metadata": {
    "id": "kj-UaZXZ4oFq"
   },
   "source": [
    "# Anomaly Detection in a time series.\n",
    "\n",
    "### **Implementation in webserver request time in LTH's moodle server**"
   ]
  },
  {
   "cell_type": "markdown",
   "metadata": {
    "id": "itiejEUrd7yw"
   },
   "source": [
    "1. Dependencies"
   ]
  },
  {
   "cell_type": "code",
   "execution_count": 1,
   "metadata": {},
   "outputs": [],
   "source": [
    "#!pip install tensorflow"
   ]
  },
  {
   "cell_type": "code",
   "execution_count": 2,
   "metadata": {
    "id": "tE5I02RQ46U3"
   },
   "outputs": [],
   "source": [
    "import pandas as pd\n",
    "import os\n",
    "import numpy as np\n",
    "import tensorflow as tf\n",
    "import matplotlib.pyplot as plt\n",
    "import seaborn as sns\n",
    "from sklearn.model_selection import train_test_split\n",
    "from sklearn.preprocessing import StandardScaler\n",
    "from sklearn.metrics import confusion_matrix, recall_score, accuracy_score, precision_score\n",
    "RANDOM_SEED = 2021 \n",
    "TEST_PCT = 0.3"
   ]
  },
  {
   "cell_type": "markdown",
   "metadata": {
    "id": "2hdgzH-jd_Kf"
   },
   "source": [
    "2. Reading the data"
   ]
  },
  {
   "cell_type": "code",
   "execution_count": 3,
   "metadata": {
    "colab": {
     "base_uri": "https://localhost:8080/",
     "height": 424
    },
    "id": "7RQoiy2seC2g",
    "outputId": "218bc3e3-db07-4255-d94d-a51a8cede2a8"
   },
   "outputs": [
    {
     "data": {
      "text/html": [
       "<div>\n",
       "<style scoped>\n",
       "    .dataframe tbody tr th:only-of-type {\n",
       "        vertical-align: middle;\n",
       "    }\n",
       "\n",
       "    .dataframe tbody tr th {\n",
       "        vertical-align: top;\n",
       "    }\n",
       "\n",
       "    .dataframe thead th {\n",
       "        text-align: right;\n",
       "    }\n",
       "</style>\n",
       "<table border=\"1\" class=\"dataframe\">\n",
       "  <thead>\n",
       "    <tr style=\"text-align: right;\">\n",
       "      <th></th>\n",
       "      <th>timestamp</th>\n",
       "      <th>unix-epoch</th>\n",
       "      <th>value</th>\n",
       "    </tr>\n",
       "  </thead>\n",
       "  <tbody>\n",
       "    <tr>\n",
       "      <th>0</th>\n",
       "      <td>2022-06-01 18:47:03.625346+00</td>\n",
       "      <td>1.654109e+09</td>\n",
       "      <td>78.480000</td>\n",
       "    </tr>\n",
       "    <tr>\n",
       "      <th>1</th>\n",
       "      <td>2022-06-01 18:49:03.826399+00</td>\n",
       "      <td>1.654109e+09</td>\n",
       "      <td>135.917031</td>\n",
       "    </tr>\n",
       "    <tr>\n",
       "      <th>2</th>\n",
       "      <td>2022-06-01 18:48:04.301765+00</td>\n",
       "      <td>1.654109e+09</td>\n",
       "      <td>74.639130</td>\n",
       "    </tr>\n",
       "    <tr>\n",
       "      <th>3</th>\n",
       "      <td>2022-06-01 18:46:04.039116+00</td>\n",
       "      <td>1.654109e+09</td>\n",
       "      <td>157.000000</td>\n",
       "    </tr>\n",
       "    <tr>\n",
       "      <th>4</th>\n",
       "      <td>2022-06-01 18:50:04.552654+00</td>\n",
       "      <td>1.654109e+09</td>\n",
       "      <td>118.517699</td>\n",
       "    </tr>\n",
       "    <tr>\n",
       "      <th>...</th>\n",
       "      <td>...</td>\n",
       "      <td>...</td>\n",
       "      <td>...</td>\n",
       "    </tr>\n",
       "    <tr>\n",
       "      <th>434877</th>\n",
       "      <td>2023-03-31 14:13:04.101678+00</td>\n",
       "      <td>1.680272e+09</td>\n",
       "      <td>104.783784</td>\n",
       "    </tr>\n",
       "    <tr>\n",
       "      <th>434878</th>\n",
       "      <td>2023-03-31 14:24:03.918018+00</td>\n",
       "      <td>1.680273e+09</td>\n",
       "      <td>44.647059</td>\n",
       "    </tr>\n",
       "    <tr>\n",
       "      <th>434879</th>\n",
       "      <td>2023-03-31 14:21:03.492804+00</td>\n",
       "      <td>1.680272e+09</td>\n",
       "      <td>107.304878</td>\n",
       "    </tr>\n",
       "    <tr>\n",
       "      <th>434880</th>\n",
       "      <td>2023-03-31 14:19:03.269547+00</td>\n",
       "      <td>1.680272e+09</td>\n",
       "      <td>67.820513</td>\n",
       "    </tr>\n",
       "    <tr>\n",
       "      <th>434881</th>\n",
       "      <td>2023-03-31 14:22:03.652436+00</td>\n",
       "      <td>1.680273e+09</td>\n",
       "      <td>71.783133</td>\n",
       "    </tr>\n",
       "  </tbody>\n",
       "</table>\n",
       "<p>434882 rows × 3 columns</p>\n",
       "</div>"
      ],
      "text/plain": [
       "                            timestamp    unix-epoch       value\n",
       "0       2022-06-01 18:47:03.625346+00  1.654109e+09   78.480000\n",
       "1       2022-06-01 18:49:03.826399+00  1.654109e+09  135.917031\n",
       "2       2022-06-01 18:48:04.301765+00  1.654109e+09   74.639130\n",
       "3       2022-06-01 18:46:04.039116+00  1.654109e+09  157.000000\n",
       "4       2022-06-01 18:50:04.552654+00  1.654109e+09  118.517699\n",
       "...                               ...           ...         ...\n",
       "434877  2023-03-31 14:13:04.101678+00  1.680272e+09  104.783784\n",
       "434878  2023-03-31 14:24:03.918018+00  1.680273e+09   44.647059\n",
       "434879  2023-03-31 14:21:03.492804+00  1.680272e+09  107.304878\n",
       "434880  2023-03-31 14:19:03.269547+00  1.680272e+09   67.820513\n",
       "434881  2023-03-31 14:22:03.652436+00  1.680273e+09   71.783133\n",
       "\n",
       "[434882 rows x 3 columns]"
      ]
     },
     "execution_count": 3,
     "metadata": {},
     "output_type": "execute_result"
    }
   ],
   "source": [
    "dataset = pd.read_csv(\"876.csv\")\n",
    "dataset"
   ]
  },
  {
   "cell_type": "markdown",
   "metadata": {
    "id": "atcNDKwtgt88"
   },
   "source": [
    "### 3. Preprocessing the data"
   ]
  },
  {
   "cell_type": "markdown",
   "metadata": {
    "id": "IlkK3gnngZbK"
   },
   "source": [
    "### 3.1 Checking for nulls"
   ]
  },
  {
   "cell_type": "code",
   "execution_count": 4,
   "metadata": {
    "colab": {
     "base_uri": "https://localhost:8080/"
    },
    "id": "9UQBk4hfgb6E",
    "outputId": "21cd77a7-c04e-4882-ed0e-9a56f1fff17d"
   },
   "outputs": [
    {
     "name": "stdout",
     "output_type": "stream",
     "text": [
      "Any nulls in the dataset  False\n",
      "-------\n",
      "988.4450353119108\n"
     ]
    }
   ],
   "source": [
    "# Check for any  nullvalues \n",
    "print(\"Any nulls in the dataset \",dataset.isnull().values.any() )\n",
    "print('-------')\n",
    "\n",
    "# Check for outliers\n",
    "mean = dataset['value'].mean()\n",
    "sd = dataset['value'].std()\n",
    "print(mean + 3 * sd)\n",
    "dataset = dataset[dataset['value'] <= mean + 3 * sd]"
   ]
  },
  {
   "cell_type": "markdown",
   "metadata": {
    "id": "ECwlW1wQgok4"
   },
   "source": [
    "### 3.2 Reshaping the data"
   ]
  },
  {
   "cell_type": "markdown",
   "metadata": {
    "id": "kpUrOJopoKtM"
   },
   "source": [
    "First we sort them chronologically"
   ]
  },
  {
   "cell_type": "code",
   "execution_count": 5,
   "metadata": {
    "id": "gp2wrftygmX4"
   },
   "outputs": [
    {
     "name": "stdout",
     "output_type": "stream",
     "text": [
      "                            timestamp    unix-epoch       value\n",
      "6       2022-06-01 16:21:03.721533+00  1.654100e+09   73.074380\n",
      "11      2022-06-01 16:22:04.254788+00  1.654101e+09   68.822115\n",
      "14      2022-06-01 16:23:03.887237+00  1.654101e+09   70.881279\n",
      "10      2022-06-01 16:24:04.474149+00  1.654101e+09   88.367742\n",
      "12      2022-06-01 16:25:04.012942+00  1.654101e+09   69.131068\n",
      "...                               ...           ...         ...\n",
      "434875  2023-03-31 14:20:03.954358+00  1.680272e+09  107.853403\n",
      "434879  2023-03-31 14:21:03.492804+00  1.680272e+09  107.304878\n",
      "434881  2023-03-31 14:22:03.652436+00  1.680273e+09   71.783133\n",
      "434872  2023-03-31 14:23:04.355078+00  1.680273e+09   76.673267\n",
      "434878  2023-03-31 14:24:03.918018+00  1.680273e+09   44.647059\n",
      "\n",
      "[434439 rows x 3 columns]\n"
     ]
    }
   ],
   "source": [
    "# Sorting by time\n",
    "df = dataset.sort_values('unix-epoch')\n",
    "print(df)"
   ]
  },
  {
   "cell_type": "markdown",
   "metadata": {
    "id": "9tqE6g7AoQ8_"
   },
   "source": [
    "Then we group them by minute precision taking the mean if there are more than one tuple of said minute."
   ]
  },
  {
   "cell_type": "code",
   "execution_count": 6,
   "metadata": {},
   "outputs": [
    {
     "name": "stdout",
     "output_type": "stream",
     "text": [
      "                  datetime       value\n",
      "0      2022-06-01 16:21:00   73.074380\n",
      "1      2022-06-01 16:22:00   68.822115\n",
      "2      2022-06-01 16:23:00   70.881279\n",
      "3      2022-06-01 16:24:00   88.367742\n",
      "4      2022-06-01 16:25:00   69.131068\n",
      "...                    ...         ...\n",
      "436199 2023-03-31 14:20:00  107.853403\n",
      "436200 2023-03-31 14:21:00  107.304878\n",
      "436201 2023-03-31 14:22:00   71.783133\n",
      "436202 2023-03-31 14:23:00   76.673267\n",
      "436203 2023-03-31 14:24:00   44.647059\n",
      "\n",
      "[436204 rows x 2 columns]\n"
     ]
    }
   ],
   "source": [
    "# Convert 'unix-epoch' column to datetime\n",
    "df['datetime'] = pd.to_datetime(df['unix-epoch'], unit='s')\n",
    "\n",
    "df = df[[\"datetime\", \"value\"]]\n",
    "\n",
    "df = df.resample(\"1Min\", on=\"datetime\").mean()\n",
    "\n",
    "df = df.reset_index()\n",
    "print(df)"
   ]
  },
  {
   "cell_type": "code",
   "execution_count": 7,
   "metadata": {
    "colab": {
     "base_uri": "https://localhost:8080/",
     "height": 479
    },
    "id": "qHxsvvd6Hjeg",
    "outputId": "1f027430-1ee2-44d7-d300-d79f98ea729d"
   },
   "outputs": [
    {
     "data": {
      "text/html": [
       "<div>\n",
       "<style scoped>\n",
       "    .dataframe tbody tr th:only-of-type {\n",
       "        vertical-align: middle;\n",
       "    }\n",
       "\n",
       "    .dataframe tbody tr th {\n",
       "        vertical-align: top;\n",
       "    }\n",
       "\n",
       "    .dataframe thead th {\n",
       "        text-align: right;\n",
       "    }\n",
       "</style>\n",
       "<table border=\"1\" class=\"dataframe\">\n",
       "  <thead>\n",
       "    <tr style=\"text-align: right;\">\n",
       "      <th></th>\n",
       "      <th>datetime</th>\n",
       "      <th>value</th>\n",
       "      <th>hour</th>\n",
       "    </tr>\n",
       "  </thead>\n",
       "  <tbody>\n",
       "    <tr>\n",
       "      <th>0</th>\n",
       "      <td>2022-06-01 16:21:00</td>\n",
       "      <td>73.074380</td>\n",
       "      <td>2022-06-01 16:00:00</td>\n",
       "    </tr>\n",
       "    <tr>\n",
       "      <th>1</th>\n",
       "      <td>2022-06-01 16:22:00</td>\n",
       "      <td>68.822115</td>\n",
       "      <td>2022-06-01 16:00:00</td>\n",
       "    </tr>\n",
       "    <tr>\n",
       "      <th>2</th>\n",
       "      <td>2022-06-01 16:23:00</td>\n",
       "      <td>70.881279</td>\n",
       "      <td>2022-06-01 16:00:00</td>\n",
       "    </tr>\n",
       "    <tr>\n",
       "      <th>3</th>\n",
       "      <td>2022-06-01 16:24:00</td>\n",
       "      <td>88.367742</td>\n",
       "      <td>2022-06-01 16:00:00</td>\n",
       "    </tr>\n",
       "    <tr>\n",
       "      <th>4</th>\n",
       "      <td>2022-06-01 16:25:00</td>\n",
       "      <td>69.131068</td>\n",
       "      <td>2022-06-01 16:00:00</td>\n",
       "    </tr>\n",
       "    <tr>\n",
       "      <th>...</th>\n",
       "      <td>...</td>\n",
       "      <td>...</td>\n",
       "      <td>...</td>\n",
       "    </tr>\n",
       "    <tr>\n",
       "      <th>436199</th>\n",
       "      <td>2023-03-31 14:20:00</td>\n",
       "      <td>107.853403</td>\n",
       "      <td>2023-03-31 14:00:00</td>\n",
       "    </tr>\n",
       "    <tr>\n",
       "      <th>436200</th>\n",
       "      <td>2023-03-31 14:21:00</td>\n",
       "      <td>107.304878</td>\n",
       "      <td>2023-03-31 14:00:00</td>\n",
       "    </tr>\n",
       "    <tr>\n",
       "      <th>436201</th>\n",
       "      <td>2023-03-31 14:22:00</td>\n",
       "      <td>71.783133</td>\n",
       "      <td>2023-03-31 14:00:00</td>\n",
       "    </tr>\n",
       "    <tr>\n",
       "      <th>436202</th>\n",
       "      <td>2023-03-31 14:23:00</td>\n",
       "      <td>76.673267</td>\n",
       "      <td>2023-03-31 14:00:00</td>\n",
       "    </tr>\n",
       "    <tr>\n",
       "      <th>436203</th>\n",
       "      <td>2023-03-31 14:24:00</td>\n",
       "      <td>44.647059</td>\n",
       "      <td>2023-03-31 14:00:00</td>\n",
       "    </tr>\n",
       "  </tbody>\n",
       "</table>\n",
       "<p>436204 rows × 3 columns</p>\n",
       "</div>"
      ],
      "text/plain": [
       "                  datetime       value                hour\n",
       "0      2022-06-01 16:21:00   73.074380 2022-06-01 16:00:00\n",
       "1      2022-06-01 16:22:00   68.822115 2022-06-01 16:00:00\n",
       "2      2022-06-01 16:23:00   70.881279 2022-06-01 16:00:00\n",
       "3      2022-06-01 16:24:00   88.367742 2022-06-01 16:00:00\n",
       "4      2022-06-01 16:25:00   69.131068 2022-06-01 16:00:00\n",
       "...                    ...         ...                 ...\n",
       "436199 2023-03-31 14:20:00  107.853403 2023-03-31 14:00:00\n",
       "436200 2023-03-31 14:21:00  107.304878 2023-03-31 14:00:00\n",
       "436201 2023-03-31 14:22:00   71.783133 2023-03-31 14:00:00\n",
       "436202 2023-03-31 14:23:00   76.673267 2023-03-31 14:00:00\n",
       "436203 2023-03-31 14:24:00   44.647059 2023-03-31 14:00:00\n",
       "\n",
       "[436204 rows x 3 columns]"
      ]
     },
     "execution_count": 7,
     "metadata": {},
     "output_type": "execute_result"
    }
   ],
   "source": [
    "\n",
    "df['hour'] = df['datetime'].dt.floor('H')\n",
    "\n",
    "df"
   ]
  },
  {
   "cell_type": "markdown",
   "metadata": {
    "id": "jEC3a1YMqXNA"
   },
   "source": [
    "Then we check which hours have enough tuples to consider them on the model."
   ]
  },
  {
   "cell_type": "code",
   "execution_count": 8,
   "metadata": {
    "colab": {
     "base_uri": "https://localhost:8080/",
     "height": 424
    },
    "id": "xOXun5ELCPOt",
    "outputId": "3889c373-a690-4b53-e525-8b08ef9adc34"
   },
   "outputs": [
    {
     "data": {
      "text/html": [
       "<div>\n",
       "<style scoped>\n",
       "    .dataframe tbody tr th:only-of-type {\n",
       "        vertical-align: middle;\n",
       "    }\n",
       "\n",
       "    .dataframe tbody tr th {\n",
       "        vertical-align: top;\n",
       "    }\n",
       "\n",
       "    .dataframe thead th {\n",
       "        text-align: right;\n",
       "    }\n",
       "</style>\n",
       "<table border=\"1\" class=\"dataframe\">\n",
       "  <thead>\n",
       "    <tr style=\"text-align: right;\">\n",
       "      <th></th>\n",
       "      <th>datetime</th>\n",
       "      <th>value</th>\n",
       "      <th>hour</th>\n",
       "    </tr>\n",
       "  </thead>\n",
       "  <tbody>\n",
       "    <tr>\n",
       "      <th>0</th>\n",
       "      <td>2022-06-01 16:21:00</td>\n",
       "      <td>73.074380</td>\n",
       "      <td>2022-06-01 16:00:00</td>\n",
       "    </tr>\n",
       "    <tr>\n",
       "      <th>1</th>\n",
       "      <td>2022-06-01 16:22:00</td>\n",
       "      <td>68.822115</td>\n",
       "      <td>2022-06-01 16:00:00</td>\n",
       "    </tr>\n",
       "    <tr>\n",
       "      <th>2</th>\n",
       "      <td>2022-06-01 16:23:00</td>\n",
       "      <td>70.881279</td>\n",
       "      <td>2022-06-01 16:00:00</td>\n",
       "    </tr>\n",
       "    <tr>\n",
       "      <th>3</th>\n",
       "      <td>2022-06-01 16:24:00</td>\n",
       "      <td>88.367742</td>\n",
       "      <td>2022-06-01 16:00:00</td>\n",
       "    </tr>\n",
       "    <tr>\n",
       "      <th>4</th>\n",
       "      <td>2022-06-01 16:25:00</td>\n",
       "      <td>69.131068</td>\n",
       "      <td>2022-06-01 16:00:00</td>\n",
       "    </tr>\n",
       "    <tr>\n",
       "      <th>...</th>\n",
       "      <td>...</td>\n",
       "      <td>...</td>\n",
       "      <td>...</td>\n",
       "    </tr>\n",
       "    <tr>\n",
       "      <th>436174</th>\n",
       "      <td>2023-03-31 13:55:00</td>\n",
       "      <td>48.444444</td>\n",
       "      <td>2023-03-31 13:00:00</td>\n",
       "    </tr>\n",
       "    <tr>\n",
       "      <th>436175</th>\n",
       "      <td>2023-03-31 13:56:00</td>\n",
       "      <td>58.716535</td>\n",
       "      <td>2023-03-31 13:00:00</td>\n",
       "    </tr>\n",
       "    <tr>\n",
       "      <th>436176</th>\n",
       "      <td>2023-03-31 13:57:00</td>\n",
       "      <td>84.803571</td>\n",
       "      <td>2023-03-31 13:00:00</td>\n",
       "    </tr>\n",
       "    <tr>\n",
       "      <th>436177</th>\n",
       "      <td>2023-03-31 13:58:00</td>\n",
       "      <td>40.194805</td>\n",
       "      <td>2023-03-31 13:00:00</td>\n",
       "    </tr>\n",
       "    <tr>\n",
       "      <th>436178</th>\n",
       "      <td>2023-03-31 13:59:00</td>\n",
       "      <td>46.680851</td>\n",
       "      <td>2023-03-31 13:00:00</td>\n",
       "    </tr>\n",
       "  </tbody>\n",
       "</table>\n",
       "<p>434799 rows × 3 columns</p>\n",
       "</div>"
      ],
      "text/plain": [
       "                  datetime      value                hour\n",
       "0      2022-06-01 16:21:00  73.074380 2022-06-01 16:00:00\n",
       "1      2022-06-01 16:22:00  68.822115 2022-06-01 16:00:00\n",
       "2      2022-06-01 16:23:00  70.881279 2022-06-01 16:00:00\n",
       "3      2022-06-01 16:24:00  88.367742 2022-06-01 16:00:00\n",
       "4      2022-06-01 16:25:00  69.131068 2022-06-01 16:00:00\n",
       "...                    ...        ...                 ...\n",
       "436174 2023-03-31 13:55:00  48.444444 2023-03-31 13:00:00\n",
       "436175 2023-03-31 13:56:00  58.716535 2023-03-31 13:00:00\n",
       "436176 2023-03-31 13:57:00  84.803571 2023-03-31 13:00:00\n",
       "436177 2023-03-31 13:58:00  40.194805 2023-03-31 13:00:00\n",
       "436178 2023-03-31 13:59:00  46.680851 2023-03-31 13:00:00\n",
       "\n",
       "[434799 rows x 3 columns]"
      ]
     },
     "execution_count": 8,
     "metadata": {},
     "output_type": "execute_result"
    }
   ],
   "source": [
    "# Create boolean mask to filter out groups with less than 30 tuples\n",
    "mask = df.groupby('hour')['value'].transform('count') >= 30\n",
    "\n",
    "# Filter DataFrame using the mask\n",
    "df = df[mask]\n",
    "\n",
    "df"
   ]
  },
  {
   "cell_type": "markdown",
   "metadata": {
    "id": "3oJxY-gQquv4"
   },
   "source": [
    "We now interpolate"
   ]
  },
  {
   "cell_type": "code",
   "execution_count": 9,
   "metadata": {
    "colab": {
     "base_uri": "https://localhost:8080/",
     "height": 658
    },
    "id": "lnh0mnU89GPc",
    "outputId": "bd0d32be-7ccc-4d08-d50c-776cb8d0e4b1"
   },
   "outputs": [
    {
     "data": {
      "text/html": [
       "<div>\n",
       "<style scoped>\n",
       "    .dataframe tbody tr th:only-of-type {\n",
       "        vertical-align: middle;\n",
       "    }\n",
       "\n",
       "    .dataframe tbody tr th {\n",
       "        vertical-align: top;\n",
       "    }\n",
       "\n",
       "    .dataframe thead th {\n",
       "        text-align: right;\n",
       "    }\n",
       "</style>\n",
       "<table border=\"1\" class=\"dataframe\">\n",
       "  <thead>\n",
       "    <tr style=\"text-align: right;\">\n",
       "      <th></th>\n",
       "      <th>datetime</th>\n",
       "      <th>value</th>\n",
       "      <th>hour</th>\n",
       "      <th>day</th>\n",
       "    </tr>\n",
       "  </thead>\n",
       "  <tbody>\n",
       "    <tr>\n",
       "      <th>0</th>\n",
       "      <td>2022-06-01 16:21:00</td>\n",
       "      <td>73.074380</td>\n",
       "      <td>2022-06-01 16:00:00</td>\n",
       "      <td>2022-06-01</td>\n",
       "    </tr>\n",
       "    <tr>\n",
       "      <th>1</th>\n",
       "      <td>2022-06-01 16:22:00</td>\n",
       "      <td>68.822115</td>\n",
       "      <td>2022-06-01 16:00:00</td>\n",
       "      <td>2022-06-01</td>\n",
       "    </tr>\n",
       "    <tr>\n",
       "      <th>2</th>\n",
       "      <td>2022-06-01 16:23:00</td>\n",
       "      <td>70.881279</td>\n",
       "      <td>2022-06-01 16:00:00</td>\n",
       "      <td>2022-06-01</td>\n",
       "    </tr>\n",
       "    <tr>\n",
       "      <th>3</th>\n",
       "      <td>2022-06-01 16:24:00</td>\n",
       "      <td>88.367742</td>\n",
       "      <td>2022-06-01 16:00:00</td>\n",
       "      <td>2022-06-01</td>\n",
       "    </tr>\n",
       "    <tr>\n",
       "      <th>4</th>\n",
       "      <td>2022-06-01 16:25:00</td>\n",
       "      <td>69.131068</td>\n",
       "      <td>2022-06-01 16:00:00</td>\n",
       "      <td>2022-06-01</td>\n",
       "    </tr>\n",
       "    <tr>\n",
       "      <th>...</th>\n",
       "      <td>...</td>\n",
       "      <td>...</td>\n",
       "      <td>...</td>\n",
       "      <td>...</td>\n",
       "    </tr>\n",
       "    <tr>\n",
       "      <th>434794</th>\n",
       "      <td>2023-03-31 13:55:00</td>\n",
       "      <td>48.444444</td>\n",
       "      <td>2023-03-31 13:00:00</td>\n",
       "      <td>2023-03-31</td>\n",
       "    </tr>\n",
       "    <tr>\n",
       "      <th>434795</th>\n",
       "      <td>2023-03-31 13:56:00</td>\n",
       "      <td>58.716535</td>\n",
       "      <td>2023-03-31 13:00:00</td>\n",
       "      <td>2023-03-31</td>\n",
       "    </tr>\n",
       "    <tr>\n",
       "      <th>434796</th>\n",
       "      <td>2023-03-31 13:57:00</td>\n",
       "      <td>84.803571</td>\n",
       "      <td>2023-03-31 13:00:00</td>\n",
       "      <td>2023-03-31</td>\n",
       "    </tr>\n",
       "    <tr>\n",
       "      <th>434797</th>\n",
       "      <td>2023-03-31 13:58:00</td>\n",
       "      <td>40.194805</td>\n",
       "      <td>2023-03-31 13:00:00</td>\n",
       "      <td>2023-03-31</td>\n",
       "    </tr>\n",
       "    <tr>\n",
       "      <th>434798</th>\n",
       "      <td>2023-03-31 13:59:00</td>\n",
       "      <td>46.680851</td>\n",
       "      <td>2023-03-31 13:00:00</td>\n",
       "      <td>2023-03-31</td>\n",
       "    </tr>\n",
       "  </tbody>\n",
       "</table>\n",
       "<p>434799 rows × 4 columns</p>\n",
       "</div>"
      ],
      "text/plain": [
       "                  datetime      value                hour        day\n",
       "0      2022-06-01 16:21:00  73.074380 2022-06-01 16:00:00 2022-06-01\n",
       "1      2022-06-01 16:22:00  68.822115 2022-06-01 16:00:00 2022-06-01\n",
       "2      2022-06-01 16:23:00  70.881279 2022-06-01 16:00:00 2022-06-01\n",
       "3      2022-06-01 16:24:00  88.367742 2022-06-01 16:00:00 2022-06-01\n",
       "4      2022-06-01 16:25:00  69.131068 2022-06-01 16:00:00 2022-06-01\n",
       "...                    ...        ...                 ...        ...\n",
       "434794 2023-03-31 13:55:00  48.444444 2023-03-31 13:00:00 2023-03-31\n",
       "434795 2023-03-31 13:56:00  58.716535 2023-03-31 13:00:00 2023-03-31\n",
       "434796 2023-03-31 13:57:00  84.803571 2023-03-31 13:00:00 2023-03-31\n",
       "434797 2023-03-31 13:58:00  40.194805 2023-03-31 13:00:00 2023-03-31\n",
       "434798 2023-03-31 13:59:00  46.680851 2023-03-31 13:00:00 2023-03-31\n",
       "\n",
       "[434799 rows x 4 columns]"
      ]
     },
     "execution_count": 9,
     "metadata": {},
     "output_type": "execute_result"
    }
   ],
   "source": [
    "df = df.set_index(\"datetime\")\n",
    "\n",
    "# Perform interpolation to fill missing values\n",
    "df['value'] = df['value'].interpolate()\n",
    "\n",
    "df = df.reset_index()\n",
    "\n",
    "df['day'] = df['datetime'].dt.floor('D')\n",
    "\n",
    "df"
   ]
  },
  {
   "cell_type": "markdown",
   "metadata": {
    "id": "ecchI1BmrUaY"
   },
   "source": [
    "We check to see how many days have hours missing"
   ]
  },
  {
   "cell_type": "code",
   "execution_count": 10,
   "metadata": {
    "colab": {
     "base_uri": "https://localhost:8080/",
     "height": 424
    },
    "id": "jFbOSBh1Biai",
    "outputId": "989d4af5-5bd6-47d0-8a77-e02e38733ab1"
   },
   "outputs": [
    {
     "data": {
      "text/html": [
       "<div>\n",
       "<style scoped>\n",
       "    .dataframe tbody tr th:only-of-type {\n",
       "        vertical-align: middle;\n",
       "    }\n",
       "\n",
       "    .dataframe tbody tr th {\n",
       "        vertical-align: top;\n",
       "    }\n",
       "\n",
       "    .dataframe thead th {\n",
       "        text-align: right;\n",
       "    }\n",
       "</style>\n",
       "<table border=\"1\" class=\"dataframe\">\n",
       "  <thead>\n",
       "    <tr style=\"text-align: right;\">\n",
       "      <th></th>\n",
       "      <th>day</th>\n",
       "      <th>hour</th>\n",
       "      <th>datetime</th>\n",
       "      <th>value</th>\n",
       "    </tr>\n",
       "  </thead>\n",
       "  <tbody>\n",
       "    <tr>\n",
       "      <th>0</th>\n",
       "      <td>2022-06-01</td>\n",
       "      <td>8</td>\n",
       "      <td>8</td>\n",
       "      <td>8</td>\n",
       "    </tr>\n",
       "    <tr>\n",
       "      <th>303</th>\n",
       "      <td>2023-03-31</td>\n",
       "      <td>12</td>\n",
       "      <td>12</td>\n",
       "      <td>12</td>\n",
       "    </tr>\n",
       "    <tr>\n",
       "      <th>280</th>\n",
       "      <td>2023-03-08</td>\n",
       "      <td>17</td>\n",
       "      <td>17</td>\n",
       "      <td>17</td>\n",
       "    </tr>\n",
       "    <tr>\n",
       "      <th>281</th>\n",
       "      <td>2023-03-09</td>\n",
       "      <td>18</td>\n",
       "      <td>18</td>\n",
       "      <td>18</td>\n",
       "    </tr>\n",
       "    <tr>\n",
       "      <th>282</th>\n",
       "      <td>2023-03-10</td>\n",
       "      <td>18</td>\n",
       "      <td>18</td>\n",
       "      <td>18</td>\n",
       "    </tr>\n",
       "    <tr>\n",
       "      <th>...</th>\n",
       "      <td>...</td>\n",
       "      <td>...</td>\n",
       "      <td>...</td>\n",
       "      <td>...</td>\n",
       "    </tr>\n",
       "    <tr>\n",
       "      <th>100</th>\n",
       "      <td>2022-09-09</td>\n",
       "      <td>24</td>\n",
       "      <td>24</td>\n",
       "      <td>24</td>\n",
       "    </tr>\n",
       "    <tr>\n",
       "      <th>99</th>\n",
       "      <td>2022-09-08</td>\n",
       "      <td>24</td>\n",
       "      <td>24</td>\n",
       "      <td>24</td>\n",
       "    </tr>\n",
       "    <tr>\n",
       "      <th>98</th>\n",
       "      <td>2022-09-07</td>\n",
       "      <td>24</td>\n",
       "      <td>24</td>\n",
       "      <td>24</td>\n",
       "    </tr>\n",
       "    <tr>\n",
       "      <th>96</th>\n",
       "      <td>2022-09-05</td>\n",
       "      <td>24</td>\n",
       "      <td>24</td>\n",
       "      <td>24</td>\n",
       "    </tr>\n",
       "    <tr>\n",
       "      <th>151</th>\n",
       "      <td>2022-10-30</td>\n",
       "      <td>24</td>\n",
       "      <td>24</td>\n",
       "      <td>24</td>\n",
       "    </tr>\n",
       "  </tbody>\n",
       "</table>\n",
       "<p>304 rows × 4 columns</p>\n",
       "</div>"
      ],
      "text/plain": [
       "           day  hour  datetime  value\n",
       "0   2022-06-01     8         8      8\n",
       "303 2023-03-31    12        12     12\n",
       "280 2023-03-08    17        17     17\n",
       "281 2023-03-09    18        18     18\n",
       "282 2023-03-10    18        18     18\n",
       "..         ...   ...       ...    ...\n",
       "100 2022-09-09    24        24     24\n",
       "99  2022-09-08    24        24     24\n",
       "98  2022-09-07    24        24     24\n",
       "96  2022-09-05    24        24     24\n",
       "151 2022-10-30    24        24     24\n",
       "\n",
       "[304 rows x 4 columns]"
      ]
     },
     "execution_count": 10,
     "metadata": {},
     "output_type": "execute_result"
    }
   ],
   "source": [
    "hour_df = df.groupby(\"hour\").count()\n",
    "hour_df = hour_df.reset_index()\n",
    "hour_df = hour_df.sort_values('hour')\n",
    "\n",
    "\n",
    "\n",
    "hour_df['day'] = hour_df['hour'].dt.floor('D')\n",
    "day_df = hour_df.groupby('day').count()\n",
    "day_df = day_df.reset_index()\n",
    "day_df = day_df.sort_values('value')\n",
    "day_df"
   ]
  },
  {
   "cell_type": "code",
   "execution_count": 11,
   "metadata": {
    "colab": {
     "base_uri": "https://localhost:8080/",
     "height": 520
    },
    "id": "EC79ME8OVpHZ",
    "outputId": "d0b5441d-2604-42a6-f4b2-b1854d2c0602"
   },
   "outputs": [
    {
     "data": {
      "text/html": [
       "<div>\n",
       "<style scoped>\n",
       "    .dataframe tbody tr th:only-of-type {\n",
       "        vertical-align: middle;\n",
       "    }\n",
       "\n",
       "    .dataframe tbody tr th {\n",
       "        vertical-align: top;\n",
       "    }\n",
       "\n",
       "    .dataframe thead th {\n",
       "        text-align: right;\n",
       "    }\n",
       "</style>\n",
       "<table border=\"1\" class=\"dataframe\">\n",
       "  <thead>\n",
       "    <tr style=\"text-align: right;\">\n",
       "      <th></th>\n",
       "      <th>day</th>\n",
       "      <th>hour</th>\n",
       "      <th>datetime</th>\n",
       "      <th>value</th>\n",
       "    </tr>\n",
       "  </thead>\n",
       "  <tbody>\n",
       "    <tr>\n",
       "      <th>0</th>\n",
       "      <td>2022-06-01</td>\n",
       "      <td>8</td>\n",
       "      <td>8</td>\n",
       "      <td>8</td>\n",
       "    </tr>\n",
       "    <tr>\n",
       "      <th>303</th>\n",
       "      <td>2023-03-31</td>\n",
       "      <td>12</td>\n",
       "      <td>12</td>\n",
       "      <td>12</td>\n",
       "    </tr>\n",
       "    <tr>\n",
       "      <th>280</th>\n",
       "      <td>2023-03-08</td>\n",
       "      <td>17</td>\n",
       "      <td>17</td>\n",
       "      <td>17</td>\n",
       "    </tr>\n",
       "    <tr>\n",
       "      <th>281</th>\n",
       "      <td>2023-03-09</td>\n",
       "      <td>18</td>\n",
       "      <td>18</td>\n",
       "      <td>18</td>\n",
       "    </tr>\n",
       "    <tr>\n",
       "      <th>282</th>\n",
       "      <td>2023-03-10</td>\n",
       "      <td>18</td>\n",
       "      <td>18</td>\n",
       "      <td>18</td>\n",
       "    </tr>\n",
       "    <tr>\n",
       "      <th>284</th>\n",
       "      <td>2023-03-12</td>\n",
       "      <td>23</td>\n",
       "      <td>23</td>\n",
       "      <td>23</td>\n",
       "    </tr>\n",
       "    <tr>\n",
       "      <th>198</th>\n",
       "      <td>2022-12-16</td>\n",
       "      <td>23</td>\n",
       "      <td>23</td>\n",
       "      <td>23</td>\n",
       "    </tr>\n",
       "    <tr>\n",
       "      <th>205</th>\n",
       "      <td>2022-12-23</td>\n",
       "      <td>24</td>\n",
       "      <td>24</td>\n",
       "      <td>24</td>\n",
       "    </tr>\n",
       "    <tr>\n",
       "      <th>204</th>\n",
       "      <td>2022-12-22</td>\n",
       "      <td>24</td>\n",
       "      <td>24</td>\n",
       "      <td>24</td>\n",
       "    </tr>\n",
       "    <tr>\n",
       "      <th>203</th>\n",
       "      <td>2022-12-21</td>\n",
       "      <td>24</td>\n",
       "      <td>24</td>\n",
       "      <td>24</td>\n",
       "    </tr>\n",
       "    <tr>\n",
       "      <th>202</th>\n",
       "      <td>2022-12-20</td>\n",
       "      <td>24</td>\n",
       "      <td>24</td>\n",
       "      <td>24</td>\n",
       "    </tr>\n",
       "    <tr>\n",
       "      <th>201</th>\n",
       "      <td>2022-12-19</td>\n",
       "      <td>24</td>\n",
       "      <td>24</td>\n",
       "      <td>24</td>\n",
       "    </tr>\n",
       "    <tr>\n",
       "      <th>2</th>\n",
       "      <td>2022-06-03</td>\n",
       "      <td>24</td>\n",
       "      <td>24</td>\n",
       "      <td>24</td>\n",
       "    </tr>\n",
       "    <tr>\n",
       "      <th>197</th>\n",
       "      <td>2022-12-15</td>\n",
       "      <td>24</td>\n",
       "      <td>24</td>\n",
       "      <td>24</td>\n",
       "    </tr>\n",
       "    <tr>\n",
       "      <th>196</th>\n",
       "      <td>2022-12-14</td>\n",
       "      <td>24</td>\n",
       "      <td>24</td>\n",
       "      <td>24</td>\n",
       "    </tr>\n",
       "  </tbody>\n",
       "</table>\n",
       "</div>"
      ],
      "text/plain": [
       "           day  hour  datetime  value\n",
       "0   2022-06-01     8         8      8\n",
       "303 2023-03-31    12        12     12\n",
       "280 2023-03-08    17        17     17\n",
       "281 2023-03-09    18        18     18\n",
       "282 2023-03-10    18        18     18\n",
       "284 2023-03-12    23        23     23\n",
       "198 2022-12-16    23        23     23\n",
       "205 2022-12-23    24        24     24\n",
       "204 2022-12-22    24        24     24\n",
       "203 2022-12-21    24        24     24\n",
       "202 2022-12-20    24        24     24\n",
       "201 2022-12-19    24        24     24\n",
       "2   2022-06-03    24        24     24\n",
       "197 2022-12-15    24        24     24\n",
       "196 2022-12-14    24        24     24"
      ]
     },
     "execution_count": 11,
     "metadata": {},
     "output_type": "execute_result"
    }
   ],
   "source": [
    "day_df[:15]"
   ]
  },
  {
   "cell_type": "markdown",
   "metadata": {
    "id": "I2VYTE3JDykB"
   },
   "source": [
    "### Making a moving window dataset."
   ]
  },
  {
   "cell_type": "code",
   "execution_count": 12,
   "metadata": {
    "colab": {
     "base_uri": "https://localhost:8080/"
    },
    "id": "y4kGEfDDfw5J",
    "outputId": "30caf0a0-2ef1-4dd6-895f-34e816b0f8fe"
   },
   "outputs": [
    {
     "name": "stdout",
     "output_type": "stream",
     "text": [
      "[[73.07438  68.822115 70.881279 ... 83.678571 88.45614  78.231156]\n",
      " [68.822115 70.881279 88.367742 ... 88.45614  78.231156 94.921212]\n",
      " [70.881279 88.367742 69.131068 ... 78.231156 94.921212 72.951613]\n",
      " ...\n",
      " [26.760563 46.727273 48.514286 ... 72.9      48.444444 58.716535]\n",
      " [46.727273 48.514286 97.808081 ... 48.444444 58.716535 84.803571]\n",
      " [48.514286 97.808081 66.732394 ... 58.716535 84.803571 40.194805]]\n"
     ]
    }
   ],
   "source": [
    "import datetime\n",
    "\n",
    "window_size = 120\n",
    "\n",
    "# Create an empty list to store the arrays\n",
    "arrays = []\n",
    "initial_dates = []\n",
    "\n",
    "# Iterate through the DataFrame\n",
    "for i in range(len(df) - window_size):\n",
    "    # Check if the indices are 30 numbers away\n",
    "    if df.index[i+window_size] - df.index[i] == window_size:\n",
    "        # Extract the values for the consecutive tuples\n",
    "        values = df['value'].iloc[i:i+window_size].values\n",
    "        # Append the values to the list\n",
    "        arrays.append(values)\n",
    "        initial_dates.append(df['datetime'].values[i])\n",
    "\n",
    "# Convert the list of arrays to a NumPy array\n",
    "arrays = np.array(arrays)\n",
    "\n",
    "print(arrays)\n",
    "\n",
    "\n",
    "  # if df_filtered[i]['datetime'] - df_filtered[i + 30]['datetime'] == datetime.timedelta(minutes=window_size):\n",
    "  #   correct_windows.append(df_filtered[i:i+30]['value'])"
   ]
  },
  {
   "cell_type": "code",
   "execution_count": 13,
   "metadata": {
    "colab": {
     "base_uri": "https://localhost:8080/"
    },
    "id": "wPcg8OdUmzcn",
    "outputId": "611273d3-2974-4420-bef4-511dbb27539f"
   },
   "outputs": [
    {
     "name": "stdout",
     "output_type": "stream",
     "text": [
      "(434679, 120)\n"
     ]
    }
   ],
   "source": [
    "print(arrays.shape)"
   ]
  },
  {
   "cell_type": "markdown",
   "metadata": {
    "id": "VTklrlJut6WJ"
   },
   "source": [
    "## 4. Training the model"
   ]
  },
  {
   "cell_type": "markdown",
   "metadata": {
    "id": "A-8MxO4LvalA"
   },
   "source": [
    "4.1 We split the data with a 20% rate."
   ]
  },
  {
   "cell_type": "code",
   "execution_count": 14,
   "metadata": {
    "id": "7YtoreJKt8_b"
   },
   "outputs": [],
   "source": [
    "data = arrays\n",
    "\n",
    "#train_data, test_data, train_indices, test_indices = train_test_split(\n",
    "#    data, np.arange(len(data)), test_size=0.2, random_state=2021\n",
    "#)\n",
    "\n",
    "train_data, test_data = np.split(data, [int(0.8* len(data))])\n",
    "train_indices, test_indices = np.split(np.arange(len(data)), [int(0.8* len(data))])"
   ]
  },
  {
   "cell_type": "code",
   "execution_count": 15,
   "metadata": {
    "colab": {
     "base_uri": "https://localhost:8080/"
    },
    "id": "jAJxPE3D92sp",
    "outputId": "58e8f18d-65e9-406e-d509-5a3b1d043ce9"
   },
   "outputs": [
    {
     "data": {
      "text/plain": [
       "array([347743, 347744, 347745, ..., 434676, 434677, 434678])"
      ]
     },
     "execution_count": 15,
     "metadata": {},
     "output_type": "execute_result"
    }
   ],
   "source": [
    "test_indices"
   ]
  },
  {
   "cell_type": "code",
   "execution_count": 16,
   "metadata": {
    "colab": {
     "base_uri": "https://localhost:8080/"
    },
    "id": "aZy_hQdP6F59",
    "outputId": "4b85cc83-ec87-402e-d3f2-3dd4d6e8ed90"
   },
   "outputs": [
    {
     "data": {
      "text/plain": [
       "(347743, 120)"
      ]
     },
     "execution_count": 16,
     "metadata": {},
     "output_type": "execute_result"
    }
   ],
   "source": [
    "train_data.shape"
   ]
  },
  {
   "cell_type": "markdown",
   "metadata": {
    "id": "9vuZP2Edvusf"
   },
   "source": [
    "We take them to values from 0 to 1"
   ]
  },
  {
   "cell_type": "code",
   "execution_count": 17,
   "metadata": {},
   "outputs": [
    {
     "name": "stdout",
     "output_type": "stream",
     "text": [
      "[  0.   0.   0.   0. 111.   9.  72.   0.   8.   0.]\n"
     ]
    }
   ],
   "source": [
    "print(test_data[1][:10])"
   ]
  },
  {
   "cell_type": "code",
   "execution_count": 18,
   "metadata": {
    "id": "dLEePYARt_gg"
   },
   "outputs": [],
   "source": [
    "min_val = tf.reduce_min(train_data)\n",
    "max_val = tf.reduce_max(train_data)\n",
    "train_data = (train_data - min_val) / (max_val - min_val)\n",
    "test_data = (test_data - min_val) / (max_val - min_val)\n",
    "train_data = tf.cast(train_data, tf.float32)\n",
    "test_data = tf.cast(test_data, tf.float32)"
   ]
  },
  {
   "cell_type": "code",
   "execution_count": 19,
   "metadata": {
    "colab": {
     "base_uri": "https://localhost:8080/"
    },
    "id": "bsc3-bT6v3KA",
    "outputId": "6f0c7707-d92e-4678-ca07-2e46d6a440d1"
   },
   "outputs": [
    {
     "data": {
      "text/plain": [
       "<tf.Tensor: shape=(347743, 120), dtype=float32, numpy=\n",
       "array([[0.07399143, 0.06968579, 0.0717708 , ..., 0.0847287 , 0.08956622,\n",
       "        0.07921292],\n",
       "       [0.06968579, 0.0717708 , 0.08947671, ..., 0.08956622, 0.07921292,\n",
       "        0.09611242],\n",
       "       [0.0717708 , 0.08947671, 0.06999863, ..., 0.07921292, 0.09611242,\n",
       "        0.07386712],\n",
       "       ...,\n",
       "       [0.        , 0.        , 0.00860667, ..., 0.        , 0.        ,\n",
       "        0.07492866],\n",
       "       [0.        , 0.00860667, 0.        , ..., 0.        , 0.07492866,\n",
       "        0.        ],\n",
       "       [0.00860667, 0.        , 0.        , ..., 0.07492866, 0.        ,\n",
       "        0.00877543]], dtype=float32)>"
      ]
     },
     "execution_count": 19,
     "metadata": {},
     "output_type": "execute_result"
    }
   ],
   "source": [
    "train_data"
   ]
  },
  {
   "cell_type": "code",
   "execution_count": null,
   "metadata": {
    "id": "ty6gA3USC7SF"
   },
   "outputs": [],
   "source": []
  },
  {
   "cell_type": "code",
   "execution_count": 20,
   "metadata": {
    "id": "VHneE4dFxvKs"
   },
   "outputs": [],
   "source": [
    "nb_epoch = 50\n",
    "batch_size = 32\n",
    "input_dim = train_data.shape[1] #num of columns, 30\n",
    "encoding_dim = 50\n",
    "hidden_dim_1 = 24\n",
    "hidden_dim_2 = 10\n",
    "hidden_dim_3 = 4  \n",
    "learning_rate = 1e-4"
   ]
  },
  {
   "cell_type": "code",
   "execution_count": 21,
   "metadata": {
    "colab": {
     "base_uri": "https://localhost:8080/"
    },
    "id": "3wOA6dlNxyf5",
    "outputId": "ba2c56e6-c849-427d-d7d6-4b783b672b18"
   },
   "outputs": [
    {
     "name": "stdout",
     "output_type": "stream",
     "text": [
      "Model: \"model\"\n",
      "_________________________________________________________________\n",
      " Layer (type)                Output Shape              Param #   \n",
      "=================================================================\n",
      " input_1 (InputLayer)        [(None, 120)]             0         \n",
      "                                                                 \n",
      " dense (Dense)               (None, 50)                6050      \n",
      "                                                                 \n",
      " dropout (Dropout)           (None, 50)                0         \n",
      "                                                                 \n",
      " dense_1 (Dense)             (None, 24)                1224      \n",
      "                                                                 \n",
      " dense_2 (Dense)             (None, 10)                250       \n",
      "                                                                 \n",
      " dense_3 (Dense)             (None, 4)                 44        \n",
      "                                                                 \n",
      " dense_5 (Dense)             (None, 24)                120       \n",
      "                                                                 \n",
      " dropout_1 (Dropout)         (None, 24)                0         \n",
      "                                                                 \n",
      " dense_6 (Dense)             (None, 50)                1250      \n",
      "                                                                 \n",
      " dense_7 (Dense)             (None, 120)               6120      \n",
      "                                                                 \n",
      "=================================================================\n",
      "Total params: 15058 (58.82 KB)\n",
      "Trainable params: 15058 (58.82 KB)\n",
      "Non-trainable params: 0 (0.00 Byte)\n",
      "_________________________________________________________________\n"
     ]
    }
   ],
   "source": [
    "input_layer = tf.keras.layers.Input(shape=(input_dim, ))\n",
    "#Encoder\n",
    "encoder = tf.keras.layers.Dense(encoding_dim, activation=\"relu\", activity_regularizer=tf.keras.regularizers.l2(learning_rate))(input_layer)\n",
    "encoder=tf.keras.layers.Dropout(0.2)(encoder)\n",
    "encoder = tf.keras.layers.Dense(hidden_dim_1, activation='relu')(encoder)\n",
    "encoder = tf.keras.layers.Dense(hidden_dim_2, activation='relu')(encoder)\n",
    "encoder = tf.keras.layers.Dense(hidden_dim_3, activation=tf.nn.leaky_relu)(encoder)\n",
    "# Decoder\n",
    "decoder = tf.keras.layers.Dense(hidden_dim_2, activation='relu')(encoder)\n",
    "decoder = tf.keras.layers.Dense(hidden_dim_1, activation='relu')(encoder)\n",
    "decoder=tf.keras.layers.Dropout(0.2)(decoder)\n",
    "decoder = tf.keras.layers.Dense(encoding_dim, activation='relu')(decoder)\n",
    "decoder = tf.keras.layers.Dense(input_dim, activation='relu')(decoder)\n",
    "#Autoencoder\n",
    "autoencoder = tf.keras.Model(inputs=input_layer, outputs=decoder)\n",
    "autoencoder.summary()"
   ]
  },
  {
   "cell_type": "code",
   "execution_count": 22,
   "metadata": {
    "id": "xkM__hSSz7gM"
   },
   "outputs": [],
   "source": [
    "cp = tf.keras.callbacks.ModelCheckpoint(filepath=\"autoencoder_fraud.h5\",\n",
    "                               mode='min', monitor='val_loss', verbose=2, save_best_only=True)\n",
    "# define our early stopping\n",
    "early_stop = tf.keras.callbacks.EarlyStopping(\n",
    "    monitor='val_loss',\n",
    "    min_delta=0.00001,\n",
    "    patience=20,\n",
    "    verbose=1, \n",
    "    mode='min',\n",
    "    restore_best_weights=True)"
   ]
  },
  {
   "cell_type": "code",
   "execution_count": 23,
   "metadata": {
    "id": "P1bY4Q3Q0Anz"
   },
   "outputs": [],
   "source": [
    "autoencoder.compile(metrics=['accuracy'],\n",
    "                    loss='mean_squared_error',\n",
    "                    optimizer='adam')"
   ]
  },
  {
   "cell_type": "code",
   "execution_count": 24,
   "metadata": {
    "id": "WndkwUW40DFj"
   },
   "outputs": [
    {
     "name": "stdout",
     "output_type": "stream",
     "text": [
      "Epoch 1/50\n",
      "10824/10867 [============================>.] - ETA: 0s - loss: 0.0016 - accuracy: 0.0131\n",
      "Epoch 1: val_loss improved from inf to 0.00097, saving model to autoencoder_fraud.h5\n",
      "10867/10867 [==============================] - 8s 675us/step - loss: 0.0016 - accuracy: 0.0131 - val_loss: 9.7143e-04 - val_accuracy: 0.0156\n",
      "Epoch 2/50\n",
      "  255/10867 [..............................] - ETA: 6s - loss: 0.0015 - accuracy: 0.0165 "
     ]
    },
    {
     "name": "stderr",
     "output_type": "stream",
     "text": [
      "/Users/domingocarvajal/.pyenv/versions/3.10.4/lib/python3.10/site-packages/keras/src/engine/training.py:3000: UserWarning: You are saving your model as an HDF5 file via `model.save()`. This file format is considered legacy. We recommend using instead the native Keras format, e.g. `model.save('my_model.keras')`.\n",
      "  saving_api.save_model(\n"
     ]
    },
    {
     "name": "stdout",
     "output_type": "stream",
     "text": [
      "10835/10867 [============================>.] - ETA: 0s - loss: 0.0015 - accuracy: 0.0186\n",
      "Epoch 2: val_loss improved from 0.00097 to 0.00097, saving model to autoencoder_fraud.h5\n",
      "10867/10867 [==============================] - 7s 639us/step - loss: 0.0015 - accuracy: 0.0186 - val_loss: 9.6820e-04 - val_accuracy: 0.0233\n",
      "Epoch 3/50\n",
      "10816/10867 [============================>.] - ETA: 0s - loss: 0.0015 - accuracy: 0.0253\n",
      "Epoch 3: val_loss did not improve from 0.00097\n",
      "10867/10867 [==============================] - 7s 639us/step - loss: 0.0015 - accuracy: 0.0253 - val_loss: 0.0010 - val_accuracy: 0.0302\n",
      "Epoch 4/50\n",
      "10866/10867 [============================>.] - ETA: 0s - loss: 0.0015 - accuracy: 0.0302\n",
      "Epoch 4: val_loss did not improve from 0.00097\n",
      "10867/10867 [==============================] - 7s 641us/step - loss: 0.0015 - accuracy: 0.0302 - val_loss: 0.0010 - val_accuracy: 0.0334\n",
      "Epoch 5/50\n",
      "10834/10867 [============================>.] - ETA: 0s - loss: 0.0015 - accuracy: 0.0330\n",
      "Epoch 5: val_loss did not improve from 0.00097\n",
      "10867/10867 [==============================] - 7s 638us/step - loss: 0.0015 - accuracy: 0.0330 - val_loss: 0.0010 - val_accuracy: 0.0373\n",
      "Epoch 6/50\n",
      "10866/10867 [============================>.] - ETA: 0s - loss: 0.0015 - accuracy: 0.0347\n",
      "Epoch 6: val_loss did not improve from 0.00097\n",
      "10867/10867 [==============================] - 7s 636us/step - loss: 0.0015 - accuracy: 0.0347 - val_loss: 0.0010 - val_accuracy: 0.0412\n",
      "Epoch 7/50\n",
      "10787/10867 [============================>.] - ETA: 0s - loss: 0.0015 - accuracy: 0.0361\n",
      "Epoch 7: val_loss did not improve from 0.00097\n",
      "10867/10867 [==============================] - 7s 636us/step - loss: 0.0015 - accuracy: 0.0360 - val_loss: 0.0011 - val_accuracy: 0.0383\n",
      "Epoch 8/50\n",
      "10821/10867 [============================>.] - ETA: 0s - loss: 0.0015 - accuracy: 0.0370\n",
      "Epoch 8: val_loss did not improve from 0.00097\n",
      "10867/10867 [==============================] - 7s 629us/step - loss: 0.0015 - accuracy: 0.0370 - val_loss: 0.0010 - val_accuracy: 0.0425\n",
      "Epoch 9/50\n",
      "10798/10867 [============================>.] - ETA: 0s - loss: 0.0015 - accuracy: 0.0395\n",
      "Epoch 9: val_loss did not improve from 0.00097\n",
      "10867/10867 [==============================] - 7s 639us/step - loss: 0.0015 - accuracy: 0.0396 - val_loss: 0.0011 - val_accuracy: 0.0438\n",
      "Epoch 10/50\n",
      "10801/10867 [============================>.] - ETA: 0s - loss: 0.0015 - accuracy: 0.0420\n",
      "Epoch 10: val_loss did not improve from 0.00097\n",
      "10867/10867 [==============================] - 7s 626us/step - loss: 0.0015 - accuracy: 0.0420 - val_loss: 0.0010 - val_accuracy: 0.0436\n",
      "Epoch 11/50\n",
      "10799/10867 [============================>.] - ETA: 0s - loss: 0.0015 - accuracy: 0.0429\n",
      "Epoch 11: val_loss did not improve from 0.00097\n",
      "10867/10867 [==============================] - 7s 660us/step - loss: 0.0015 - accuracy: 0.0430 - val_loss: 0.0010 - val_accuracy: 0.0454\n",
      "Epoch 12/50\n",
      "10831/10867 [============================>.] - ETA: 0s - loss: 0.0015 - accuracy: 0.0436\n",
      "Epoch 12: val_loss did not improve from 0.00097\n",
      "10867/10867 [==============================] - 7s 634us/step - loss: 0.0015 - accuracy: 0.0436 - val_loss: 0.0010 - val_accuracy: 0.0480\n",
      "Epoch 13/50\n",
      "10794/10867 [============================>.] - ETA: 0s - loss: 0.0015 - accuracy: 0.0448\n",
      "Epoch 13: val_loss did not improve from 0.00097\n",
      "10867/10867 [==============================] - 7s 636us/step - loss: 0.0015 - accuracy: 0.0448 - val_loss: 0.0010 - val_accuracy: 0.0488\n",
      "Epoch 14/50\n",
      "10836/10867 [============================>.] - ETA: 0s - loss: 0.0015 - accuracy: 0.0466\n",
      "Epoch 14: val_loss did not improve from 0.00097\n",
      "10867/10867 [==============================] - 7s 639us/step - loss: 0.0015 - accuracy: 0.0466 - val_loss: 0.0010 - val_accuracy: 0.0483\n",
      "Epoch 15/50\n",
      "10818/10867 [============================>.] - ETA: 0s - loss: 0.0015 - accuracy: 0.0457\n",
      "Epoch 15: val_loss did not improve from 0.00097\n",
      "10867/10867 [==============================] - 7s 643us/step - loss: 0.0015 - accuracy: 0.0457 - val_loss: 0.0010 - val_accuracy: 0.0440\n",
      "Epoch 16/50\n",
      "10846/10867 [============================>.] - ETA: 0s - loss: 0.0015 - accuracy: 0.0463\n",
      "Epoch 16: val_loss did not improve from 0.00097\n",
      "10867/10867 [==============================] - 7s 644us/step - loss: 0.0015 - accuracy: 0.0463 - val_loss: 0.0011 - val_accuracy: 0.0489\n",
      "Epoch 17/50\n",
      "10794/10867 [============================>.] - ETA: 0s - loss: 0.0015 - accuracy: 0.0472\n",
      "Epoch 17: val_loss did not improve from 0.00097\n",
      "10867/10867 [==============================] - 7s 656us/step - loss: 0.0015 - accuracy: 0.0472 - val_loss: 0.0010 - val_accuracy: 0.0513\n",
      "Epoch 18/50\n",
      "10835/10867 [============================>.] - ETA: 0s - loss: 0.0015 - accuracy: 0.0471\n",
      "Epoch 18: val_loss did not improve from 0.00097\n",
      "10867/10867 [==============================] - 7s 646us/step - loss: 0.0015 - accuracy: 0.0471 - val_loss: 0.0011 - val_accuracy: 0.0506\n",
      "Epoch 19/50\n",
      "10798/10867 [============================>.] - ETA: 0s - loss: 0.0015 - accuracy: 0.0487\n",
      "Epoch 19: val_loss did not improve from 0.00097\n",
      "10867/10867 [==============================] - 7s 672us/step - loss: 0.0015 - accuracy: 0.0487 - val_loss: 0.0011 - val_accuracy: 0.0503\n",
      "Epoch 20/50\n",
      "10810/10867 [============================>.] - ETA: 0s - loss: 0.0015 - accuracy: 0.0494\n",
      "Epoch 20: val_loss did not improve from 0.00097\n",
      "10867/10867 [==============================] - 7s 663us/step - loss: 0.0015 - accuracy: 0.0493 - val_loss: 0.0010 - val_accuracy: 0.0514\n",
      "Epoch 21/50\n",
      "10863/10867 [============================>.] - ETA: 0s - loss: 0.0015 - accuracy: 0.0491\n",
      "Epoch 21: val_loss did not improve from 0.00097\n",
      "Restoring model weights from the end of the best epoch: 1.\n",
      "10867/10867 [==============================] - 7s 649us/step - loss: 0.0015 - accuracy: 0.0491 - val_loss: 0.0010 - val_accuracy: 0.0502\n",
      "Epoch 21: early stopping\n"
     ]
    }
   ],
   "source": [
    "from keras.models import load_model\n",
    "\n",
    "\n",
    "\n",
    "history = autoencoder.fit(train_data, train_data,\n",
    "                    epochs=nb_epoch,\n",
    "                    batch_size=batch_size,\n",
    "                    shuffle=True,\n",
    "                    validation_data=(test_data, test_data),\n",
    "                    verbose=1,\n",
    "                    callbacks=[cp, early_stop]\n",
    "                    ).history"
   ]
  },
  {
   "cell_type": "code",
   "execution_count": 25,
   "metadata": {
    "colab": {
     "base_uri": "https://localhost:8080/"
    },
    "id": "XI15nLNUypIW",
    "outputId": "6b029668-00f3-472c-911d-03717a28a5b5"
   },
   "outputs": [
    {
     "data": {
      "image/png": "[encoded data removed]",
      "text/plain": [
       "<Figure size 640x480 with 1 Axes>"
      ]
     },
     "metadata": {},
     "output_type": "display_data"
    }
   ],
   "source": [
    "try:\n",
    "    plt.plot(history['loss'], linewidth=2, label='Train')\n",
    "    plt.plot(history['val_loss'], linewidth=2, label='Test')\n",
    "    plt.legend(loc='upper right')\n",
    "    plt.title('Model loss')\n",
    "    plt.ylabel('Loss')\n",
    "    plt.xlabel('Epoch')\n",
    "    # plt.ylim(ymin=0.70,ymax=1)\n",
    "    plt.show()\n",
    "except NameError as e:\n",
    "    print(\"MOdel is trained\")"
   ]
  },
  {
   "cell_type": "code",
   "execution_count": 26,
   "metadata": {
    "id": "5WhrXfcR_tPR"
   },
   "outputs": [],
   "source": [
    "# from keras.models import load_model\n",
    "# auto_encoder = load_model('/content/autoencoder_fraud.h5')"
   ]
  },
  {
   "cell_type": "code",
   "execution_count": 27,
   "metadata": {},
   "outputs": [
    {
     "name": "stdout",
     "output_type": "stream",
     "text": [
      "tf.Tensor(\n",
      "[0.         0.         0.         0.         0.11239299 0.00911294\n",
      " 0.07290356 0.         0.0081004  0.         0.         0.\n",
      " 0.         0.         0.         0.01113804 0.         0.\n",
      " 0.         0.01417569 0.         0.         0.         0.\n",
      " 0.         0.02025099 0.         0.         0.00243494 0.00084772\n",
      " 0.         0.         0.         0.         0.01350066 0.0081004\n",
      " 0.         0.         0.         0.         0.00877543 0.00843791\n",
      " 0.         0.         0.11036789 0.13365653 0.01779194 0.\n",
      " 0.00776288 0.         0.0060753  0.         0.00877543 0.\n",
      " 0.         0.         0.         0.         0.         0.\n",
      " 0.         0.00945046 0.         0.         0.         0.\n",
      " 0.         0.         0.         0.         0.         0.\n",
      " 0.00776288 0.         0.         0.0287564  0.04603206 0.\n",
      " 0.         0.         0.         0.         0.         0.\n",
      " 0.01965005 0.06017437 0.0081004  0.         0.00708785 0.13770673\n",
      " 0.         0.         0.04799484 0.04910865 0.         0.03138904\n",
      " 0.         0.         0.         0.08977938 0.         0.07492866\n",
      " 0.01215059 0.         0.01215059 0.         0.         0.\n",
      " 0.         0.         0.         0.         0.         0.\n",
      " 0.         0.07492866 0.         0.00877543 0.         0.        ], shape=(120,), dtype=float32)\n"
     ]
    }
   ],
   "source": [
    "print(test_data[1][:200])"
   ]
  },
  {
   "cell_type": "code",
   "execution_count": 28,
   "metadata": {
    "colab": {
     "base_uri": "https://localhost:8080/",
     "height": 709
    },
    "id": "qAiMp6HozRhV",
    "outputId": "ac75cdf4-d163-48b6-8e30-73947703b1f0"
   },
   "outputs": [
    {
     "name": "stdout",
     "output_type": "stream",
     "text": [
      "2717/2717 [==============================] - 1s 267us/step\n",
      "Mean Squared Error: [0.00071256 0.00073331 0.00072856 ... 0.0043616  0.00433746 0.00430151]\n"
     ]
    },
    {
     "data": {
      "text/html": [
       "<div>\n",
       "<style scoped>\n",
       "    .dataframe tbody tr th:only-of-type {\n",
       "        vertical-align: middle;\n",
       "    }\n",
       "\n",
       "    .dataframe tbody tr th {\n",
       "        vertical-align: top;\n",
       "    }\n",
       "\n",
       "    .dataframe thead th {\n",
       "        text-align: right;\n",
       "    }\n",
       "</style>\n",
       "<table border=\"1\" class=\"dataframe\">\n",
       "  <thead>\n",
       "    <tr style=\"text-align: right;\">\n",
       "      <th></th>\n",
       "      <th>Reconstruction_error</th>\n",
       "      <th>True_class</th>\n",
       "    </tr>\n",
       "  </thead>\n",
       "  <tbody>\n",
       "    <tr>\n",
       "      <th>0</th>\n",
       "      <td>0.000713</td>\n",
       "      <td>False</td>\n",
       "    </tr>\n",
       "    <tr>\n",
       "      <th>1</th>\n",
       "      <td>0.000733</td>\n",
       "      <td>False</td>\n",
       "    </tr>\n",
       "    <tr>\n",
       "      <th>2</th>\n",
       "      <td>0.000729</td>\n",
       "      <td>False</td>\n",
       "    </tr>\n",
       "    <tr>\n",
       "      <th>3</th>\n",
       "      <td>0.000726</td>\n",
       "      <td>False</td>\n",
       "    </tr>\n",
       "    <tr>\n",
       "      <th>4</th>\n",
       "      <td>0.000720</td>\n",
       "      <td>False</td>\n",
       "    </tr>\n",
       "    <tr>\n",
       "      <th>...</th>\n",
       "      <td>...</td>\n",
       "      <td>...</td>\n",
       "    </tr>\n",
       "    <tr>\n",
       "      <th>86931</th>\n",
       "      <td>0.004462</td>\n",
       "      <td>False</td>\n",
       "    </tr>\n",
       "    <tr>\n",
       "      <th>86932</th>\n",
       "      <td>0.004450</td>\n",
       "      <td>False</td>\n",
       "    </tr>\n",
       "    <tr>\n",
       "      <th>86933</th>\n",
       "      <td>0.004362</td>\n",
       "      <td>False</td>\n",
       "    </tr>\n",
       "    <tr>\n",
       "      <th>86934</th>\n",
       "      <td>0.004337</td>\n",
       "      <td>False</td>\n",
       "    </tr>\n",
       "    <tr>\n",
       "      <th>86935</th>\n",
       "      <td>0.004302</td>\n",
       "      <td>False</td>\n",
       "    </tr>\n",
       "  </tbody>\n",
       "</table>\n",
       "<p>86936 rows × 2 columns</p>\n",
       "</div>"
      ],
      "text/plain": [
       "       Reconstruction_error  True_class\n",
       "0                  0.000713       False\n",
       "1                  0.000733       False\n",
       "2                  0.000729       False\n",
       "3                  0.000726       False\n",
       "4                  0.000720       False\n",
       "...                     ...         ...\n",
       "86931              0.004462       False\n",
       "86932              0.004450       False\n",
       "86933              0.004362       False\n",
       "86934              0.004337       False\n",
       "86935              0.004302       False\n",
       "\n",
       "[86936 rows x 2 columns]"
      ]
     },
     "execution_count": 28,
     "metadata": {},
     "output_type": "execute_result"
    }
   ],
   "source": [
    "test_x_predictions = autoencoder.predict(test_data)\n",
    "mse = np.mean(np.power(test_data - test_x_predictions, 2), axis=1)\n",
    "test_labels = np.full((mse.shape), False)\n",
    "error_df = pd.DataFrame({'Reconstruction_error': mse,\n",
    "                        'True_class': test_labels})\n",
    "print(f\"Mean Squared Error: {mse}\")\n",
    "error_df"
   ]
  },
  {
   "cell_type": "code",
   "execution_count": 29,
   "metadata": {},
   "outputs": [
    {
     "name": "stdout",
     "output_type": "stream",
     "text": [
      "10867/10867 [==============================] - 3s 266us/step\n",
      "Mean Squared Error: [0.00051437 0.00052075 0.00052553 ... 0.00070686 0.00072041 0.0007108 ]\n"
     ]
    },
    {
     "data": {
      "text/html": [
       "<div>\n",
       "<style scoped>\n",
       "    .dataframe tbody tr th:only-of-type {\n",
       "        vertical-align: middle;\n",
       "    }\n",
       "\n",
       "    .dataframe tbody tr th {\n",
       "        vertical-align: top;\n",
       "    }\n",
       "\n",
       "    .dataframe thead th {\n",
       "        text-align: right;\n",
       "    }\n",
       "</style>\n",
       "<table border=\"1\" class=\"dataframe\">\n",
       "  <thead>\n",
       "    <tr style=\"text-align: right;\">\n",
       "      <th></th>\n",
       "      <th>Reconstruction_error</th>\n",
       "      <th>True_class</th>\n",
       "    </tr>\n",
       "  </thead>\n",
       "  <tbody>\n",
       "    <tr>\n",
       "      <th>0</th>\n",
       "      <td>0.000514</td>\n",
       "      <td>False</td>\n",
       "    </tr>\n",
       "    <tr>\n",
       "      <th>1</th>\n",
       "      <td>0.000521</td>\n",
       "      <td>False</td>\n",
       "    </tr>\n",
       "    <tr>\n",
       "      <th>2</th>\n",
       "      <td>0.000526</td>\n",
       "      <td>False</td>\n",
       "    </tr>\n",
       "    <tr>\n",
       "      <th>3</th>\n",
       "      <td>0.000528</td>\n",
       "      <td>False</td>\n",
       "    </tr>\n",
       "    <tr>\n",
       "      <th>4</th>\n",
       "      <td>0.000522</td>\n",
       "      <td>False</td>\n",
       "    </tr>\n",
       "    <tr>\n",
       "      <th>...</th>\n",
       "      <td>...</td>\n",
       "      <td>...</td>\n",
       "    </tr>\n",
       "    <tr>\n",
       "      <th>347738</th>\n",
       "      <td>0.000688</td>\n",
       "      <td>False</td>\n",
       "    </tr>\n",
       "    <tr>\n",
       "      <th>347739</th>\n",
       "      <td>0.000684</td>\n",
       "      <td>False</td>\n",
       "    </tr>\n",
       "    <tr>\n",
       "      <th>347740</th>\n",
       "      <td>0.000707</td>\n",
       "      <td>False</td>\n",
       "    </tr>\n",
       "    <tr>\n",
       "      <th>347741</th>\n",
       "      <td>0.000720</td>\n",
       "      <td>False</td>\n",
       "    </tr>\n",
       "    <tr>\n",
       "      <th>347742</th>\n",
       "      <td>0.000711</td>\n",
       "      <td>False</td>\n",
       "    </tr>\n",
       "  </tbody>\n",
       "</table>\n",
       "<p>347743 rows × 2 columns</p>\n",
       "</div>"
      ],
      "text/plain": [
       "        Reconstruction_error  True_class\n",
       "0                   0.000514       False\n",
       "1                   0.000521       False\n",
       "2                   0.000526       False\n",
       "3                   0.000528       False\n",
       "4                   0.000522       False\n",
       "...                      ...         ...\n",
       "347738              0.000688       False\n",
       "347739              0.000684       False\n",
       "347740              0.000707       False\n",
       "347741              0.000720       False\n",
       "347742              0.000711       False\n",
       "\n",
       "[347743 rows x 2 columns]"
      ]
     },
     "execution_count": 29,
     "metadata": {},
     "output_type": "execute_result"
    }
   ],
   "source": [
    "train_x_predictions = autoencoder.predict(train_data)\n",
    "mse = np.mean(np.power(train_data - train_x_predictions, 2), axis=1)\n",
    "train_labels = np.full((mse.shape), False)\n",
    "train_error_df = pd.DataFrame({'Reconstruction_error': mse,\n",
    "                        'True_class': train_labels})\n",
    "print(f\"Mean Squared Error: {mse}\")\n",
    "train_error_df"
   ]
  },
  {
   "cell_type": "code",
   "execution_count": 30,
   "metadata": {
    "colab": {
     "base_uri": "https://localhost:8080/"
    },
    "id": "LkcnRzmTzSsX",
    "outputId": "8ca1d881-be97-41b9-81a3-3158e514f33e"
   },
   "outputs": [
    {
     "name": "stdout",
     "output_type": "stream",
     "text": [
      "[0.00885776 0.00912518 0.00689945 0.01106116 0.00785051 0.00847021\n",
      " 0.01079878 0.00924227 0.00840593 0.00819509 0.00815309 0.00640566\n",
      " 0.00426987 0.00660857 0.00588493 0.00595425 0.00558367 0.00837898\n",
      " 0.00855035 0.00542435 0.00801468 0.00574719 0.00443129 0.00961359\n",
      " 0.00678949 0.00731677 0.0077714  0.00738505 0.00449261 0.0089721\n",
      " 0.00468238 0.01022694 0.00962455 0.00741334 0.00847624 0.00926939\n",
      " 0.00839709 0.00973129 0.00953196 0.01037117 0.00771163 0.00680301\n",
      " 0.00734144 0.00567305 0.00840161 0.00960903 0.00797051 0.00850749\n",
      " 0.00810449 0.01198764 0.00949792 0.01230663 0.00656943 0.01008394\n",
      " 0.00781448 0.00835546 0.00836604 0.00833917 0.00960162 0.00948397\n",
      " 0.01650344 0.00993242 0.01185641 0.01130209 0.01426852 0.00986118\n",
      " 0.0100694  0.01202464 0.01061041 0.01057075 0.01114647 0.01196519\n",
      " 0.01173914 0.00949301 0.01063309 0.00950865 0.01040261 0.01175468\n",
      " 0.01268069 0.00845644 0.00955544 0.01431486 0.01043744 0.01176981\n",
      " 0.00942707 0.00759441 0.01177862 0.0135949  0.01153545 0.01183422\n",
      " 0.0145754  0.01455469 0.01257894 0.01445736 0.01241242 0.01292362\n",
      " 0.0166862  0.01355994 0.01548177 0.01287908 0.01478061 0.01499056\n",
      " 0.01497258 0.01704095 0.01387081 0.01319974 0.01306016 0.01016912\n",
      " 0.01315991 0.01154382 0.01468106 0.01611319 0.01790734 0.01877232\n",
      " 0.00992786 0.01186377 0.01456928 0.01284717 0.01426602 0.01630303]\n",
      "tf.Tensor(\n",
      "[0.         0.         0.         0.         0.11239299 0.00911294\n",
      " 0.07290356 0.         0.0081004  0.         0.         0.\n",
      " 0.         0.         0.         0.01113804 0.         0.\n",
      " 0.         0.01417569 0.         0.         0.         0.\n",
      " 0.         0.02025099 0.         0.         0.00243494 0.00084772\n",
      " 0.         0.         0.         0.         0.01350066 0.0081004\n",
      " 0.         0.         0.         0.         0.00877543 0.00843791\n",
      " 0.         0.         0.11036789 0.13365653 0.01779194 0.\n",
      " 0.00776288 0.         0.0060753  0.         0.00877543 0.\n",
      " 0.         0.         0.         0.         0.         0.\n",
      " 0.         0.00945046 0.         0.         0.         0.\n",
      " 0.         0.         0.         0.         0.         0.\n",
      " 0.00776288 0.         0.         0.0287564  0.04603206 0.\n",
      " 0.         0.         0.         0.         0.         0.\n",
      " 0.01965005 0.06017437 0.0081004  0.         0.00708785 0.13770673\n",
      " 0.         0.         0.04799484 0.04910865 0.         0.03138904\n",
      " 0.         0.         0.         0.08977938 0.         0.07492866\n",
      " 0.01215059 0.         0.01215059 0.         0.         0.\n",
      " 0.         0.         0.         0.         0.         0.\n",
      " 0.         0.07492866 0.         0.00877543 0.         0.        ], shape=(120,), dtype=float32)\n"
     ]
    }
   ],
   "source": [
    "print(test_x_predictions[1])\n",
    "print(test_data[1])"
   ]
  },
  {
   "cell_type": "code",
   "execution_count": 31,
   "metadata": {},
   "outputs": [],
   "source": [
    "quantile_value = 0.95"
   ]
  },
  {
   "cell_type": "code",
   "execution_count": 32,
   "metadata": {
    "colab": {
     "base_uri": "https://localhost:8080/",
     "height": 472
    },
    "id": "J9gFsgYgzoDW",
    "outputId": "f9602db2-0e77-46d5-9d48-a9ebc407673e"
   },
   "outputs": [
    {
     "data": {
      "image/png": "[encoded data removed]",
      "text/plain": [
       "<Figure size 640x480 with 1 Axes>"
      ]
     },
     "metadata": {},
     "output_type": "display_data"
    }
   ],
   "source": [
    "groups = error_df.groupby('True_class')\n",
    "threshold = train_error_df['Reconstruction_error'].quantile(quantile_value)\n",
    "fig, ax = plt.subplots()\n",
    "for name, group in groups:\n",
    "    ax.plot(group.index, group.Reconstruction_error, marker='o', ms=3.5, linestyle='',\n",
    "            label= \"Fraud\" if name == 1 else \"Normal\")\n",
    "ax.hlines(threshold, ax.get_xlim()[0], ax.get_xlim()[1], colors=\"r\", zorder=100, label='Threshold')\n",
    "ax.legend()\n",
    "plt.title(\"Reconstruction error for normal and fraud data\")\n",
    "plt.ylabel(\"Reconstruction error\")\n",
    "plt.xlabel(\"Data point index\")\n",
    "plt.show();"
   ]
  },
  {
   "cell_type": "code",
   "execution_count": 33,
   "metadata": {
    "colab": {
     "base_uri": "https://localhost:8080/"
    },
    "id": "Q72FFEhX3lce",
    "outputId": "da575c4a-e75f-4bad-cfa4-1dba5f7ca802"
   },
   "outputs": [
    {
     "data": {
      "text/plain": [
       "0.002996357448864728"
      ]
     },
     "execution_count": 33,
     "metadata": {},
     "output_type": "execute_result"
    }
   ],
   "source": [
    "error_df['Reconstruction_error'].quantile(quantile_value)"
   ]
  },
  {
   "cell_type": "code",
   "execution_count": 34,
   "metadata": {
    "id": "V55lXGcDy-Id"
   },
   "outputs": [],
   "source": [
    "pred_y = [1 if e > threshold else 0 for e in error_df.Reconstruction_error.values]\n",
    "error_df['pred'] =pred_y"
   ]
  },
  {
   "cell_type": "code",
   "execution_count": 35,
   "metadata": {
    "colab": {
     "base_uri": "https://localhost:8080/",
     "height": 424
    },
    "id": "i-NOOWJu4_6s",
    "outputId": "5078ddd8-98f5-49c6-a4e1-ab983f81ba08"
   },
   "outputs": [
    {
     "data": {
      "text/html": [
       "<div>\n",
       "<style scoped>\n",
       "    .dataframe tbody tr th:only-of-type {\n",
       "        vertical-align: middle;\n",
       "    }\n",
       "\n",
       "    .dataframe tbody tr th {\n",
       "        vertical-align: top;\n",
       "    }\n",
       "\n",
       "    .dataframe thead th {\n",
       "        text-align: right;\n",
       "    }\n",
       "</style>\n",
       "<table border=\"1\" class=\"dataframe\">\n",
       "  <thead>\n",
       "    <tr style=\"text-align: right;\">\n",
       "      <th></th>\n",
       "      <th>Reconstruction_error</th>\n",
       "      <th>True_class</th>\n",
       "      <th>pred</th>\n",
       "    </tr>\n",
       "  </thead>\n",
       "  <tbody>\n",
       "    <tr>\n",
       "      <th>1427</th>\n",
       "      <td>0.005818</td>\n",
       "      <td>False</td>\n",
       "      <td>1</td>\n",
       "    </tr>\n",
       "    <tr>\n",
       "      <th>1428</th>\n",
       "      <td>0.005800</td>\n",
       "      <td>False</td>\n",
       "      <td>1</td>\n",
       "    </tr>\n",
       "    <tr>\n",
       "      <th>1429</th>\n",
       "      <td>0.005911</td>\n",
       "      <td>False</td>\n",
       "      <td>1</td>\n",
       "    </tr>\n",
       "    <tr>\n",
       "      <th>1430</th>\n",
       "      <td>0.005848</td>\n",
       "      <td>False</td>\n",
       "      <td>1</td>\n",
       "    </tr>\n",
       "    <tr>\n",
       "      <th>1431</th>\n",
       "      <td>0.005960</td>\n",
       "      <td>False</td>\n",
       "      <td>1</td>\n",
       "    </tr>\n",
       "    <tr>\n",
       "      <th>...</th>\n",
       "      <td>...</td>\n",
       "      <td>...</td>\n",
       "      <td>...</td>\n",
       "    </tr>\n",
       "    <tr>\n",
       "      <th>82296</th>\n",
       "      <td>0.010270</td>\n",
       "      <td>False</td>\n",
       "      <td>1</td>\n",
       "    </tr>\n",
       "    <tr>\n",
       "      <th>82297</th>\n",
       "      <td>0.010308</td>\n",
       "      <td>False</td>\n",
       "      <td>1</td>\n",
       "    </tr>\n",
       "    <tr>\n",
       "      <th>82298</th>\n",
       "      <td>0.010371</td>\n",
       "      <td>False</td>\n",
       "      <td>1</td>\n",
       "    </tr>\n",
       "    <tr>\n",
       "      <th>82299</th>\n",
       "      <td>0.009476</td>\n",
       "      <td>False</td>\n",
       "      <td>1</td>\n",
       "    </tr>\n",
       "    <tr>\n",
       "      <th>82300</th>\n",
       "      <td>0.009466</td>\n",
       "      <td>False</td>\n",
       "      <td>1</td>\n",
       "    </tr>\n",
       "  </tbody>\n",
       "</table>\n",
       "<p>1344 rows × 3 columns</p>\n",
       "</div>"
      ],
      "text/plain": [
       "       Reconstruction_error  True_class  pred\n",
       "1427               0.005818       False     1\n",
       "1428               0.005800       False     1\n",
       "1429               0.005911       False     1\n",
       "1430               0.005848       False     1\n",
       "1431               0.005960       False     1\n",
       "...                     ...         ...   ...\n",
       "82296              0.010270       False     1\n",
       "82297              0.010308       False     1\n",
       "82298              0.010371       False     1\n",
       "82299              0.009476       False     1\n",
       "82300              0.009466       False     1\n",
       "\n",
       "[1344 rows x 3 columns]"
      ]
     },
     "execution_count": 35,
     "metadata": {},
     "output_type": "execute_result"
    }
   ],
   "source": [
    "anomalies_df = error_df[error_df['pred'] == 1]\n",
    "non_anomalies_df = error_df[error_df['pred']==0]\n",
    "anomalies_df"
   ]
  },
  {
   "cell_type": "code",
   "execution_count": 36,
   "metadata": {},
   "outputs": [
    {
     "data": {
      "text/plain": [
       "array([0.00581777, 0.00579978, 0.00591148, ..., 0.01037099, 0.00947602,\n",
       "       0.00946567], dtype=float32)"
      ]
     },
     "execution_count": 36,
     "metadata": {},
     "output_type": "execute_result"
    }
   ],
   "source": [
    "anomalies_df[\"Reconstruction_error\"].values"
   ]
  },
  {
   "cell_type": "code",
   "execution_count": 37,
   "metadata": {
    "colab": {
     "base_uri": "https://localhost:8080/"
    },
    "id": "I-6a-IFsA3XV",
    "outputId": "e5050611-cf4d-4fe4-8257-f1aa7a604371"
   },
   "outputs": [
    {
     "name": "stdout",
     "output_type": "stream",
     "text": [
      "(1344,)\n",
      "['2023-01-30T04:51:00.000000000' '2023-01-30T04:52:00.000000000'\n",
      " '2023-01-30T04:53:00.000000000' ... '2023-03-28T04:42:00.000000000'\n",
      " '2023-03-28T04:43:00.000000000' '2023-03-28T04:44:00.000000000']\n"
     ]
    }
   ],
   "source": [
    "# Get the indices from anomalies_df\n",
    "anomaly_indices = anomalies_df.index.values\n",
    "non_anomaly_indices = non_anomalies_df.index.values\n",
    "\n",
    "# Find the intersection between test_indices and anomaly_indices\n",
    "matching_indices = []\n",
    "na_matching_indices = []\n",
    "for index in anomaly_indices:\n",
    "    matching_indices.append(test_indices[index])\n",
    "matching_indices = np.array(matching_indices)\n",
    "print(matching_indices.shape)\n",
    "\n",
    "for index in non_anomaly_indices:\n",
    "    na_matching_indices.append(test_indices[index])\n",
    "na_matching_indices = np.array(na_matching_indices)\n",
    "\n",
    "# Get the values from df_filtered corresponding to matching_indices\n",
    "matching_values = df.loc[matching_indices, 'datetime'].values\n",
    "# Get the values from df_filtered corresponding to matching_indices\n",
    "na_matching_values = df.loc[na_matching_indices, 'datetime'].values\n",
    "\n",
    "# Print the matching datetime values\n",
    "print(matching_values)\n"
   ]
  },
  {
   "cell_type": "code",
   "execution_count": 38,
   "metadata": {},
   "outputs": [],
   "source": [
    "anomalies_dates_df = pd.DataFrame({'original_index': matching_indices, 'datetime': matching_values, 'error_value': anomalies_df[\"Reconstruction_error\"].values})\n",
    "anomalies_dates_df = anomalies_dates_df.sort_values(\"error_value\", ascending=False)\n",
    "anomalies_dates_df\n",
    "\n",
    "non_anomalies_dates_df = pd.DataFrame({'original_index': na_matching_indices, 'datetime': na_matching_values, 'error_value': non_anomalies_df[\"Reconstruction_error\"].values})\n",
    "non_anomalies_dates_df = non_anomalies_dates_df.sort_values(\"error_value\", ascending=True)"
   ]
  },
  {
   "cell_type": "markdown",
   "metadata": {
    "id": "7bve6UmlH7Cf"
   },
   "source": [
    "# 5. Ploting the anomalies"
   ]
  },
  {
   "cell_type": "code",
   "execution_count": 39,
   "metadata": {
    "colab": {
     "base_uri": "https://localhost:8080/",
     "height": 551
    },
    "id": "wlRgm2s2JuT9",
    "outputId": "6b706bd8-e7a5-4ffb-d7b0-51656e87f201"
   },
   "outputs": [
    {
     "data": {
      "text/html": [
       "<div>\n",
       "<style scoped>\n",
       "    .dataframe tbody tr th:only-of-type {\n",
       "        vertical-align: middle;\n",
       "    }\n",
       "\n",
       "    .dataframe tbody tr th {\n",
       "        vertical-align: top;\n",
       "    }\n",
       "\n",
       "    .dataframe thead th {\n",
       "        text-align: right;\n",
       "    }\n",
       "</style>\n",
       "<table border=\"1\" class=\"dataframe\">\n",
       "  <thead>\n",
       "    <tr style=\"text-align: right;\">\n",
       "      <th></th>\n",
       "      <th>datetime</th>\n",
       "      <th>value</th>\n",
       "      <th>hour</th>\n",
       "      <th>day</th>\n",
       "    </tr>\n",
       "  </thead>\n",
       "  <tbody>\n",
       "    <tr>\n",
       "      <th>0</th>\n",
       "      <td>2022-06-01 16:21:00</td>\n",
       "      <td>73.074380</td>\n",
       "      <td>2022-06-01 16:00:00</td>\n",
       "      <td>2022-06-01</td>\n",
       "    </tr>\n",
       "    <tr>\n",
       "      <th>1</th>\n",
       "      <td>2022-06-01 16:22:00</td>\n",
       "      <td>68.822115</td>\n",
       "      <td>2022-06-01 16:00:00</td>\n",
       "      <td>2022-06-01</td>\n",
       "    </tr>\n",
       "    <tr>\n",
       "      <th>2</th>\n",
       "      <td>2022-06-01 16:23:00</td>\n",
       "      <td>70.881279</td>\n",
       "      <td>2022-06-01 16:00:00</td>\n",
       "      <td>2022-06-01</td>\n",
       "    </tr>\n",
       "    <tr>\n",
       "      <th>3</th>\n",
       "      <td>2022-06-01 16:24:00</td>\n",
       "      <td>88.367742</td>\n",
       "      <td>2022-06-01 16:00:00</td>\n",
       "      <td>2022-06-01</td>\n",
       "    </tr>\n",
       "    <tr>\n",
       "      <th>4</th>\n",
       "      <td>2022-06-01 16:25:00</td>\n",
       "      <td>69.131068</td>\n",
       "      <td>2022-06-01 16:00:00</td>\n",
       "      <td>2022-06-01</td>\n",
       "    </tr>\n",
       "    <tr>\n",
       "      <th>...</th>\n",
       "      <td>...</td>\n",
       "      <td>...</td>\n",
       "      <td>...</td>\n",
       "      <td>...</td>\n",
       "    </tr>\n",
       "    <tr>\n",
       "      <th>434794</th>\n",
       "      <td>2023-03-31 13:55:00</td>\n",
       "      <td>48.444444</td>\n",
       "      <td>2023-03-31 13:00:00</td>\n",
       "      <td>2023-03-31</td>\n",
       "    </tr>\n",
       "    <tr>\n",
       "      <th>434795</th>\n",
       "      <td>2023-03-31 13:56:00</td>\n",
       "      <td>58.716535</td>\n",
       "      <td>2023-03-31 13:00:00</td>\n",
       "      <td>2023-03-31</td>\n",
       "    </tr>\n",
       "    <tr>\n",
       "      <th>434796</th>\n",
       "      <td>2023-03-31 13:57:00</td>\n",
       "      <td>84.803571</td>\n",
       "      <td>2023-03-31 13:00:00</td>\n",
       "      <td>2023-03-31</td>\n",
       "    </tr>\n",
       "    <tr>\n",
       "      <th>434797</th>\n",
       "      <td>2023-03-31 13:58:00</td>\n",
       "      <td>40.194805</td>\n",
       "      <td>2023-03-31 13:00:00</td>\n",
       "      <td>2023-03-31</td>\n",
       "    </tr>\n",
       "    <tr>\n",
       "      <th>434798</th>\n",
       "      <td>2023-03-31 13:59:00</td>\n",
       "      <td>46.680851</td>\n",
       "      <td>2023-03-31 13:00:00</td>\n",
       "      <td>2023-03-31</td>\n",
       "    </tr>\n",
       "  </tbody>\n",
       "</table>\n",
       "<p>434799 rows × 4 columns</p>\n",
       "</div>"
      ],
      "text/plain": [
       "                  datetime      value                hour        day\n",
       "0      2022-06-01 16:21:00  73.074380 2022-06-01 16:00:00 2022-06-01\n",
       "1      2022-06-01 16:22:00  68.822115 2022-06-01 16:00:00 2022-06-01\n",
       "2      2022-06-01 16:23:00  70.881279 2022-06-01 16:00:00 2022-06-01\n",
       "3      2022-06-01 16:24:00  88.367742 2022-06-01 16:00:00 2022-06-01\n",
       "4      2022-06-01 16:25:00  69.131068 2022-06-01 16:00:00 2022-06-01\n",
       "...                    ...        ...                 ...        ...\n",
       "434794 2023-03-31 13:55:00  48.444444 2023-03-31 13:00:00 2023-03-31\n",
       "434795 2023-03-31 13:56:00  58.716535 2023-03-31 13:00:00 2023-03-31\n",
       "434796 2023-03-31 13:57:00  84.803571 2023-03-31 13:00:00 2023-03-31\n",
       "434797 2023-03-31 13:58:00  40.194805 2023-03-31 13:00:00 2023-03-31\n",
       "434798 2023-03-31 13:59:00  46.680851 2023-03-31 13:00:00 2023-03-31\n",
       "\n",
       "[434799 rows x 4 columns]"
      ]
     },
     "execution_count": 39,
     "metadata": {},
     "output_type": "execute_result"
    }
   ],
   "source": [
    "df['day'] = df['datetime'].dt.floor('D')\n",
    "df"
   ]
  },
  {
   "cell_type": "code",
   "execution_count": 40,
   "metadata": {
    "id": "4LeP4fek5p6l"
   },
   "outputs": [],
   "source": [
    "\n",
    "\n",
    "if not os.path.exists(\"images\"):\n",
    "    os.mkdir(\"images\")\n",
    "    \n",
    "if not os.path.exists(\"normal_images\"):\n",
    "    os.mkdir(\"normal_images\")\n"
   ]
  },
  {
   "cell_type": "code",
   "execution_count": 41,
   "metadata": {
    "colab": {
     "base_uri": "https://localhost:8080/"
    },
    "id": "wIiR4LjeCS7m",
    "outputId": "9b931930-4308-4b85-d7fa-82d3acc65f8f"
   },
   "outputs": [],
   "source": [
    "#!pip install -U kaleido"
   ]
  },
  {
   "cell_type": "code",
   "execution_count": 42,
   "metadata": {
    "colab": {
     "base_uri": "https://localhost:8080/",
     "height": 389
    },
    "id": "noOVFN4pd-gx",
    "outputId": "0691a834-c343-4f61-c80b-a39e0fbeaef0"
   },
   "outputs": [
    {
     "name": "stdout",
     "output_type": "stream",
     "text": [
      "1/1 [==============================] - 0s 7ms/step\n"
     ]
    },
    {
     "name": "stderr",
     "output_type": "stream",
     "text": [
      "/var/folders/v_/l0t8hty96mb527z2jtf6b75r0000gn/T/ipykernel_38945/4071116608.py:15: SettingWithCopyWarning: \n",
      "A value is trying to be set on a copy of a slice from a DataFrame.\n",
      "Try using .loc[row_indexer,col_indexer] = value instead\n",
      "\n",
      "See the caveats in the documentation: https://pandas.pydata.org/pandas-docs/stable/user_guide/indexing.html#returning-a-view-versus-a-copy\n",
      "  df_to_graph['prediction'] = \"\"\n"
     ]
    },
    {
     "name": "stdout",
     "output_type": "stream",
     "text": [
      "2023-03-01T19:26:00.000000000\n",
      "1/1 [==============================] - 0s 8ms/step\n",
      "2023-03-28T03:12:00.000000000\n",
      "1/1 [==============================] - 0s 7ms/step\n"
     ]
    },
    {
     "name": "stderr",
     "output_type": "stream",
     "text": [
      "/var/folders/v_/l0t8hty96mb527z2jtf6b75r0000gn/T/ipykernel_38945/4071116608.py:15: SettingWithCopyWarning:\n",
      "\n",
      "\n",
      "A value is trying to be set on a copy of a slice from a DataFrame.\n",
      "Try using .loc[row_indexer,col_indexer] = value instead\n",
      "\n",
      "See the caveats in the documentation: https://pandas.pydata.org/pandas-docs/stable/user_guide/indexing.html#returning-a-view-versus-a-copy\n",
      "\n",
      "/var/folders/v_/l0t8hty96mb527z2jtf6b75r0000gn/T/ipykernel_38945/4071116608.py:15: SettingWithCopyWarning:\n",
      "\n",
      "\n",
      "A value is trying to be set on a copy of a slice from a DataFrame.\n",
      "Try using .loc[row_indexer,col_indexer] = value instead\n",
      "\n",
      "See the caveats in the documentation: https://pandas.pydata.org/pandas-docs/stable/user_guide/indexing.html#returning-a-view-versus-a-copy\n",
      "\n"
     ]
    },
    {
     "name": "stdout",
     "output_type": "stream",
     "text": [
      "2023-03-01T20:10:00.000000000\n",
      "1/1 [==============================] - 0s 7ms/step\n",
      "2023-03-28T02:48:00.000000000\n",
      "1/1 [==============================] - 0s 7ms/step\n"
     ]
    },
    {
     "name": "stderr",
     "output_type": "stream",
     "text": [
      "/var/folders/v_/l0t8hty96mb527z2jtf6b75r0000gn/T/ipykernel_38945/4071116608.py:15: SettingWithCopyWarning:\n",
      "\n",
      "\n",
      "A value is trying to be set on a copy of a slice from a DataFrame.\n",
      "Try using .loc[row_indexer,col_indexer] = value instead\n",
      "\n",
      "See the caveats in the documentation: https://pandas.pydata.org/pandas-docs/stable/user_guide/indexing.html#returning-a-view-versus-a-copy\n",
      "\n",
      "/var/folders/v_/l0t8hty96mb527z2jtf6b75r0000gn/T/ipykernel_38945/4071116608.py:15: SettingWithCopyWarning:\n",
      "\n",
      "\n",
      "A value is trying to be set on a copy of a slice from a DataFrame.\n",
      "Try using .loc[row_indexer,col_indexer] = value instead\n",
      "\n",
      "See the caveats in the documentation: https://pandas.pydata.org/pandas-docs/stable/user_guide/indexing.html#returning-a-view-versus-a-copy\n",
      "\n"
     ]
    },
    {
     "name": "stdout",
     "output_type": "stream",
     "text": [
      "2023-02-05T04:08:00.000000000\n",
      "1/1 [==============================] - 0s 7ms/step\n",
      "2023-03-01T18:59:00.000000000\n",
      "1/1 [==============================] - 0s 8ms/step\n"
     ]
    },
    {
     "name": "stderr",
     "output_type": "stream",
     "text": [
      "/var/folders/v_/l0t8hty96mb527z2jtf6b75r0000gn/T/ipykernel_38945/4071116608.py:15: SettingWithCopyWarning:\n",
      "\n",
      "\n",
      "A value is trying to be set on a copy of a slice from a DataFrame.\n",
      "Try using .loc[row_indexer,col_indexer] = value instead\n",
      "\n",
      "See the caveats in the documentation: https://pandas.pydata.org/pandas-docs/stable/user_guide/indexing.html#returning-a-view-versus-a-copy\n",
      "\n",
      "/var/folders/v_/l0t8hty96mb527z2jtf6b75r0000gn/T/ipykernel_38945/4071116608.py:15: SettingWithCopyWarning:\n",
      "\n",
      "\n",
      "A value is trying to be set on a copy of a slice from a DataFrame.\n",
      "Try using .loc[row_indexer,col_indexer] = value instead\n",
      "\n",
      "See the caveats in the documentation: https://pandas.pydata.org/pandas-docs/stable/user_guide/indexing.html#returning-a-view-versus-a-copy\n",
      "\n"
     ]
    },
    {
     "name": "stdout",
     "output_type": "stream",
     "text": [
      "2023-03-19T21:41:00.000000000\n",
      "1/1 [==============================] - 0s 7ms/step\n",
      "2023-03-19T22:26:00.000000000\n",
      "1/1 [==============================] - 0s 7ms/step\n"
     ]
    },
    {
     "name": "stderr",
     "output_type": "stream",
     "text": [
      "/var/folders/v_/l0t8hty96mb527z2jtf6b75r0000gn/T/ipykernel_38945/4071116608.py:15: SettingWithCopyWarning:\n",
      "\n",
      "\n",
      "A value is trying to be set on a copy of a slice from a DataFrame.\n",
      "Try using .loc[row_indexer,col_indexer] = value instead\n",
      "\n",
      "See the caveats in the documentation: https://pandas.pydata.org/pandas-docs/stable/user_guide/indexing.html#returning-a-view-versus-a-copy\n",
      "\n",
      "/var/folders/v_/l0t8hty96mb527z2jtf6b75r0000gn/T/ipykernel_38945/4071116608.py:15: SettingWithCopyWarning:\n",
      "\n",
      "\n",
      "A value is trying to be set on a copy of a slice from a DataFrame.\n",
      "Try using .loc[row_indexer,col_indexer] = value instead\n",
      "\n",
      "See the caveats in the documentation: https://pandas.pydata.org/pandas-docs/stable/user_guide/indexing.html#returning-a-view-versus-a-copy\n",
      "\n"
     ]
    },
    {
     "name": "stdout",
     "output_type": "stream",
     "text": [
      "2023-02-05T03:19:00.000000000\n",
      "1/1 [==============================] - 0s 7ms/step\n",
      "2023-03-28T04:00:00.000000000\n",
      "1/1 [==============================] - 0s 7ms/step\n"
     ]
    },
    {
     "name": "stderr",
     "output_type": "stream",
     "text": [
      "/var/folders/v_/l0t8hty96mb527z2jtf6b75r0000gn/T/ipykernel_38945/4071116608.py:15: SettingWithCopyWarning:\n",
      "\n",
      "\n",
      "A value is trying to be set on a copy of a slice from a DataFrame.\n",
      "Try using .loc[row_indexer,col_indexer] = value instead\n",
      "\n",
      "See the caveats in the documentation: https://pandas.pydata.org/pandas-docs/stable/user_guide/indexing.html#returning-a-view-versus-a-copy\n",
      "\n",
      "/var/folders/v_/l0t8hty96mb527z2jtf6b75r0000gn/T/ipykernel_38945/4071116608.py:15: SettingWithCopyWarning:\n",
      "\n",
      "\n",
      "A value is trying to be set on a copy of a slice from a DataFrame.\n",
      "Try using .loc[row_indexer,col_indexer] = value instead\n",
      "\n",
      "See the caveats in the documentation: https://pandas.pydata.org/pandas-docs/stable/user_guide/indexing.html#returning-a-view-versus-a-copy\n",
      "\n"
     ]
    },
    {
     "name": "stdout",
     "output_type": "stream",
     "text": [
      "2023-02-05T02:59:00.000000000\n",
      "1/1 [==============================] - 0s 7ms/step\n",
      "2023-03-16T15:08:00.000000000\n",
      "1/1 [==============================] - 0s 7ms/step\n"
     ]
    },
    {
     "name": "stderr",
     "output_type": "stream",
     "text": [
      "/var/folders/v_/l0t8hty96mb527z2jtf6b75r0000gn/T/ipykernel_38945/4071116608.py:15: SettingWithCopyWarning:\n",
      "\n",
      "\n",
      "A value is trying to be set on a copy of a slice from a DataFrame.\n",
      "Try using .loc[row_indexer,col_indexer] = value instead\n",
      "\n",
      "See the caveats in the documentation: https://pandas.pydata.org/pandas-docs/stable/user_guide/indexing.html#returning-a-view-versus-a-copy\n",
      "\n",
      "/var/folders/v_/l0t8hty96mb527z2jtf6b75r0000gn/T/ipykernel_38945/4071116608.py:15: SettingWithCopyWarning:\n",
      "\n",
      "\n",
      "A value is trying to be set on a copy of a slice from a DataFrame.\n",
      "Try using .loc[row_indexer,col_indexer] = value instead\n",
      "\n",
      "See the caveats in the documentation: https://pandas.pydata.org/pandas-docs/stable/user_guide/indexing.html#returning-a-view-versus-a-copy\n",
      "\n"
     ]
    },
    {
     "name": "stdout",
     "output_type": "stream",
     "text": [
      "2023-03-26T02:14:00.000000000\n",
      "1/1 [==============================] - 0s 7ms/step\n",
      "2023-03-26T01:59:00.000000000\n",
      "1/1 [==============================] - 0s 8ms/step\n"
     ]
    },
    {
     "name": "stderr",
     "output_type": "stream",
     "text": [
      "/var/folders/v_/l0t8hty96mb527z2jtf6b75r0000gn/T/ipykernel_38945/4071116608.py:15: SettingWithCopyWarning:\n",
      "\n",
      "\n",
      "A value is trying to be set on a copy of a slice from a DataFrame.\n",
      "Try using .loc[row_indexer,col_indexer] = value instead\n",
      "\n",
      "See the caveats in the documentation: https://pandas.pydata.org/pandas-docs/stable/user_guide/indexing.html#returning-a-view-versus-a-copy\n",
      "\n",
      "/var/folders/v_/l0t8hty96mb527z2jtf6b75r0000gn/T/ipykernel_38945/4071116608.py:15: SettingWithCopyWarning:\n",
      "\n",
      "\n",
      "A value is trying to be set on a copy of a slice from a DataFrame.\n",
      "Try using .loc[row_indexer,col_indexer] = value instead\n",
      "\n",
      "See the caveats in the documentation: https://pandas.pydata.org/pandas-docs/stable/user_guide/indexing.html#returning-a-view-versus-a-copy\n",
      "\n"
     ]
    },
    {
     "name": "stdout",
     "output_type": "stream",
     "text": [
      "2023-03-26T17:09:00.000000000\n",
      "1/1 [==============================] - 0s 7ms/step\n",
      "2023-03-16T14:35:00.000000000\n",
      "1/1 [==============================] - 0s 7ms/step\n"
     ]
    },
    {
     "name": "stderr",
     "output_type": "stream",
     "text": [
      "/var/folders/v_/l0t8hty96mb527z2jtf6b75r0000gn/T/ipykernel_38945/4071116608.py:15: SettingWithCopyWarning:\n",
      "\n",
      "\n",
      "A value is trying to be set on a copy of a slice from a DataFrame.\n",
      "Try using .loc[row_indexer,col_indexer] = value instead\n",
      "\n",
      "See the caveats in the documentation: https://pandas.pydata.org/pandas-docs/stable/user_guide/indexing.html#returning-a-view-versus-a-copy\n",
      "\n",
      "/var/folders/v_/l0t8hty96mb527z2jtf6b75r0000gn/T/ipykernel_38945/4071116608.py:15: SettingWithCopyWarning:\n",
      "\n",
      "\n",
      "A value is trying to be set on a copy of a slice from a DataFrame.\n",
      "Try using .loc[row_indexer,col_indexer] = value instead\n",
      "\n",
      "See the caveats in the documentation: https://pandas.pydata.org/pandas-docs/stable/user_guide/indexing.html#returning-a-view-versus-a-copy\n",
      "\n"
     ]
    },
    {
     "name": "stdout",
     "output_type": "stream",
     "text": [
      "2023-03-26T03:07:00.000000000\n",
      "1/1 [==============================] - 0s 7ms/step\n",
      "2023-02-10T03:04:00.000000000\n",
      "1/1 [==============================] - 0s 7ms/step\n"
     ]
    },
    {
     "name": "stderr",
     "output_type": "stream",
     "text": [
      "/var/folders/v_/l0t8hty96mb527z2jtf6b75r0000gn/T/ipykernel_38945/4071116608.py:15: SettingWithCopyWarning:\n",
      "\n",
      "\n",
      "A value is trying to be set on a copy of a slice from a DataFrame.\n",
      "Try using .loc[row_indexer,col_indexer] = value instead\n",
      "\n",
      "See the caveats in the documentation: https://pandas.pydata.org/pandas-docs/stable/user_guide/indexing.html#returning-a-view-versus-a-copy\n",
      "\n",
      "/var/folders/v_/l0t8hty96mb527z2jtf6b75r0000gn/T/ipykernel_38945/4071116608.py:15: SettingWithCopyWarning:\n",
      "\n",
      "\n",
      "A value is trying to be set on a copy of a slice from a DataFrame.\n",
      "Try using .loc[row_indexer,col_indexer] = value instead\n",
      "\n",
      "See the caveats in the documentation: https://pandas.pydata.org/pandas-docs/stable/user_guide/indexing.html#returning-a-view-versus-a-copy\n",
      "\n"
     ]
    },
    {
     "name": "stdout",
     "output_type": "stream",
     "text": [
      "2023-02-10T02:57:00.000000000\n",
      "1/1 [==============================] - 0s 8ms/step\n",
      "2023-03-26T18:31:00.000000000\n",
      "1/1 [==============================] - 0s 7ms/step\n"
     ]
    },
    {
     "name": "stderr",
     "output_type": "stream",
     "text": [
      "/var/folders/v_/l0t8hty96mb527z2jtf6b75r0000gn/T/ipykernel_38945/4071116608.py:15: SettingWithCopyWarning:\n",
      "\n",
      "\n",
      "A value is trying to be set on a copy of a slice from a DataFrame.\n",
      "Try using .loc[row_indexer,col_indexer] = value instead\n",
      "\n",
      "See the caveats in the documentation: https://pandas.pydata.org/pandas-docs/stable/user_guide/indexing.html#returning-a-view-versus-a-copy\n",
      "\n",
      "/var/folders/v_/l0t8hty96mb527z2jtf6b75r0000gn/T/ipykernel_38945/4071116608.py:15: SettingWithCopyWarning:\n",
      "\n",
      "\n",
      "A value is trying to be set on a copy of a slice from a DataFrame.\n",
      "Try using .loc[row_indexer,col_indexer] = value instead\n",
      "\n",
      "See the caveats in the documentation: https://pandas.pydata.org/pandas-docs/stable/user_guide/indexing.html#returning-a-view-versus-a-copy\n",
      "\n"
     ]
    },
    {
     "name": "stdout",
     "output_type": "stream",
     "text": [
      "2023-03-19T23:01:00.000000000\n",
      "1/1 [==============================] - 0s 7ms/step\n",
      "2023-03-16T13:59:00.000000000\n",
      "1/1 [==============================] - 0s 7ms/step\n"
     ]
    },
    {
     "name": "stderr",
     "output_type": "stream",
     "text": [
      "/var/folders/v_/l0t8hty96mb527z2jtf6b75r0000gn/T/ipykernel_38945/4071116608.py:15: SettingWithCopyWarning:\n",
      "\n",
      "\n",
      "A value is trying to be set on a copy of a slice from a DataFrame.\n",
      "Try using .loc[row_indexer,col_indexer] = value instead\n",
      "\n",
      "See the caveats in the documentation: https://pandas.pydata.org/pandas-docs/stable/user_guide/indexing.html#returning-a-view-versus-a-copy\n",
      "\n",
      "/var/folders/v_/l0t8hty96mb527z2jtf6b75r0000gn/T/ipykernel_38945/4071116608.py:15: SettingWithCopyWarning:\n",
      "\n",
      "\n",
      "A value is trying to be set on a copy of a slice from a DataFrame.\n",
      "Try using .loc[row_indexer,col_indexer] = value instead\n",
      "\n",
      "See the caveats in the documentation: https://pandas.pydata.org/pandas-docs/stable/user_guide/indexing.html#returning-a-view-versus-a-copy\n",
      "\n"
     ]
    },
    {
     "name": "stdout",
     "output_type": "stream",
     "text": [
      "2023-03-26T19:03:00.000000000\n",
      "1/1 [==============================] - 0s 7ms/step\n",
      "2023-03-01T04:32:00.000000000\n",
      "1/1 [==============================] - 0s 7ms/step\n"
     ]
    },
    {
     "name": "stderr",
     "output_type": "stream",
     "text": [
      "/var/folders/v_/l0t8hty96mb527z2jtf6b75r0000gn/T/ipykernel_38945/4071116608.py:15: SettingWithCopyWarning:\n",
      "\n",
      "\n",
      "A value is trying to be set on a copy of a slice from a DataFrame.\n",
      "Try using .loc[row_indexer,col_indexer] = value instead\n",
      "\n",
      "See the caveats in the documentation: https://pandas.pydata.org/pandas-docs/stable/user_guide/indexing.html#returning-a-view-versus-a-copy\n",
      "\n",
      "/var/folders/v_/l0t8hty96mb527z2jtf6b75r0000gn/T/ipykernel_38945/4071116608.py:15: SettingWithCopyWarning:\n",
      "\n",
      "\n",
      "A value is trying to be set on a copy of a slice from a DataFrame.\n",
      "Try using .loc[row_indexer,col_indexer] = value instead\n",
      "\n",
      "See the caveats in the documentation: https://pandas.pydata.org/pandas-docs/stable/user_guide/indexing.html#returning-a-view-versus-a-copy\n",
      "\n"
     ]
    },
    {
     "name": "stdout",
     "output_type": "stream",
     "text": [
      "2023-02-10T01:58:00.000000000\n",
      "1/1 [==============================] - 0s 7ms/step\n",
      "2023-03-06T02:42:00.000000000\n",
      "1/1 [==============================] - 0s 7ms/step\n"
     ]
    },
    {
     "name": "stderr",
     "output_type": "stream",
     "text": [
      "/var/folders/v_/l0t8hty96mb527z2jtf6b75r0000gn/T/ipykernel_38945/4071116608.py:15: SettingWithCopyWarning:\n",
      "\n",
      "\n",
      "A value is trying to be set on a copy of a slice from a DataFrame.\n",
      "Try using .loc[row_indexer,col_indexer] = value instead\n",
      "\n",
      "See the caveats in the documentation: https://pandas.pydata.org/pandas-docs/stable/user_guide/indexing.html#returning-a-view-versus-a-copy\n",
      "\n",
      "/var/folders/v_/l0t8hty96mb527z2jtf6b75r0000gn/T/ipykernel_38945/4071116608.py:15: SettingWithCopyWarning:\n",
      "\n",
      "\n",
      "A value is trying to be set on a copy of a slice from a DataFrame.\n",
      "Try using .loc[row_indexer,col_indexer] = value instead\n",
      "\n",
      "See the caveats in the documentation: https://pandas.pydata.org/pandas-docs/stable/user_guide/indexing.html#returning-a-view-versus-a-copy\n",
      "\n"
     ]
    },
    {
     "name": "stdout",
     "output_type": "stream",
     "text": [
      "2023-03-06T03:03:00.000000000\n",
      "1/1 [==============================] - 0s 7ms/step\n",
      "2023-01-30T05:19:00.000000000\n",
      "1/1 [==============================] - 0s 7ms/step\n"
     ]
    },
    {
     "name": "stderr",
     "output_type": "stream",
     "text": [
      "/var/folders/v_/l0t8hty96mb527z2jtf6b75r0000gn/T/ipykernel_38945/4071116608.py:15: SettingWithCopyWarning:\n",
      "\n",
      "\n",
      "A value is trying to be set on a copy of a slice from a DataFrame.\n",
      "Try using .loc[row_indexer,col_indexer] = value instead\n",
      "\n",
      "See the caveats in the documentation: https://pandas.pydata.org/pandas-docs/stable/user_guide/indexing.html#returning-a-view-versus-a-copy\n",
      "\n",
      "/var/folders/v_/l0t8hty96mb527z2jtf6b75r0000gn/T/ipykernel_38945/4071116608.py:15: SettingWithCopyWarning:\n",
      "\n",
      "\n",
      "A value is trying to be set on a copy of a slice from a DataFrame.\n",
      "Try using .loc[row_indexer,col_indexer] = value instead\n",
      "\n",
      "See the caveats in the documentation: https://pandas.pydata.org/pandas-docs/stable/user_guide/indexing.html#returning-a-view-versus-a-copy\n",
      "\n"
     ]
    },
    {
     "name": "stdout",
     "output_type": "stream",
     "text": [
      "2023-02-20T02:48:00.000000000\n",
      "1/1 [==============================] - 0s 7ms/step\n",
      "2023-01-30T06:10:00.000000000\n",
      "1/1 [==============================] - 0s 7ms/step\n"
     ]
    },
    {
     "name": "stderr",
     "output_type": "stream",
     "text": [
      "/var/folders/v_/l0t8hty96mb527z2jtf6b75r0000gn/T/ipykernel_38945/4071116608.py:15: SettingWithCopyWarning:\n",
      "\n",
      "\n",
      "A value is trying to be set on a copy of a slice from a DataFrame.\n",
      "Try using .loc[row_indexer,col_indexer] = value instead\n",
      "\n",
      "See the caveats in the documentation: https://pandas.pydata.org/pandas-docs/stable/user_guide/indexing.html#returning-a-view-versus-a-copy\n",
      "\n",
      "/var/folders/v_/l0t8hty96mb527z2jtf6b75r0000gn/T/ipykernel_38945/4071116608.py:15: SettingWithCopyWarning:\n",
      "\n",
      "\n",
      "A value is trying to be set on a copy of a slice from a DataFrame.\n",
      "Try using .loc[row_indexer,col_indexer] = value instead\n",
      "\n",
      "See the caveats in the documentation: https://pandas.pydata.org/pandas-docs/stable/user_guide/indexing.html#returning-a-view-versus-a-copy\n",
      "\n"
     ]
    },
    {
     "name": "stdout",
     "output_type": "stream",
     "text": [
      "2023-03-01T05:17:00.000000000\n",
      "1/1 [==============================] - 0s 7ms/step\n",
      "2023-02-20T03:01:00.000000000\n",
      "1/1 [==============================] - 0s 7ms/step\n"
     ]
    },
    {
     "name": "stderr",
     "output_type": "stream",
     "text": [
      "/var/folders/v_/l0t8hty96mb527z2jtf6b75r0000gn/T/ipykernel_38945/4071116608.py:15: SettingWithCopyWarning:\n",
      "\n",
      "\n",
      "A value is trying to be set on a copy of a slice from a DataFrame.\n",
      "Try using .loc[row_indexer,col_indexer] = value instead\n",
      "\n",
      "See the caveats in the documentation: https://pandas.pydata.org/pandas-docs/stable/user_guide/indexing.html#returning-a-view-versus-a-copy\n",
      "\n",
      "/var/folders/v_/l0t8hty96mb527z2jtf6b75r0000gn/T/ipykernel_38945/4071116608.py:15: SettingWithCopyWarning:\n",
      "\n",
      "\n",
      "A value is trying to be set on a copy of a slice from a DataFrame.\n",
      "Try using .loc[row_indexer,col_indexer] = value instead\n",
      "\n",
      "See the caveats in the documentation: https://pandas.pydata.org/pandas-docs/stable/user_guide/indexing.html#returning-a-view-versus-a-copy\n",
      "\n"
     ]
    },
    {
     "name": "stdout",
     "output_type": "stream",
     "text": [
      "2023-03-01T03:59:00.000000000\n",
      "1/1 [==============================] - 0s 7ms/step\n",
      "2023-03-13T01:36:00.000000000\n",
      "1/1 [==============================] - 0s 7ms/step\n"
     ]
    },
    {
     "name": "stderr",
     "output_type": "stream",
     "text": [
      "/var/folders/v_/l0t8hty96mb527z2jtf6b75r0000gn/T/ipykernel_38945/4071116608.py:15: SettingWithCopyWarning:\n",
      "\n",
      "\n",
      "A value is trying to be set on a copy of a slice from a DataFrame.\n",
      "Try using .loc[row_indexer,col_indexer] = value instead\n",
      "\n",
      "See the caveats in the documentation: https://pandas.pydata.org/pandas-docs/stable/user_guide/indexing.html#returning-a-view-versus-a-copy\n",
      "\n",
      "/var/folders/v_/l0t8hty96mb527z2jtf6b75r0000gn/T/ipykernel_38945/4071116608.py:15: SettingWithCopyWarning:\n",
      "\n",
      "\n",
      "A value is trying to be set on a copy of a slice from a DataFrame.\n",
      "Try using .loc[row_indexer,col_indexer] = value instead\n",
      "\n",
      "See the caveats in the documentation: https://pandas.pydata.org/pandas-docs/stable/user_guide/indexing.html#returning-a-view-versus-a-copy\n",
      "\n"
     ]
    },
    {
     "name": "stdout",
     "output_type": "stream",
     "text": [
      "2023-02-02T06:23:00.000000000\n",
      "1/1 [==============================] - 0s 7ms/step\n",
      "2023-01-30T04:57:00.000000000\n",
      "1/1 [==============================] - 0s 7ms/step\n"
     ]
    },
    {
     "name": "stderr",
     "output_type": "stream",
     "text": [
      "/var/folders/v_/l0t8hty96mb527z2jtf6b75r0000gn/T/ipykernel_38945/4071116608.py:15: SettingWithCopyWarning:\n",
      "\n",
      "\n",
      "A value is trying to be set on a copy of a slice from a DataFrame.\n",
      "Try using .loc[row_indexer,col_indexer] = value instead\n",
      "\n",
      "See the caveats in the documentation: https://pandas.pydata.org/pandas-docs/stable/user_guide/indexing.html#returning-a-view-versus-a-copy\n",
      "\n",
      "/var/folders/v_/l0t8hty96mb527z2jtf6b75r0000gn/T/ipykernel_38945/4071116608.py:15: SettingWithCopyWarning:\n",
      "\n",
      "\n",
      "A value is trying to be set on a copy of a slice from a DataFrame.\n",
      "Try using .loc[row_indexer,col_indexer] = value instead\n",
      "\n",
      "See the caveats in the documentation: https://pandas.pydata.org/pandas-docs/stable/user_guide/indexing.html#returning-a-view-versus-a-copy\n",
      "\n"
     ]
    },
    {
     "name": "stdout",
     "output_type": "stream",
     "text": [
      "2023-02-02T07:02:00.000000000\n",
      "1/1 [==============================] - 0s 7ms/step\n",
      "2023-03-13T00:13:00.000000000\n"
     ]
    },
    {
     "name": "stderr",
     "output_type": "stream",
     "text": [
      "/var/folders/v_/l0t8hty96mb527z2jtf6b75r0000gn/T/ipykernel_38945/4071116608.py:15: SettingWithCopyWarning:\n",
      "\n",
      "\n",
      "A value is trying to be set on a copy of a slice from a DataFrame.\n",
      "Try using .loc[row_indexer,col_indexer] = value instead\n",
      "\n",
      "See the caveats in the documentation: https://pandas.pydata.org/pandas-docs/stable/user_guide/indexing.html#returning-a-view-versus-a-copy\n",
      "\n"
     ]
    }
   ],
   "source": [
    "import plotly.express as px\n",
    "\n",
    "hours_graphed = []\n",
    "\n",
    "for i in range(len(matching_indices)):\n",
    "    ap = anomalies_dates_df['original_index'].values[i] #Anomaly Point\n",
    "    time = anomalies_dates_df['datetime'].values[i]\n",
    "    x0 = time\n",
    "    x1 = time + pd.DateOffset(hours = window_size / 60)\n",
    "    hour = df['hour'].values[ap]\n",
    "    if hour not in hours_graphed:\n",
    "        hours_graphed.append(hour)\n",
    "        prediction = autoencoder.predict(data[ap:ap+1])\n",
    "        df_to_graph = df[df['hour'].between(hour - pd.DateOffset(hours = 2), hour + pd.DateOffset(hours = 2))]\n",
    "        df_to_graph['prediction'] = \"\"\n",
    "            # Find the index corresponding to the specified time\n",
    "        index = df_to_graph[df_to_graph['datetime'] == time].index[0]\n",
    "\n",
    "        df_to_graph.loc[index:index+window_size - 1, 'prediction'] = prediction[0]\n",
    "        fig = px.line(df_to_graph, x='datetime', y=\"value\", log_y=False)\n",
    "        fig.add_scatter(x=df_to_graph['datetime'], y=df_to_graph['prediction'], name=\"prediction\")\n",
    "        fig.update_yaxes(ticklabelposition=\"inside top\", title='Webserver request time (ms)')\n",
    "\n",
    "        fig.add_vrect(x0=str(x0), x1=str(x1), annotation_text=\"\", annotation_position=\"top left\",\n",
    "                  fillcolor=\"red\", opacity=0.25, line_width=0)\n",
    "        fig.write_image(f\"images/fig{i + 1}.pdf\")\n",
    "        \n",
    "        fig = px.line(df_to_graph, x='datetime', y=\"value\", log_y=True)\n",
    "        fig.add_scatter(x=df_to_graph['datetime'], y=df_to_graph['prediction'], name=\"prediction\")\n",
    "        fig.update_yaxes(ticklabelposition=\"inside top\", title='Webserver request time (ms)')\n",
    "\n",
    "        fig.add_vrect(x0=str(x0), x1=str(x1), annotation_text=\"\", annotation_position=\"top left\",\n",
    "                  fillcolor=\"red\", opacity=0.25, line_width=0)\n",
    "        fig.write_image(f\"images/fig{i + 1}log.pdf\")\n",
    "        # fig.show()\n",
    "        print(time)\n"
   ]
  },
  {
   "cell_type": "code",
   "execution_count": 43,
   "metadata": {},
   "outputs": [
    {
     "name": "stdout",
     "output_type": "stream",
     "text": [
      "1/1 [==============================] - 0s 7ms/step\n",
      "                  datetime      value                hour        day   \n",
      "370179 2023-02-13 19:00:00  36.928571 2023-02-13 19:00:00 2023-02-13  \\\n",
      "370180 2023-02-13 19:01:00  39.352941 2023-02-13 19:00:00 2023-02-13   \n",
      "370181 2023-02-13 19:02:00  45.298969 2023-02-13 19:00:00 2023-02-13   \n",
      "370182 2023-02-13 19:03:00  51.048387 2023-02-13 19:00:00 2023-02-13   \n",
      "370183 2023-02-13 19:04:00  12.273196 2023-02-13 19:00:00 2023-02-13   \n",
      "...                    ...        ...                 ...        ...   \n",
      "370474 2023-02-13 23:55:00  38.333333 2023-02-13 23:00:00 2023-02-13   \n",
      "370475 2023-02-13 23:56:00  34.538462 2023-02-13 23:00:00 2023-02-13   \n",
      "370476 2023-02-13 23:57:00  34.857143 2023-02-13 23:00:00 2023-02-13   \n",
      "370477 2023-02-13 23:58:00  40.800000 2023-02-13 23:00:00 2023-02-13   \n",
      "370478 2023-02-13 23:59:00  18.000000 2023-02-13 23:00:00 2023-02-13   \n",
      "\n",
      "       prediction  \n",
      "370179             \n",
      "370180             \n",
      "370181             \n",
      "370182             \n",
      "370183             \n",
      "...           ...  \n",
      "370474             \n",
      "370475             \n",
      "370476             \n",
      "370477             \n",
      "370478             \n",
      "\n",
      "[300 rows x 5 columns]\n"
     ]
    },
    {
     "name": "stderr",
     "output_type": "stream",
     "text": [
      "/var/folders/v_/l0t8hty96mb527z2jtf6b75r0000gn/T/ipykernel_38945/3681164813.py:12: SettingWithCopyWarning:\n",
      "\n",
      "\n",
      "A value is trying to be set on a copy of a slice from a DataFrame.\n",
      "Try using .loc[row_indexer,col_indexer] = value instead\n",
      "\n",
      "See the caveats in the documentation: https://pandas.pydata.org/pandas-docs/stable/user_guide/indexing.html#returning-a-view-versus-a-copy\n",
      "\n"
     ]
    },
    {
     "name": "stdout",
     "output_type": "stream",
     "text": [
      "2023-02-13T21:00:00.000000000\n",
      "1/1 [==============================] - 0s 7ms/step\n",
      "                  datetime      value                hour        day   \n",
      "370119 2023-02-13 18:00:00  28.250000 2023-02-13 18:00:00 2023-02-13  \\\n",
      "370120 2023-02-13 18:01:00  45.077922 2023-02-13 18:00:00 2023-02-13   \n",
      "370121 2023-02-13 18:02:00  30.508929 2023-02-13 18:00:00 2023-02-13   \n",
      "370122 2023-02-13 18:03:00  31.500000 2023-02-13 18:00:00 2023-02-13   \n",
      "370123 2023-02-13 18:04:00  54.625000 2023-02-13 18:00:00 2023-02-13   \n",
      "...                    ...        ...                 ...        ...   \n",
      "370414 2023-02-13 22:55:00  23.666667 2023-02-13 22:00:00 2023-02-13   \n",
      "370415 2023-02-13 22:56:00  25.222222 2023-02-13 22:00:00 2023-02-13   \n",
      "370416 2023-02-13 22:57:00  28.777778 2023-02-13 22:00:00 2023-02-13   \n",
      "370417 2023-02-13 22:58:00  10.377358 2023-02-13 22:00:00 2023-02-13   \n",
      "370418 2023-02-13 22:59:00  27.500000 2023-02-13 22:00:00 2023-02-13   \n",
      "\n",
      "       prediction  \n",
      "370119             \n",
      "370120             \n",
      "370121             \n",
      "370122             \n",
      "370123             \n",
      "...           ...  \n",
      "370414             \n",
      "370415             \n",
      "370416             \n",
      "370417             \n",
      "370418             \n",
      "\n",
      "[300 rows x 5 columns]\n"
     ]
    },
    {
     "name": "stderr",
     "output_type": "stream",
     "text": [
      "/var/folders/v_/l0t8hty96mb527z2jtf6b75r0000gn/T/ipykernel_38945/3681164813.py:12: SettingWithCopyWarning:\n",
      "\n",
      "\n",
      "A value is trying to be set on a copy of a slice from a DataFrame.\n",
      "Try using .loc[row_indexer,col_indexer] = value instead\n",
      "\n",
      "See the caveats in the documentation: https://pandas.pydata.org/pandas-docs/stable/user_guide/indexing.html#returning-a-view-versus-a-copy\n",
      "\n"
     ]
    },
    {
     "name": "stdout",
     "output_type": "stream",
     "text": [
      "2023-02-13T20:59:00.000000000\n",
      "1/1 [==============================] - 0s 7ms/step\n",
      "                  datetime      value                hour        day   \n",
      "369039 2023-02-13 00:00:00  67.038462 2023-02-13 00:00:00 2023-02-13  \\\n",
      "369040 2023-02-13 00:01:00  56.666667 2023-02-13 00:00:00 2023-02-13   \n",
      "369041 2023-02-13 00:02:00  34.846154 2023-02-13 00:00:00 2023-02-13   \n",
      "369042 2023-02-13 00:03:00  47.363636 2023-02-13 00:00:00 2023-02-13   \n",
      "369043 2023-02-13 00:04:00  41.794872 2023-02-13 00:00:00 2023-02-13   \n",
      "...                    ...        ...                 ...        ...   \n",
      "369334 2023-02-13 04:55:00   0.000000 2023-02-13 04:00:00 2023-02-13   \n",
      "369335 2023-02-13 04:56:00   0.000000 2023-02-13 04:00:00 2023-02-13   \n",
      "369336 2023-02-13 04:57:00   0.000000 2023-02-13 04:00:00 2023-02-13   \n",
      "369337 2023-02-13 04:58:00   0.000000 2023-02-13 04:00:00 2023-02-13   \n",
      "369338 2023-02-13 04:59:00   0.000000 2023-02-13 04:00:00 2023-02-13   \n",
      "\n",
      "       prediction  \n",
      "369039             \n",
      "369040             \n",
      "369041             \n",
      "369042             \n",
      "369043             \n",
      "...           ...  \n",
      "369334             \n",
      "369335             \n",
      "369336             \n",
      "369337             \n",
      "369338             \n",
      "\n",
      "[300 rows x 5 columns]\n"
     ]
    },
    {
     "name": "stderr",
     "output_type": "stream",
     "text": [
      "/var/folders/v_/l0t8hty96mb527z2jtf6b75r0000gn/T/ipykernel_38945/3681164813.py:12: SettingWithCopyWarning:\n",
      "\n",
      "\n",
      "A value is trying to be set on a copy of a slice from a DataFrame.\n",
      "Try using .loc[row_indexer,col_indexer] = value instead\n",
      "\n",
      "See the caveats in the documentation: https://pandas.pydata.org/pandas-docs/stable/user_guide/indexing.html#returning-a-view-versus-a-copy\n",
      "\n"
     ]
    },
    {
     "name": "stdout",
     "output_type": "stream",
     "text": [
      "2023-02-13T02:25:00.000000000\n",
      "1/1 [==============================] - 0s 7ms/step\n",
      "                  datetime      value                hour        day   \n",
      "369819 2023-02-13 13:00:00  51.988636 2023-02-13 13:00:00 2023-02-13  \\\n",
      "369820 2023-02-13 13:01:00  53.253623 2023-02-13 13:00:00 2023-02-13   \n",
      "369821 2023-02-13 13:02:00  64.760274 2023-02-13 13:00:00 2023-02-13   \n",
      "369822 2023-02-13 13:03:00  53.671329 2023-02-13 13:00:00 2023-02-13   \n",
      "369823 2023-02-13 13:04:00  36.415000 2023-02-13 13:00:00 2023-02-13   \n",
      "...                    ...        ...                 ...        ...   \n",
      "370114 2023-02-13 17:55:00  37.323529 2023-02-13 17:00:00 2023-02-13   \n",
      "370115 2023-02-13 17:56:00  36.140351 2023-02-13 17:00:00 2023-02-13   \n",
      "370116 2023-02-13 17:57:00  46.931034 2023-02-13 17:00:00 2023-02-13   \n",
      "370117 2023-02-13 17:58:00  25.950000 2023-02-13 17:00:00 2023-02-13   \n",
      "370118 2023-02-13 17:59:00  26.901099 2023-02-13 17:00:00 2023-02-13   \n",
      "\n",
      "       prediction  \n",
      "369819             \n",
      "369820             \n",
      "369821             \n",
      "369822             \n",
      "369823             \n",
      "...           ...  \n",
      "370114             \n",
      "370115             \n",
      "370116             \n",
      "370117             \n",
      "370118             \n",
      "\n",
      "[300 rows x 5 columns]\n"
     ]
    },
    {
     "name": "stderr",
     "output_type": "stream",
     "text": [
      "/var/folders/v_/l0t8hty96mb527z2jtf6b75r0000gn/T/ipykernel_38945/3681164813.py:12: SettingWithCopyWarning:\n",
      "\n",
      "\n",
      "A value is trying to be set on a copy of a slice from a DataFrame.\n",
      "Try using .loc[row_indexer,col_indexer] = value instead\n",
      "\n",
      "See the caveats in the documentation: https://pandas.pydata.org/pandas-docs/stable/user_guide/indexing.html#returning-a-view-versus-a-copy\n",
      "\n"
     ]
    },
    {
     "name": "stdout",
     "output_type": "stream",
     "text": [
      "2023-02-13T15:27:00.000000000\n",
      "1/1 [==============================] - 0s 8ms/step\n",
      "                  datetime      value                hour        day   \n",
      "369639 2023-02-13 10:00:00  45.258741 2023-02-13 10:00:00 2023-02-13  \\\n",
      "369640 2023-02-13 10:01:00  52.834951 2023-02-13 10:00:00 2023-02-13   \n",
      "369641 2023-02-13 10:02:00  54.666667 2023-02-13 10:00:00 2023-02-13   \n",
      "369642 2023-02-13 10:03:00  65.420635 2023-02-13 10:00:00 2023-02-13   \n",
      "369643 2023-02-13 10:04:00  46.990338 2023-02-13 10:00:00 2023-02-13   \n",
      "...                    ...        ...                 ...        ...   \n",
      "369934 2023-02-13 14:55:00  42.586538 2023-02-13 14:00:00 2023-02-13   \n",
      "369935 2023-02-13 14:56:00  40.031646 2023-02-13 14:00:00 2023-02-13   \n",
      "369936 2023-02-13 14:57:00  41.018987 2023-02-13 14:00:00 2023-02-13   \n",
      "369937 2023-02-13 14:58:00  41.042553 2023-02-13 14:00:00 2023-02-13   \n",
      "369938 2023-02-13 14:59:00  33.539535 2023-02-13 14:00:00 2023-02-13   \n",
      "\n",
      "       prediction  \n",
      "369639             \n",
      "369640             \n",
      "369641             \n",
      "369642             \n",
      "369643             \n",
      "...           ...  \n",
      "369934             \n",
      "369935             \n",
      "369936             \n",
      "369937             \n",
      "369938             \n",
      "\n",
      "[300 rows x 5 columns]\n",
      "2023-02-13T12:42:00.000000000\n",
      "1/1 [==============================] - 0s 7ms/step\n",
      "                  datetime      value                hour        day   \n",
      "369699 2023-02-13 11:00:00  27.080645 2023-02-13 11:00:00 2023-02-13  \\\n",
      "369700 2023-02-13 11:01:00  47.140000 2023-02-13 11:00:00 2023-02-13   \n",
      "369701 2023-02-13 11:02:00  69.897959 2023-02-13 11:00:00 2023-02-13   \n",
      "369702 2023-02-13 11:03:00  40.800000 2023-02-13 11:00:00 2023-02-13   \n",
      "369703 2023-02-13 11:04:00  50.287356 2023-02-13 11:00:00 2023-02-13   \n",
      "...                    ...        ...                 ...        ...   \n",
      "369994 2023-02-13 15:55:00  36.930636 2023-02-13 15:00:00 2023-02-13   \n",
      "369995 2023-02-13 15:56:00  44.369128 2023-02-13 15:00:00 2023-02-13   \n",
      "369996 2023-02-13 15:57:00  49.993711 2023-02-13 15:00:00 2023-02-13   \n",
      "369997 2023-02-13 15:58:00  35.575581 2023-02-13 15:00:00 2023-02-13   \n",
      "369998 2023-02-13 15:59:00  38.452381 2023-02-13 15:00:00 2023-02-13   \n",
      "\n",
      "       prediction  \n",
      "369699             \n",
      "369700             \n",
      "369701             \n",
      "369702             \n",
      "369703             \n",
      "...           ...  \n",
      "369994             \n",
      "369995             \n",
      "369996             \n",
      "369997             \n",
      "369998             \n",
      "\n",
      "[300 rows x 5 columns]\n"
     ]
    },
    {
     "name": "stderr",
     "output_type": "stream",
     "text": [
      "/var/folders/v_/l0t8hty96mb527z2jtf6b75r0000gn/T/ipykernel_38945/3681164813.py:12: SettingWithCopyWarning:\n",
      "\n",
      "\n",
      "A value is trying to be set on a copy of a slice from a DataFrame.\n",
      "Try using .loc[row_indexer,col_indexer] = value instead\n",
      "\n",
      "See the caveats in the documentation: https://pandas.pydata.org/pandas-docs/stable/user_guide/indexing.html#returning-a-view-versus-a-copy\n",
      "\n",
      "/var/folders/v_/l0t8hty96mb527z2jtf6b75r0000gn/T/ipykernel_38945/3681164813.py:12: SettingWithCopyWarning:\n",
      "\n",
      "\n",
      "A value is trying to be set on a copy of a slice from a DataFrame.\n",
      "Try using .loc[row_indexer,col_indexer] = value instead\n",
      "\n",
      "See the caveats in the documentation: https://pandas.pydata.org/pandas-docs/stable/user_guide/indexing.html#returning-a-view-versus-a-copy\n",
      "\n"
     ]
    },
    {
     "name": "stdout",
     "output_type": "stream",
     "text": [
      "2023-02-13T13:06:00.000000000\n"
     ]
    }
   ],
   "source": [
    "hours_graphed = []\n",
    "for i in range(100):\n",
    "    ap = non_anomalies_dates_df['original_index'].values[i] #Anomaly Point\n",
    "    time = non_anomalies_dates_df['datetime'].values[i]\n",
    "    x0 = time\n",
    "    x1 = time + pd.DateOffset(hours = window_size / 60)\n",
    "    hour = df['hour'].values[ap]\n",
    "    if hour not in hours_graphed:\n",
    "        hours_graphed.append(hour)\n",
    "        prediction = autoencoder.predict(data[ap:ap+1])\n",
    "        df_to_graph = df[df['hour'].between(hour - pd.DateOffset(hours = 2), hour + pd.DateOffset(hours = 2))]\n",
    "        df_to_graph['prediction'] = \"\"\n",
    "            # Find the index corresponding to the specified time\n",
    "        index = df_to_graph[df_to_graph['datetime'] == time].index[0]\n",
    "        print(df_to_graph)\n",
    "\n",
    "        df_to_graph.loc[index:index+window_size - 1, 'prediction'] = prediction[0]\n",
    "        fig = px.line(df_to_graph, x='datetime', y=\"value\", log_y=False)\n",
    "        fig.add_scatter(x=df_to_graph['datetime'], y=df_to_graph['prediction'], name=\"prediction\")\n",
    "        fig.update_yaxes(ticklabelposition=\"inside top\", title='Webserver request time (ms)')\n",
    "\n",
    "        fig.add_vrect(x0=str(x0), x1=str(x1), annotation_text=\"\", annotation_position=\"top left\",\n",
    "                  fillcolor=\"green\", opacity=0.25, line_width=0)\n",
    "        fig.write_image(f\"normal_images/fig{i + 1}.pdf\")\n",
    "        \n",
    "        fig = px.line(df_to_graph, x='datetime', y=\"value\", log_y=True)\n",
    "        fig.add_scatter(x=df_to_graph['datetime'], y=df_to_graph['prediction'], name=\"prediction\")\n",
    "        fig.update_yaxes(ticklabelposition=\"inside top\", title='Webserver request time (ms)')\n",
    "\n",
    "        fig.add_vrect(x0=str(x0), x1=str(x1), annotation_text=\"\", annotation_position=\"top left\",\n",
    "                  fillcolor=\"green\", opacity=0.25, line_width=0)\n",
    "        fig.write_image(f\"normal_images/fig{i + 1}log.pdf\")\n",
    "        # fig.show()\n",
    "        print(time)"
   ]
  },
  {
   "cell_type": "code",
   "execution_count": null,
   "metadata": {},
   "outputs": [],
   "source": []
  }
 ],
 "metadata": {
  "colab": {
   "provenance": []
  },
  "kernelspec": {
   "display_name": "Python 3 (ipykernel)",
   "language": "python",
   "name": "python3"
  },
  "language_info": {
   "codemirror_mode": {
    "name": "ipython",
    "version": 3
   },
   "file_extension": ".py",
   "mimetype": "text/x-python",
   "name": "python",
   "nbconvert_exporter": "python",
   "pygments_lexer": "ipython3",
   "version": "3.10.4"
  }
 },
 "nbformat": 4,
 "nbformat_minor": 1
}
